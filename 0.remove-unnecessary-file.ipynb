{
 "cells": [
  {
   "cell_type": "markdown",
   "metadata": {},
   "source": [
    "# 余計なデータの削除"
   ]
  },
  {
   "cell_type": "markdown",
   "metadata": {},
   "source": [
    "## tensorboard"
   ]
  },
  {
   "cell_type": "code",
   "execution_count": 1,
   "metadata": {},
   "outputs": [],
   "source": [
    "# このステップ以下のファイルは削除する\n",
    "min_step = 5000"
   ]
  },
  {
   "cell_type": "code",
   "execution_count": 2,
   "metadata": {},
   "outputs": [
    {
     "data": {
      "text/plain": [
       "['/root/user/work/logs/copy2copy_gumbel_latent16_epoch20_tau=0.5_k=0.001_x0=10000_TS=2019-Dec-05-10:01:34/events.out.tfevents.1575540096.0f950e7ca074.18825.0',\n",
       " '/root/user/work/logs/copy2copy_gumbel_latent16_epoch20_tau=0.1_k=0.001_x0=10000_TS=2019-Dec-05-10:01:18/events.out.tfevents.1575540080.0f950e7ca074.18714.0',\n",
       " '/root/user/work/logs/copy2copy_gumbel_latent200_epoch20_tau=0.1_k=0.001_x0=10000_TS=2019-Dec-05-10:01:32/events.out.tfevents.1575540094.0f950e7ca074.18743.0']"
      ]
     },
     "execution_count": 2,
     "metadata": {},
     "output_type": "execute_result"
    }
   ],
   "source": [
    "import glob\n",
    "path = '/root/user/work/logs/*/events*'\n",
    "event_file_list = glob.glob(path)\n",
    "event_file_list"
   ]
  },
  {
   "cell_type": "code",
   "execution_count": 3,
   "metadata": {},
   "outputs": [],
   "source": [
    "import pickle\n",
    "from tensorboard.backend.event_processing.event_accumulator import EventAccumulator"
   ]
  },
  {
   "cell_type": "code",
   "execution_count": 4,
   "metadata": {},
   "outputs": [],
   "source": [
    "def extract_scalar_from_event(path):\n",
    "    event_acc = EventAccumulator(path, size_guidance={'scalars': 0})\n",
    "    event_acc.Reload() # ログファイルのサイズによっては非常に時間がかかる\n",
    "    target_key = ['step', 'value', 'wall_time']\n",
    "    scalars = {}\n",
    "    for tag in event_acc.Tags()['scalars']:\n",
    "        events = event_acc.Scalars(tag)\n",
    "        scalars[tag] = [{k: event.__getattribute__(k) for k in target_key} for event in events]\n",
    "    return scalars"
   ]
  },
  {
   "cell_type": "code",
   "execution_count": 5,
   "metadata": {},
   "outputs": [],
   "source": [
    "def extract_values(dict_list, key):\n",
    "    return [_dict[key] for _dict in dict_list]"
   ]
  },
  {
   "cell_type": "code",
   "execution_count": 6,
   "metadata": {},
   "outputs": [],
   "source": [
    "import os\n",
    "import shutil"
   ]
  },
  {
   "cell_type": "code",
   "execution_count": 7,
   "metadata": {},
   "outputs": [
    {
     "name": "stdout",
     "output_type": "stream",
     "text": [
      "2/3: /root/user/work/logs/copy2copy_gumbel_latent200_epoch20_tau=0.1_k=0.001_x0=10000_TS=2019-Dec-05-10:01:32/events.out.tfevents.1575540094.0f950e7ca074.18743.0CPU times: user 4.17 s, sys: 620 ms, total: 4.79 s\n",
      "Wall time: 4.22 s\n"
     ]
    }
   ],
   "source": [
    "%%time\n",
    "step_dict = []\n",
    "for i, event_path in enumerate(event_file_list):\n",
    "    print(f'\\r{i}/{len(event_file_list)}: {event_path}', end='')\n",
    "    event_dict = extract_scalar_from_event(event_path)\n",
    "    event_dir = os.path.dirname(event_path)\n",
    "    step = event_dict['TRAIN/ELBO'][-1]['step'] if event_dict else 0\n",
    "    step_dict.append({\n",
    "        'dir': event_dir,\n",
    "        'path': event_path,\n",
    "        'step': step,\n",
    "    })"
   ]
  },
  {
   "cell_type": "code",
   "execution_count": 8,
   "metadata": {},
   "outputs": [],
   "source": [
    "import pandas as pd"
   ]
  },
  {
   "cell_type": "code",
   "execution_count": 9,
   "metadata": {},
   "outputs": [],
   "source": [
    "df = pd.DataFrame(step_dict)"
   ]
  },
  {
   "cell_type": "code",
   "execution_count": 10,
   "metadata": {},
   "outputs": [
    {
     "data": {
      "text/html": [
       "<div>\n",
       "<style scoped>\n",
       "    .dataframe tbody tr th:only-of-type {\n",
       "        vertical-align: middle;\n",
       "    }\n",
       "\n",
       "    .dataframe tbody tr th {\n",
       "        vertical-align: top;\n",
       "    }\n",
       "\n",
       "    .dataframe thead th {\n",
       "        text-align: right;\n",
       "    }\n",
       "</style>\n",
       "<table border=\"1\" class=\"dataframe\">\n",
       "  <thead>\n",
       "    <tr style=\"text-align: right;\">\n",
       "      <th></th>\n",
       "      <th>dir</th>\n",
       "      <th>path</th>\n",
       "      <th>step</th>\n",
       "    </tr>\n",
       "  </thead>\n",
       "  <tbody>\n",
       "    <tr>\n",
       "      <th>0</th>\n",
       "      <td>/root/user/work/logs/copy2copy_gumbel_latent16...</td>\n",
       "      <td>/root/user/work/logs/copy2copy_gumbel_latent16...</td>\n",
       "      <td>4685</td>\n",
       "    </tr>\n",
       "    <tr>\n",
       "      <th>1</th>\n",
       "      <td>/root/user/work/logs/copy2copy_gumbel_latent16...</td>\n",
       "      <td>/root/user/work/logs/copy2copy_gumbel_latent16...</td>\n",
       "      <td>4804</td>\n",
       "    </tr>\n",
       "    <tr>\n",
       "      <th>2</th>\n",
       "      <td>/root/user/work/logs/copy2copy_gumbel_latent20...</td>\n",
       "      <td>/root/user/work/logs/copy2copy_gumbel_latent20...</td>\n",
       "      <td>4548</td>\n",
       "    </tr>\n",
       "  </tbody>\n",
       "</table>\n",
       "</div>"
      ],
      "text/plain": [
       "                                                 dir  \\\n",
       "0  /root/user/work/logs/copy2copy_gumbel_latent16...   \n",
       "1  /root/user/work/logs/copy2copy_gumbel_latent16...   \n",
       "2  /root/user/work/logs/copy2copy_gumbel_latent20...   \n",
       "\n",
       "                                                path  step  \n",
       "0  /root/user/work/logs/copy2copy_gumbel_latent16...  4685  \n",
       "1  /root/user/work/logs/copy2copy_gumbel_latent16...  4804  \n",
       "2  /root/user/work/logs/copy2copy_gumbel_latent20...  4548  "
      ]
     },
     "execution_count": 10,
     "metadata": {},
     "output_type": "execute_result"
    }
   ],
   "source": [
    "df"
   ]
  },
  {
   "cell_type": "code",
   "execution_count": 11,
   "metadata": {},
   "outputs": [],
   "source": [
    "# for _dir in df[df.step < min_step].dir.tolist():\n",
    "#     print(_dir)\n",
    "#     shutil.rmtree(_dir)"
   ]
  }
 ],
 "metadata": {
  "kernelspec": {
   "display_name": "Python 3",
   "language": "python",
   "name": "python3"
  },
  "language_info": {
   "codemirror_mode": {
    "name": "ipython",
    "version": 3
   },
   "file_extension": ".py",
   "mimetype": "text/x-python",
   "name": "python",
   "nbconvert_exporter": "python",
   "pygments_lexer": "ipython3",
   "version": "3.7.3"
  }
 },
 "nbformat": 4,
 "nbformat_minor": 2
}
