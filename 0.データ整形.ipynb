{
 "cells": [
  {
   "cell_type": "markdown",
   "metadata": {},
   "source": [
    "## データダウンロード"
   ]
  },
  {
   "cell_type": "code",
   "execution_count": 8,
   "metadata": {},
   "outputs": [
    {
     "name": "stdout",
     "output_type": "stream",
     "text": [
      "Copying gs://wakimoto-ramiel/experiments/exp_20191107_kw2title/data/eccos_mecab_tfidf_top3.tgt.train...\n",
      "\\ [1 files][  5.7 MiB/  5.7 MiB]                                                \n",
      "Operation completed over 1 objects/5.7 MiB.                                      \n",
      "Copying gs://wakimoto-ramiel/experiments/exp_20191107_kw2title/data/eccos_mecab_tfidf_top3.tgt.valid...\n",
      "/ [1 files][ 58.7 KiB/ 58.7 KiB]                                                \n",
      "Operation completed over 1 objects/58.7 KiB.                                     \n",
      "Copying gs://wakimoto-ramiel/experiments/exp_20191107_kw2title/data/eccos_mecab_tfidf_top3.tgt.test...\n",
      "| [1 files][  5.7 MiB/  5.7 MiB]                                                \n",
      "Operation completed over 1 objects/5.7 MiB.                                      \n",
      "Copying gs://wakimoto-ramiel/experiments/exp_20191107_kw2title/data/eccos_mecab_tfidf_top3.src.train...\n",
      "- [1 files][  1.2 MiB/  1.2 MiB]                                                \n",
      "Operation completed over 1 objects/1.2 MiB.                                      \n",
      "Copying gs://wakimoto-ramiel/experiments/exp_20191107_kw2title/data/eccos_mecab_tfidf_top3.src.valid...\n",
      "/ [1 files][ 12.9 KiB/ 12.9 KiB]                                                \n",
      "Operation completed over 1 objects/12.9 KiB.                                     \n",
      "Copying gs://wakimoto-ramiel/experiments/exp_20191107_kw2title/data/eccos_mecab_tfidf_top3.src.test...\n",
      "- [1 files][  1.2 MiB/  1.2 MiB]                                                \n",
      "Operation completed over 1 objects/1.2 MiB.                                      \n"
     ]
    }
   ],
   "source": [
    "# ! mkdir ./data/eccos/\n",
    "! gsutil cp gs://wakimoto-ramiel/experiments/exp_20191107_kw2title/data/eccos_mecab_tfidf_top3.tgt.train ./data/eccos/\n",
    "! gsutil cp gs://wakimoto-ramiel/experiments/exp_20191107_kw2title/data/eccos_mecab_tfidf_top3.tgt.valid ./data/eccos/\n",
    "! gsutil cp gs://wakimoto-ramiel/experiments/exp_20191107_kw2title/data/eccos_mecab_tfidf_top3.tgt.test ./data/eccos/\n",
    "! gsutil cp gs://wakimoto-ramiel/experiments/exp_20191107_kw2title/data/eccos_mecab_tfidf_top3.src.train ./data/eccos/\n",
    "! gsutil cp gs://wakimoto-ramiel/experiments/exp_20191107_kw2title/data/eccos_mecab_tfidf_top3.src.valid ./data/eccos/    \n",
    "! gsutil cp gs://wakimoto-ramiel/experiments/exp_20191107_kw2title/data/eccos_mecab_tfidf_top3.src.test ./data/eccos/    "
   ]
  },
  {
   "cell_type": "markdown",
   "metadata": {},
   "source": [
    "## データ整形"
   ]
  },
  {
   "cell_type": "code",
   "execution_count": 4,
   "metadata": {},
   "outputs": [],
   "source": [
    "def readlines(path):\n",
    "    with open(path, 'r') as f:\n",
    "        return [s.replace('\\n', '') for s in f.readlines()]"
   ]
  },
  {
   "cell_type": "code",
   "execution_count": 10,
   "metadata": {},
   "outputs": [
    {
     "name": "stdout",
     "output_type": "stream",
     "text": [
      "data loaded （train:48011, valid:500, test:48511）\n"
     ]
    }
   ],
   "source": [
    "readlines_by_type = lambda _type: readlines(f'./data/eccos/eccos_mecab_tfidf_top3.tgt.{_type}')\n",
    "train_lines = readlines_by_type('train')\n",
    "valid_lines = readlines_by_type('valid')\n",
    "test_lines = readlines_by_type('test')\n",
    "print(f'data loaded （train:{len(train_lines)}, valid:{len(valid_lines)}, test:{len(test_lines)}）')\n",
    "# check_data_valid(train_lines, valid_lines, test_lines)"
   ]
  },
  {
   "cell_type": "markdown",
   "metadata": {},
   "source": [
    "eccosデータだとtrain, valid, testで重複あるので注意"
   ]
  },
  {
   "cell_type": "code",
   "execution_count": 11,
   "metadata": {},
   "outputs": [],
   "source": [
    "def check_data_valid(train_lines, valid_lines, test_lines):\n",
    "    train_set = set(train_lines)\n",
    "    valid_set = set(valid_lines)\n",
    "    test_set = set(test_lines)\n",
    "    assert len(train_lines) == len(train_set)\n",
    "    assert len(valid_lines) == len(valid_set)\n",
    "    assert len(test_lines) == len(test_set)\n",
    "    assert len(train_set & valid_set) == 0, f'train, valid は被ってはいけない {len(train_set & valid_set)}件重複'\n",
    "    assert len(train_set & test_set) == 0, f'train, test は被ってはいけない {len(train_set & test_set)}件重複'\n",
    "    assert len(valid_set & test_set) == 0, f'valid, test は被ってはいけない {len(valid_set & test_set)}件重複'"
   ]
  },
  {
   "cell_type": "markdown",
   "metadata": {},
   "source": [
    "### ⛄ eccos限定処理： trainを3分割"
   ]
  },
  {
   "cell_type": "code",
   "execution_count": 13,
   "metadata": {},
   "outputs": [],
   "source": [
    "lines = readlines(f'./data/eccos/eccos_mecab_tfidf_top3.tgt.train')\n",
    "kws = readlines(f'./data/eccos/eccos_mecab_tfidf_top3.src.train')"
   ]
  },
  {
   "cell_type": "code",
   "execution_count": 15,
   "metadata": {},
   "outputs": [],
   "source": [
    "from sklearn.model_selection import train_test_split\n",
    "def extract_src_tgt(src_tgt_list):\n",
    "    src_list = [src for src, tgt in src_tgt_list]\n",
    "    tgt_list = [tgt for src, tgt in src_tgt_list]\n",
    "    return src_list, tgt_list\n",
    "\n",
    "def split_train_valid_test(src_list, tgt_list):\n",
    "    assert len(src_list) == len(tgt_list)\n",
    "    src_tgt_list = list(zip(src_list, tgt_list))\n",
    "    train_valid, test = train_test_split(src_tgt_list, train_size=0.8, test_size=0.2)\n",
    "    train, valid = train_test_split(train_valid, train_size=0.8, test_size=0.2)\n",
    "    print(f'split train:{len(train)}, valid:{len(valid)}, test:{len(test)}')\n",
    "    train_src, train_tgt = extract_src_tgt(train)\n",
    "    valid_src, valid_tgt = extract_src_tgt(valid)    \n",
    "    test_src, test_tgt = extract_src_tgt(test) \n",
    "    return train_src, train_tgt, valid_src, valid_tgt, test_src, test_tgt"
   ]
  },
  {
   "cell_type": "code",
   "execution_count": 17,
   "metadata": {},
   "outputs": [
    {
     "name": "stdout",
     "output_type": "stream",
     "text": [
      "split train:30726, valid:7682, test:9603\n"
     ]
    }
   ],
   "source": [
    "train_src, train_tgt, valid_src, valid_tgt, test_src, test_tgt = split_train_valid_test(kws, lines)\n",
    "check_data_valid(train_tgt, valid_tgt, test_tgt)"
   ]
  },
  {
   "cell_type": "code",
   "execution_count": 42,
   "metadata": {},
   "outputs": [],
   "source": [
    "pd.set_option(\"display.max_colwidth\", 500) # 1セルに500文字入る\n",
    "pd.set_option(\"display.max_rows\", 100) # 100行表示できる"
   ]
  },
  {
   "cell_type": "code",
   "execution_count": 47,
   "metadata": {
    "scrolled": false
   },
   "outputs": [
    {
     "data": {
      "text/html": [
       "<div>\n",
       "<style scoped>\n",
       "    .dataframe tbody tr th:only-of-type {\n",
       "        vertical-align: middle;\n",
       "    }\n",
       "\n",
       "    .dataframe tbody tr th {\n",
       "        vertical-align: top;\n",
       "    }\n",
       "\n",
       "    .dataframe thead th {\n",
       "        text-align: right;\n",
       "    }\n",
       "</style>\n",
       "<table border=\"1\" class=\"dataframe\">\n",
       "  <thead>\n",
       "    <tr style=\"text-align: right;\">\n",
       "      <th></th>\n",
       "      <th>src</th>\n",
       "      <th>tgt-text</th>\n",
       "    </tr>\n",
       "  </thead>\n",
       "  <tbody>\n",
       "    <tr>\n",
       "      <th>17018</th>\n",
       "      <td>引き算 近道 美肌</td>\n",
       "      <td>美肌への近道は「引き算」でした!満足度&lt;num&gt;%のスキンケアアイテム</td>\n",
       "    </tr>\n",
       "    <tr>\n",
       "      <th>23083</th>\n",
       "      <td>声 多数 買う</td>\n",
       "      <td>買ってよかった!の声多数。ぷるぷる唇をつくる&lt;person&gt;「ルージュティント」全色レビュー</td>\n",
       "    </tr>\n",
       "    <tr>\n",
       "      <th>5492</th>\n",
       "      <td>吹っ飛ぶ 憂鬱 気分</td>\n",
       "      <td>ああ、これが五月病?憂鬱な気分を吹っ飛ばして、明日の楽しみを迎えに行きましょう♩</td>\n",
       "    </tr>\n",
       "    <tr>\n",
       "      <th>13722</th>\n",
       "      <td>増量 送料 無料</td>\n",
       "      <td>約&lt;num&gt;日分増量中!+送料無料</td>\n",
       "    </tr>\n",
       "    <tr>\n",
       "      <th>27514</th>\n",
       "      <td>時代 モテる 女の子</td>\n",
       "      <td>「女の子はおバカな方がモテるんだよ」っていつの時代の話?‘自分らしさ'を大切にしながら、愛され&lt;person&gt;になりましょう。</td>\n",
       "    </tr>\n",
       "    <tr>\n",
       "      <th>4805</th>\n",
       "      <td>話 気づく 夜</td>\n",
       "      <td>気づけば夜。でも話足りない、そんな日もありますよね♡``夜カフェ\"でゆっくり夜の時間を楽しみましょう!</td>\n",
       "    </tr>\n",
       "    <tr>\n",
       "      <th>5990</th>\n",
       "      <td>クッション スキンケア 毛穴</td>\n",
       "      <td>毛穴かくれんぼしながらスキンケア。薄型クッションファンデ</td>\n",
       "    </tr>\n",
       "    <tr>\n",
       "      <th>22169</th>\n",
       "      <td>サイズ プラス ダイエット</td>\n",
       "      <td>「ナイキ」のプラスサイズマネキンに賛否両論ダイエット会社&lt;person&gt;は「社会にポジティブな影響」と支持</td>\n",
       "    </tr>\n",
       "    <tr>\n",
       "      <th>20913</th>\n",
       "      <td>私服 毎日 おしゃれ</td>\n",
       "      <td>毎日、おしゃれな私服ってしんどくない?シーンに合わせた&lt;person&gt;/offコーデで頑張らずにおしゃれ&lt;person&gt;に♡</td>\n",
       "    </tr>\n",
       "    <tr>\n",
       "      <th>30557</th>\n",
       "      <td>密着 ひと まつ毛</td>\n",
       "      <td>ひと塗りでまつ毛にも密着!長時間ロングまつ毛をキープ</td>\n",
       "    </tr>\n",
       "  </tbody>\n",
       "</table>\n",
       "</div>"
      ],
      "text/plain": [
       "                  src  \\\n",
       "17018       引き算 近道 美肌   \n",
       "23083         声 多数 買う   \n",
       "5492       吹っ飛ぶ 憂鬱 気分   \n",
       "13722        増量 送料 無料   \n",
       "27514      時代 モテる 女の子   \n",
       "4805          話 気づく 夜   \n",
       "5990   クッション スキンケア 毛穴   \n",
       "22169   サイズ プラス ダイエット   \n",
       "20913      私服 毎日 おしゃれ   \n",
       "30557       密着 ひと まつ毛   \n",
       "\n",
       "                                                              tgt-text  \n",
       "17018                              美肌への近道は「引き算」でした!満足度<num>%のスキンケアアイテム  \n",
       "23083                   買ってよかった!の声多数。ぷるぷる唇をつくる<person>「ルージュティント」全色レビュー  \n",
       "5492                          ああ、これが五月病?憂鬱な気分を吹っ飛ばして、明日の楽しみを迎えに行きましょう♩  \n",
       "13722                                                約<num>日分増量中!+送料無料  \n",
       "27514  「女の子はおバカな方がモテるんだよ」っていつの時代の話?‘自分らしさ'を大切にしながら、愛され<person>になりましょう。  \n",
       "4805               気づけば夜。でも話足りない、そんな日もありますよね♡``夜カフェ\"でゆっくり夜の時間を楽しみましょう!  \n",
       "5990                                      毛穴かくれんぼしながらスキンケア。薄型クッションファンデ  \n",
       "22169            「ナイキ」のプラスサイズマネキンに賛否両論ダイエット会社<person>は「社会にポジティブな影響」と支持  \n",
       "20913   毎日、おしゃれな私服ってしんどくない?シーンに合わせた<person>/offコーデで頑張らずにおしゃれ<person>に♡  \n",
       "30557                                       ひと塗りでまつ毛にも密着!長時間ロングまつ毛をキープ  "
      ]
     },
     "execution_count": 47,
     "metadata": {},
     "output_type": "execute_result"
    }
   ],
   "source": [
    "import pandas as pd\n",
    "df = pd.DataFrame({'src': train_src, 'tgt': train_tgt})\n",
    "df['tgt-text'] = df.tgt.apply(lambda t: t.replace(' ', ''))\n",
    "df.sample(10)[['src', 'tgt-text']]"
   ]
  },
  {
   "cell_type": "code",
   "execution_count": 23,
   "metadata": {},
   "outputs": [],
   "source": [
    "def save_lines(lines, path):\n",
    "    with open(path, 'w') as f:\n",
    "        f.write('\\n'.join(lines))"
   ]
  },
  {
   "cell_type": "code",
   "execution_count": 24,
   "metadata": {},
   "outputs": [],
   "source": [
    "# ! rm ./data/eccos/ptb.train.json ./data/eccos/ptb.valid.json ./data/eccos/ptb.vocab.json "
   ]
  },
  {
   "cell_type": "code",
   "execution_count": 41,
   "metadata": {},
   "outputs": [],
   "source": [
    "! mkdir ./data/eccos/tgt\n",
    "! mkdir ./data/eccos/src\n",
    "save_lines(train_tgt, './data/eccos/tgt/ptb.train.txt')\n",
    "save_lines(valid_tgt, './data/eccos/tgt/ptb.valid.txt')\n",
    "save_lines(test_tgt, './data/eccos/tgt/ptb.test.txt')\n",
    "save_lines(train_src, './data/eccos/src/ptb.train.txt')\n",
    "save_lines(valid_src, './data/eccos/src/ptb.valid.txt')\n",
    "save_lines(test_src, './data/eccos/src/ptb.test.txt')"
   ]
  },
  {
   "cell_type": "markdown",
   "metadata": {},
   "source": [
    "## 文長分析\n",
    "\n",
    "`max_sequence_length` 用"
   ]
  },
  {
   "cell_type": "code",
   "execution_count": 30,
   "metadata": {},
   "outputs": [],
   "source": [
    "import pandas as pd\n",
    "pd.set_option(\"display.max_colwidth\", 500)\n",
    "pd.set_option(\"display.max_rows\", 101)\n",
    "import matplotlib.pyplot as plt\n",
    "plt.style.use('ggplot')"
   ]
  },
  {
   "cell_type": "code",
   "execution_count": 31,
   "metadata": {},
   "outputs": [],
   "source": [
    "def plot_word_count(lines, normalize=False, label=None):\n",
    "    lines = list(set(lines))\n",
    "    words_list = [line.split(' ') for line in lines]\n",
    "    df_line = pd.DataFrame({'line':lines, 'words':words_list})\n",
    "    df_line['word_count'] = df_line.words.apply(lambda ws: len(ws))\n",
    "    \n",
    "    ser_word_count = df_line.groupby('word_count').count().line\n",
    "    ser_word_count = ser_word_count/df_line.shape[0] if normalize else ser_word_count\n",
    "    ser_word_count.plot(alpha=0.5, label=label)\n",
    "    return df_line"
   ]
  },
  {
   "cell_type": "code",
   "execution_count": 32,
   "metadata": {},
   "outputs": [
    {
     "data": {
      "image/png": "[encoded data removed]",
      "text/plain": [
       "<Figure size 432x288 with 1 Axes>"
      ]
     },
     "metadata": {},
     "output_type": "display_data"
    }
   ],
   "source": [
    "all_tgt = train_tgt + valid_tgt + test_tgt\n",
    "df_line = plot_word_count(all_tgt)\n",
    "plt.savefig('./figs/eccos_word_count.png', dpi=120)"
   ]
  },
  {
   "cell_type": "code",
   "execution_count": 34,
   "metadata": {},
   "outputs": [
    {
     "data": {
      "text/plain": [
       "<matplotlib.legend.Legend at 0x1a2186ffd0>"
      ]
     },
     "execution_count": 34,
     "metadata": {},
     "output_type": "execute_result"
    },
    {
     "data": {
      "image/png": "[encoded data removed]",
      "text/plain": [
       "<Figure size 432x288 with 1 Axes>"
      ]
     },
     "metadata": {},
     "output_type": "display_data"
    }
   ],
   "source": [
    "_ = plot_word_count(train_tgt, normalize=True, label='train_tgt')\n",
    "_ = plot_word_count(valid_tgt, normalize=True, label='valid_tgt')\n",
    "_ = plot_word_count(test_tgt, normalize=True, label='test_tgt')\n",
    "\n",
    "plt.legend()"
   ]
  },
  {
   "cell_type": "code",
   "execution_count": 165,
   "metadata": {},
   "outputs": [
    {
     "name": "stdout",
     "output_type": "stream",
     "text": [
      "example train:42068, valid:3370, test:3761\n"
     ]
    }
   ],
   "source": [
    "exam_lines_train = readlines('./data/simple-examples/ptb.train.txt')\n",
    "exam_lines_valid = readlines('./data/simple-examples/ptb.valid.txt')\n",
    "exam_lines_test = readlines('./data/simple-examples/ptb.test.txt')\n",
    "print(f'example train:{len(exam_lines_train)}, valid:{len(exam_lines_valid)}, test:{len(exam_lines_test)}')"
   ]
  },
  {
   "cell_type": "code",
   "execution_count": 166,
   "metadata": {},
   "outputs": [
    {
     "name": "stdout",
     "output_type": "stream",
     "text": [
      "simple-examples train lines: 42068\n"
     ]
    },
    {
     "data": {
      "image/png": "[encoded data removed]",
      "text/plain": [
       "<Figure size 432x288 with 1 Axes>"
      ]
     },
     "metadata": {},
     "output_type": "display_data"
    }
   ],
   "source": [
    "print(f'simple-examples train lines: {len(exam_lines)}')\n",
    "_ = plot_word_count(all_lines)\n",
    "_ = plot_word_count(exam_lines)"
   ]
  },
  {
   "cell_type": "markdown",
   "metadata": {},
   "source": [
    "### 👀 文長ごとのコピーはどんなものかの確認"
   ]
  },
  {
   "cell_type": "code",
   "execution_count": 167,
   "metadata": {},
   "outputs": [
    {
     "data": {
      "text/html": [
       "<div>\n",
       "<style scoped>\n",
       "    .dataframe tbody tr th:only-of-type {\n",
       "        vertical-align: middle;\n",
       "    }\n",
       "\n",
       "    .dataframe tbody tr th {\n",
       "        vertical-align: top;\n",
       "    }\n",
       "\n",
       "    .dataframe thead th {\n",
       "        text-align: right;\n",
       "    }\n",
       "</style>\n",
       "<table border=\"1\" class=\"dataframe\">\n",
       "  <thead>\n",
       "    <tr style=\"text-align: right;\">\n",
       "      <th></th>\n",
       "      <th>line</th>\n",
       "      <th>words</th>\n",
       "      <th>word_count</th>\n",
       "    </tr>\n",
       "  </thead>\n",
       "  <tbody>\n",
       "    <tr>\n",
       "      <th>92</th>\n",
       "      <td>お 買い物 は 至福 の 時間 な のに 、 いつも お 財布 と 相談 し ながら しない と いけ ない 。 ショッピング 上手 に なる ため の チェックリスト を 活用 し て 、 スマート に お 買い物 を し ましょ う !</td>\n",
       "      <td>[お, 買い物, は, 至福, の, 時間, な, のに, 、, いつも, お, 財布, と, 相談, し, ながら, しない, と, いけ, ない, 。, ショッピング, 上手, に, なる, ため, の, チェックリスト, を, 活用, し, て, 、, スマート, に, お, 買い物, を, し, ましょ, う, !]</td>\n",
       "      <td>42</td>\n",
       "    </tr>\n",
       "    <tr>\n",
       "      <th>99</th>\n",
       "      <td>月 に 一 度 の 待ち に 待ちわび た 、 給料日 が 今月 も やってき た ー ! 今月 の お 給料 は 、 &lt;num&gt; aw の 自己投資 と ゲット す べき アイテム に 使っ て み ませ ん か ?</td>\n",
       "      <td>[月, に, 一, 度, の, 待ち, に, 待ちわび, た, 、, 給料日, が, 今月, も, やってき, た, ー, !, 今月, の, お, 給料, は, 、, &lt;num&gt;, aw, の, 自己投資, と, ゲット, す, べき, アイテム, に, 使っ, て, み, ませ, ん, か, ?]</td>\n",
       "      <td>41</td>\n",
       "    </tr>\n",
       "    <tr>\n",
       "      <th>165</th>\n",
       "      <td>「 毛穴 は 一体 どこ に ある の ?」 と 言い たく なる くらい 綺麗 な お 肌 の 秘密 は 、 ナイト ケア に ある みたい 。 &lt;num&gt; つ の 肌 活 で 、 誰か ら も 羨まし がら れる 素肌 を 手 に 入れ ましょ う ♡</td>\n",
       "      <td>[「, 毛穴, は, 一体, どこ, に, ある, の, ?」, と, 言い, たく, なる, くらい, 綺麗, な, お, 肌, の, 秘密, は, 、, ナイト, ケア, に, ある, みたい, 。, &lt;num&gt;, つ, の, 肌, 活, で, 、, 誰か, ら, も, 羨まし, がら, れる, 素肌, を, 手, に, 入れ, ましょ, う, ♡]</td>\n",
       "      <td>49</td>\n",
       "    </tr>\n",
       "  </tbody>\n",
       "</table>\n",
       "</div>"
      ],
      "text/plain": [
       "                                                                                                                                 line  \\\n",
       "92           お 買い物 は 至福 の 時間 な のに 、 いつも お 財布 と 相談 し ながら しない と いけ ない 。 ショッピング 上手 に なる ため の チェックリスト を 活用 し て 、 スマート に お 買い物 を し ましょ う !   \n",
       "99                      月 に 一 度 の 待ち に 待ちわび た 、 給料日 が 今月 も やってき た ー ! 今月 の お 給料 は 、 <num> aw の 自己投資 と ゲット す べき アイテム に 使っ て み ませ ん か ?   \n",
       "165  「 毛穴 は 一体 どこ に ある の ?」 と 言い たく なる くらい 綺麗 な お 肌 の 秘密 は 、 ナイト ケア に ある みたい 。 <num> つ の 肌 活 で 、 誰か ら も 羨まし がら れる 素肌 を 手 に 入れ ましょ う ♡   \n",
       "\n",
       "                                                                                                                                                                                  words  \\\n",
       "92                  [お, 買い物, は, 至福, の, 時間, な, のに, 、, いつも, お, 財布, と, 相談, し, ながら, しない, と, いけ, ない, 。, ショッピング, 上手, に, なる, ため, の, チェックリスト, を, 活用, し, て, 、, スマート, に, お, 買い物, を, し, ましょ, う, !]   \n",
       "99                              [月, に, 一, 度, の, 待ち, に, 待ちわび, た, 、, 給料日, が, 今月, も, やってき, た, ー, !, 今月, の, お, 給料, は, 、, <num>, aw, の, 自己投資, と, ゲット, す, べき, アイテム, に, 使っ, て, み, ませ, ん, か, ?]   \n",
       "165  [「, 毛穴, は, 一体, どこ, に, ある, の, ?」, と, 言い, たく, なる, くらい, 綺麗, な, お, 肌, の, 秘密, は, 、, ナイト, ケア, に, ある, みたい, 。, <num>, つ, の, 肌, 活, で, 、, 誰か, ら, も, 羨まし, がら, れる, 素肌, を, 手, に, 入れ, ましょ, う, ♡]   \n",
       "\n",
       "     word_count  \n",
       "92           42  \n",
       "99           41  \n",
       "165          49  "
      ]
     },
     "execution_count": 167,
     "metadata": {},
     "output_type": "execute_result"
    }
   ],
   "source": [
    "df_line[df_line.word_count > 40][:3]"
   ]
  }
 ],
 "metadata": {
  "kernelspec": {
   "display_name": "Python 3",
   "language": "python",
   "name": "python3"
  },
  "language_info": {
   "codemirror_mode": {
    "name": "ipython",
    "version": 3
   },
   "file_extension": ".py",
   "mimetype": "text/x-python",
   "name": "python",
   "nbconvert_exporter": "python",
   "pygments_lexer": "ipython3",
   "version": "3.7.2"
  }
 },
 "nbformat": 4,
 "nbformat_minor": 2
}
