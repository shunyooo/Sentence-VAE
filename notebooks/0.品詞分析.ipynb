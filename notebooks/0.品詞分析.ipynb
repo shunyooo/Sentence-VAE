{
 "cells": [
  {
   "cell_type": "markdown",
   "metadata": {},
   "source": [
    "# 品詞分析\n",
    "\n",
    "POS-VAEにおいて入力する品詞が\n",
    "- どれだけの粒度であるべきか\n",
    "- 処理等必要か\n",
    "- いらない品詞等あるか"
   ]
  },
  {
   "cell_type": "code",
   "execution_count": 1,
   "metadata": {},
   "outputs": [],
   "source": [
    "import init"
   ]
  },
  {
   "cell_type": "code",
   "execution_count": 2,
   "metadata": {},
   "outputs": [],
   "source": [
    "import pandas as pd\n",
    "df = pd.read_pickle('../data/eccos_v2/df_cosme_parsed.pickle')"
   ]
  },
  {
   "cell_type": "code",
   "execution_count": 7,
   "metadata": {},
   "outputs": [],
   "source": [
    "# df"
   ]
  },
  {
   "cell_type": "markdown",
   "metadata": {},
   "source": [
    "## 名詞ごとに集計"
   ]
  },
  {
   "cell_type": "code",
   "execution_count": 8,
   "metadata": {},
   "outputs": [
    {
     "data": {
      "text/plain": [
       "49552"
      ]
     },
     "execution_count": 8,
     "metadata": {},
     "output_type": "execute_result"
    }
   ],
   "source": [
    "len(df.mecab_tagged_text.tolist())"
   ]
  },
  {
   "cell_type": "code",
   "execution_count": 44,
   "metadata": {},
   "outputs": [
    {
     "name": "stdout",
     "output_type": "stream",
     "text": [
      "CPU times: user 490 ms, sys: 56.1 ms, total: 546 ms\n",
      "Wall time: 544 ms\n"
     ]
    }
   ],
   "source": [
    "%%time\n",
    "pos_token_list =[]\n",
    "for i, tags in enumerate(df.mecab_tagged_text.tolist()):\n",
    "    for tag in tags:\n",
    "        pos_token_list.append({'pos': tag['pos_list'], 'origin': tag['origin']})"
   ]
  },
  {
   "cell_type": "code",
   "execution_count": 100,
   "metadata": {},
   "outputs": [],
   "source": [
    "df_pos = pd.DataFrame(pos_token_list)\n",
    "df_pos['count'] = 1\n",
    "df_pos_sample = df_pos.drop_duplicates('pos').set_index('pos')[['origin']]\n",
    "df_pos_count = df_pos.groupby('pos').count()[['count']]\n",
    "df_pos_count = pd.merge(df_pos_sample, df_pos_count, left_index=True, right_index=True).sort_values('count', ascending=False)"
   ]
  },
  {
   "cell_type": "code",
   "execution_count": 101,
   "metadata": {},
   "outputs": [
    {
     "data": {
      "text/plain": [
       "7223"
      ]
     },
     "execution_count": 101,
     "metadata": {},
     "output_type": "execute_result"
    }
   ],
   "source": [
    "# df_pos = df_pos.reset_index()\n",
    "len(set(df_pos[df_pos.pos == '名詞-一般'].origin.tolist()))"
   ]
  },
  {
   "cell_type": "code",
   "execution_count": 115,
   "metadata": {},
   "outputs": [
    {
     "name": "stdout",
     "output_type": "stream",
     "text": [
      "CPU times: user 8.24 s, sys: 0 ns, total: 8.24 s\n",
      "Wall time: 8.23 s\n"
     ]
    }
   ],
   "source": [
    "%%time\n",
    "import random\n",
    "pos_set_count_list = []\n",
    "for pos in df_pos_count.reset_index().pos.tolist():\n",
    "    token_list = df_pos[df_pos.pos == pos].origin.tolist()\n",
    "    token_set = set(token_list)\n",
    "    pos_set_count_list.append({'pos': pos, 'set_count': len(token_set), 'sample': ', '.join(random.sample(token_set, min(5, len(token_set))))})\n",
    "df_pos_set_count = pd.DataFrame(pos_set_count_list)"
   ]
  },
  {
   "cell_type": "code",
   "execution_count": 116,
   "metadata": {},
   "outputs": [],
   "source": [
    "df_parsed = df_pos_count.reset_index().merge(df_pos_set_count, on='pos', how='outer')"
   ]
  },
  {
   "cell_type": "code",
   "execution_count": 118,
   "metadata": {},
   "outputs": [],
   "source": [
    "koyuu_noun_key = ['名詞-一般', '名詞-固有名詞-一般', '名詞-固有名詞-人名-一般', '名詞-固有名詞-組織', '名詞-固有名詞-人名-名', \n",
    "                  '名詞-固有名詞-地域-一般', '名詞-固有名詞-人名-姓', ]"
   ]
  },
  {
   "cell_type": "code",
   "execution_count": 120,
   "metadata": {},
   "outputs": [
    {
     "data": {
      "text/html": [
       "<div>\n",
       "<style scoped>\n",
       "    .dataframe tbody tr th:only-of-type {\n",
       "        vertical-align: middle;\n",
       "    }\n",
       "\n",
       "    .dataframe tbody tr th {\n",
       "        vertical-align: top;\n",
       "    }\n",
       "\n",
       "    .dataframe thead th {\n",
       "        text-align: right;\n",
       "    }\n",
       "</style>\n",
       "<table border=\"1\" class=\"dataframe\">\n",
       "  <thead>\n",
       "    <tr style=\"text-align: right;\">\n",
       "      <th></th>\n",
       "      <th>pos</th>\n",
       "      <th>origin</th>\n",
       "      <th>count</th>\n",
       "      <th>set_count</th>\n",
       "      <th>sample</th>\n",
       "    </tr>\n",
       "  </thead>\n",
       "  <tbody>\n",
       "    <tr>\n",
       "      <th>0</th>\n",
       "      <td>名詞-一般</td>\n",
       "      <td>肌</td>\n",
       "      <td>148358</td>\n",
       "      <td>7223</td>\n",
       "      <td>大学生, ジェルティントグロス, 最高, あか抜け, 空き</td>\n",
       "    </tr>\n",
       "    <tr>\n",
       "      <th>2</th>\n",
       "      <td>名詞-固有名詞-一般</td>\n",
       "      <td>2点</td>\n",
       "      <td>68028</td>\n",
       "      <td>4546</td>\n",
       "      <td>ツッコミ, ポフツカワ, 6色, 91.8%, クンクン</td>\n",
       "    </tr>\n",
       "    <tr>\n",
       "      <th>23</th>\n",
       "      <td>名詞-固有名詞-人名-一般</td>\n",
       "      <td>エスティローダー</td>\n",
       "      <td>5454</td>\n",
       "      <td>571</td>\n",
       "      <td>小原正子, ヘアー, ライトカラー, 高須英津子, ミュラ</td>\n",
       "    </tr>\n",
       "    <tr>\n",
       "      <th>26</th>\n",
       "      <td>名詞-固有名詞-組織</td>\n",
       "      <td>バリア</td>\n",
       "      <td>3513</td>\n",
       "      <td>741</td>\n",
       "      <td>ペンシルアイライナー, デル, ウォーターレジスタント, asuoil, ベアスキンファンデーション</td>\n",
       "    </tr>\n",
       "    <tr>\n",
       "      <th>39</th>\n",
       "      <td>名詞-固有名詞-人名-名</td>\n",
       "      <td>一人</td>\n",
       "      <td>1328</td>\n",
       "      <td>222</td>\n",
       "      <td>種, 諭吉, 泉, 唯, 奈津子</td>\n",
       "    </tr>\n",
       "    <tr>\n",
       "      <th>40</th>\n",
       "      <td>名詞-固有名詞-地域-一般</td>\n",
       "      <td>目覚</td>\n",
       "      <td>1134</td>\n",
       "      <td>142</td>\n",
       "      <td>池袋, ちの, 医療センター, 表参道, 鹿児島</td>\n",
       "    </tr>\n",
       "    <tr>\n",
       "      <th>42</th>\n",
       "      <td>名詞-固有名詞-人名-姓</td>\n",
       "      <td>クレイ</td>\n",
       "      <td>985</td>\n",
       "      <td>185</td>\n",
       "      <td>根本, 方, 紫, 泉, 山崎</td>\n",
       "    </tr>\n",
       "  </tbody>\n",
       "</table>\n",
       "</div>"
      ],
      "text/plain": [
       "              pos    origin   count  set_count  \\\n",
       "0           名詞-一般         肌  148358       7223   \n",
       "2      名詞-固有名詞-一般        2点   68028       4546   \n",
       "23  名詞-固有名詞-人名-一般  エスティローダー    5454        571   \n",
       "26     名詞-固有名詞-組織       バリア    3513        741   \n",
       "39   名詞-固有名詞-人名-名        一人    1328        222   \n",
       "40  名詞-固有名詞-地域-一般        目覚    1134        142   \n",
       "42   名詞-固有名詞-人名-姓       クレイ     985        185   \n",
       "\n",
       "                                                sample  \n",
       "0                        大学生, ジェルティントグロス, 最高, あか抜け, 空き  \n",
       "2                         ツッコミ, ポフツカワ, 6色, 91.8%, クンクン  \n",
       "23                       小原正子, ヘアー, ライトカラー, 高須英津子, ミュラ  \n",
       "26  ペンシルアイライナー, デル, ウォーターレジスタント, asuoil, ベアスキンファンデーション  \n",
       "39                                    種, 諭吉, 泉, 唯, 奈津子  \n",
       "40                            池袋, ちの, 医療センター, 表参道, 鹿児島  \n",
       "42                                     根本, 方, 紫, 泉, 山崎  "
      ]
     },
     "execution_count": 120,
     "metadata": {},
     "output_type": "execute_result"
    }
   ],
   "source": [
    "df_parsed[df_parsed.pos.isin(koyuu_noun_key)]"
   ]
  },
  {
   "cell_type": "code",
   "execution_count": 142,
   "metadata": {},
   "outputs": [],
   "source": [
    "# df_pos_uq[df_pos_uq.pos == '名詞-固有名詞-組織'].origin.tolist()"
   ]
  },
  {
   "cell_type": "code",
   "execution_count": 143,
   "metadata": {},
   "outputs": [],
   "source": [
    "# df_pos_uq = df_pos.drop_duplicates('origin')"
   ]
  },
  {
   "cell_type": "code",
   "execution_count": 144,
   "metadata": {},
   "outputs": [],
   "source": [
    "# df_noun_ippann = df_pos_uq[df_pos_uq.pos == '名詞-一般']"
   ]
  },
  {
   "cell_type": "code",
   "execution_count": 145,
   "metadata": {},
   "outputs": [],
   "source": [
    "# df_noun_ippann[df_noun_ippann.origin.str.contains('ファンデーション')]"
   ]
  },
  {
   "cell_type": "code",
   "execution_count": 146,
   "metadata": {},
   "outputs": [],
   "source": [
    "# df_noun_ippann[df_noun_ippann.origin.str.contains('ライナー')]"
   ]
  },
  {
   "cell_type": "code",
   "execution_count": 121,
   "metadata": {},
   "outputs": [],
   "source": [
    "# df_parsed[df_parsed.pos.str.contains('名詞')]"
   ]
  },
  {
   "cell_type": "code",
   "execution_count": 152,
   "metadata": {},
   "outputs": [],
   "source": [
    "from metric import flat_list"
   ]
  },
  {
   "cell_type": "code",
   "execution_count": 157,
   "metadata": {},
   "outputs": [
    {
     "data": {
      "text/plain": [
       "[(1, 2, 3, 4)]"
      ]
     },
     "execution_count": 157,
     "metadata": {},
     "output_type": "execute_result"
    }
   ],
   "source": [
    "flat_list([[1, 2, 3, 4]], 4)"
   ]
  },
  {
   "cell_type": "code",
   "execution_count": null,
   "metadata": {},
   "outputs": [],
   "source": []
  }
 ],
 "metadata": {
  "kernelspec": {
   "display_name": "Python 3",
   "language": "python",
   "name": "python3"
  },
  "language_info": {
   "codemirror_mode": {
    "name": "ipython",
    "version": 3
   },
   "file_extension": ".py",
   "mimetype": "text/x-python",
   "name": "python",
   "nbconvert_exporter": "python",
   "pygments_lexer": "ipython3",
   "version": "3.7.6"
  }
 },
 "nbformat": 4,
 "nbformat_minor": 2
}
