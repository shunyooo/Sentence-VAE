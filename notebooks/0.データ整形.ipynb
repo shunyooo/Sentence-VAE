{
 "cells": [
  {
   "cell_type": "markdown",
   "metadata": {},
   "source": [
    "## データダウンロード"
   ]
  },
  {
   "cell_type": "code",
   "execution_count": 10,
   "metadata": {},
   "outputs": [
    {
     "name": "stdout",
     "output_type": "stream",
     "text": [
      "Copying gs://wakimoto-ramiel/experiments/exp_20191107_kw2title/data/eccos_mecab_tfidf_top3.tgt.train...\n",
      "/ [1 files][  5.7 MiB/  5.7 MiB]                                                \n",
      "Operation completed over 1 objects/5.7 MiB.                                      \n",
      "Copying gs://wakimoto-ramiel/experiments/exp_20191107_kw2title/data/eccos_mecab_tfidf_top3.tgt.test...\n",
      "/ [1 files][  5.7 MiB/  5.7 MiB]                                                \n",
      "Operation completed over 1 objects/5.7 MiB.                                      \n",
      "Copying gs://wakimoto-ramiel/experiments/exp_20191107_kw2title/data/eccos_mecab_tfidf_top3.tgt.valid...\n",
      "/ [1 files][ 58.7 KiB/ 58.7 KiB]                                                \n",
      "Operation completed over 1 objects/58.7 KiB.                                     \n"
     ]
    }
   ],
   "source": [
    "option = '-'\n",
    "option += 'd' # delete\n",
    "option += 'n' # dry-run\n",
    "# ! gsutil -m rsync -r $option gs://wakimoto-ramiel/experiments/exp_20191107_kw2title/data/eccos_mecab_tfidf_top3.tgt.train ./data/eccos/\n",
    "! gsutil cp gs://wakimoto-ramiel/experiments/exp_20191107_kw2title/data/eccos_mecab_tfidf_top3.tgt.train ./data/eccos/\n",
    "! gsutil cp gs://wakimoto-ramiel/experiments/exp_20191107_kw2title/data/eccos_mecab_tfidf_top3.tgt.test ./data/eccos/ \n",
    "! gsutil cp gs://wakimoto-ramiel/experiments/exp_20191107_kw2title/data/eccos_mecab_tfidf_top3.tgt.valid ./data/eccos/        "
   ]
  },
  {
   "cell_type": "markdown",
   "metadata": {},
   "source": [
    "## データ整形"
   ]
  },
  {
   "cell_type": "code",
   "execution_count": 5,
   "metadata": {},
   "outputs": [],
   "source": [
    "def readlines(path):\n",
    "    with open(path, 'r') as f:\n",
    "        return [s.replace('\\n', '') for s in f.readlines()]"
   ]
  },
  {
   "cell_type": "code",
   "execution_count": 154,
   "metadata": {},
   "outputs": [
    {
     "name": "stdout",
     "output_type": "stream",
     "text": [
      "data loaded （train:48011, valid:500, test:48511）\n"
     ]
    }
   ],
   "source": [
    "readlines_by_type = lambda _type: readlines(f'./data/eccos/eccos_mecab_tfidf_top3.tgt.{_type}')\n",
    "train_lines = readlines_by_type('train')\n",
    "valid_lines = readlines_by_type('valid')\n",
    "test_lines = readlines_by_type('test')\n",
    "print(f'data loaded （train:{len(train_lines)}, valid:{len(valid_lines)}, test:{len(test_lines)}）')\n",
    "# check_data_valid(train_lines, valid_lines, test_lines)"
   ]
  },
  {
   "cell_type": "markdown",
   "metadata": {},
   "source": [
    "eccosデータだとtrain, valid, testで重複あるので注意"
   ]
  },
  {
   "cell_type": "code",
   "execution_count": 155,
   "metadata": {},
   "outputs": [],
   "source": [
    "def check_data_valid(train_lines, valid_lines, test_lines):\n",
    "    train_set = set(train_lines)\n",
    "    valid_set = set(valid_lines)\n",
    "    test_set = set(test_lines)\n",
    "    assert len(train_lines) == len(train_set)\n",
    "    assert len(valid_lines) == len(valid_set)\n",
    "    assert len(test_lines) == len(test_set)\n",
    "    assert len(train_set & valid_set) == 0, f'train, valid は被ってはいけない {len(train_set & valid_set)}件重複'\n",
    "    assert len(train_set & test_set) == 0, f'train, test は被ってはいけない {len(train_set & test_set)}件重複'\n",
    "    assert len(valid_set & test_set) == 0, f'valid, test は被ってはいけない {len(valid_set & test_set)}件重複'"
   ]
  },
  {
   "cell_type": "markdown",
   "metadata": {},
   "source": [
    "### ⛄ eccos限定処理： trainを3分割"
   ]
  },
  {
   "cell_type": "code",
   "execution_count": 156,
   "metadata": {},
   "outputs": [
    {
     "name": "stdout",
     "output_type": "stream",
     "text": [
      "train:30726, valid:7682, test:9603\n"
     ]
    }
   ],
   "source": [
    "from sklearn.model_selection import train_test_split\n",
    "# train が全部なので\n",
    "lines = readlines(f'./data/eccos/eccos_mecab_tfidf_top3.tgt.train')\n",
    "train_valid_lines, test_lines = train_test_split(lines, train_size=0.8, test_size=0.2)\n",
    "train_lines, valid_lines = train_test_split(train_valid_lines, train_size=0.8, test_size=0.2)\n",
    "print(f'train:{len(train_lines)}, valid:{len(valid_lines)}, test:{len(test_lines)}')\n",
    "check_data_valid(train_lines, valid_lines, test_lines)"
   ]
  },
  {
   "cell_type": "code",
   "execution_count": 157,
   "metadata": {},
   "outputs": [
    {
     "name": "stdout",
     "output_type": "stream",
     "text": [
      "料理 に 洗濯 、 お 掃除 ... 多忙 な ママ に オススメ の 大人気 コラーゲンサプリ ♪\n",
      "微粒子 汚れ から 守り 、 色 ムラ も 自然 に カバー する エッセンス bb\n",
      "自分 の 学歴 に 満足 いか ず 、 悩ん だり 自信 を 失っ て しまっ て い ませ ん か ? その 学歴コンプレックス の 解消 法 や 快く 過ごす 方法 を ご 紹介 し ます 。\n",
      "どんな 時 も かわいく い たい なら 、 tpo に 合わせ た コーディネート を 。 <num> つ の シーン 別 の コーデ で 、 いろんな オシャレ を 楽しみ ましょ ♡\n",
      "秋 コスメ で 大人 かわいく 決めよ う !\n",
      "今や バンド t も ファッションアイテム ♡ おしゃれ な ライブ 参戦 服 を watch し ましょ う !\n",
      "ぜんぶ プチプラ は 卒業 ♪ お金 を かける べき コスメ は この <num> つ ♡\n",
      "ふっくら 明るい 目元 へ 導く アイクリーム\n",
      "サントリー 【 オメガ エイト 】 約 <num> 日 分 増量 中 ♪ 脳 の 健康 対策 ( 機能性表示食品 )\n",
      "単品 使い じゃ もったいない ! 気 に なる 「 プチプラコスメ 」 の 掛け算 レシピ\n"
     ]
    }
   ],
   "source": [
    "print('\\n'.join(train[100:110]))"
   ]
  },
  {
   "cell_type": "code",
   "execution_count": 158,
   "metadata": {},
   "outputs": [],
   "source": [
    "def save_lines(lines, path):\n",
    "    with open(path, 'w') as f:\n",
    "        f.write('\\n'.join(lines))"
   ]
  },
  {
   "cell_type": "code",
   "execution_count": 159,
   "metadata": {},
   "outputs": [],
   "source": [
    "# ! rm ./data/eccos/ptb.train.json ./data/eccos/ptb.valid.json ./data/eccos/ptb.vocab.json "
   ]
  },
  {
   "cell_type": "code",
   "execution_count": 160,
   "metadata": {},
   "outputs": [],
   "source": [
    "save_lines(train_lines, './data/eccos/ptb.train.txt')\n",
    "save_lines(valid_lines, './data/eccos/ptb.valid.txt')\n",
    "save_lines(test_lines, './data/eccos/ptb.test.txt')"
   ]
  },
  {
   "cell_type": "markdown",
   "metadata": {},
   "source": [
    "## 文長分析\n",
    "\n",
    "`max_sequence_length` 用"
   ]
  },
  {
   "cell_type": "code",
   "execution_count": 161,
   "metadata": {},
   "outputs": [],
   "source": [
    "import pandas as pd\n",
    "pd.set_option(\"display.max_colwidth\", 500)\n",
    "pd.set_option(\"display.max_rows\", 101)\n",
    "import matplotlib.pyplot as plt\n",
    "plt.style.use('ggplot')"
   ]
  },
  {
   "cell_type": "code",
   "execution_count": 162,
   "metadata": {},
   "outputs": [],
   "source": [
    "def plot_word_count(lines, normalize=False, label=None):\n",
    "    lines = list(set(lines))\n",
    "    words_list = [line.split(' ') for line in lines]\n",
    "    df_line = pd.DataFrame({'line':lines, 'words':words_list})\n",
    "    df_line['word_count'] = df_line.words.apply(lambda ws: len(ws))\n",
    "    \n",
    "    ser_word_count = df_line.groupby('word_count').count().line\n",
    "    ser_word_count = ser_word_count/df_line.shape[0] if normalize else ser_word_count\n",
    "    ser_word_count.plot(alpha=0.5, label=label)\n",
    "    return df_line"
   ]
  },
  {
   "cell_type": "code",
   "execution_count": 163,
   "metadata": {},
   "outputs": [
    {
     "data": {
      "image/png": "[encoded data removed]",
      "text/plain": [
       "<Figure size 432x288 with 1 Axes>"
      ]
     },
     "metadata": {},
     "output_type": "display_data"
    }
   ],
   "source": [
    "all_lines = train_lines + valid_lines + test_lines\n",
    "df_line = plot_word_count(all_lines)\n",
    "plt.savefig('./figs/eccos_word_count.png', dpi=120)"
   ]
  },
  {
   "cell_type": "code",
   "execution_count": 164,
   "metadata": {},
   "outputs": [
    {
     "data": {
      "text/plain": [
       "<matplotlib.legend.Legend at 0x7f309c7ccf98>"
      ]
     },
     "execution_count": 164,
     "metadata": {},
     "output_type": "execute_result"
    },
    {
     "data": {
      "image/png": "[encoded data removed]",
      "text/plain": [
       "<Figure size 432x288 with 1 Axes>"
      ]
     },
     "metadata": {},
     "output_type": "display_data"
    }
   ],
   "source": [
    "_ = plot_word_count(train_lines, normalize=True, label='train')\n",
    "_ = plot_word_count(valid_lines, normalize=True, label='valid')\n",
    "_ = plot_word_count(test_lines, normalize=True, label='test')\n",
    "\n",
    "plt.legend()"
   ]
  },
  {
   "cell_type": "code",
   "execution_count": 165,
   "metadata": {},
   "outputs": [
    {
     "name": "stdout",
     "output_type": "stream",
     "text": [
      "example train:42068, valid:3370, test:3761\n"
     ]
    }
   ],
   "source": [
    "exam_lines_train = readlines('./data/simple-examples/ptb.train.txt')\n",
    "exam_lines_valid = readlines('./data/simple-examples/ptb.valid.txt')\n",
    "exam_lines_test = readlines('./data/simple-examples/ptb.test.txt')\n",
    "print(f'example train:{len(exam_lines_train)}, valid:{len(exam_lines_valid)}, test:{len(exam_lines_test)}')"
   ]
  },
  {
   "cell_type": "code",
   "execution_count": 166,
   "metadata": {},
   "outputs": [
    {
     "name": "stdout",
     "output_type": "stream",
     "text": [
      "simple-examples train lines: 42068\n"
     ]
    },
    {
     "data": {
      "image/png": "[encoded data removed]",
      "text/plain": [
       "<Figure size 432x288 with 1 Axes>"
      ]
     },
     "metadata": {},
     "output_type": "display_data"
    }
   ],
   "source": [
    "print(f'simple-examples train lines: {len(exam_lines)}')\n",
    "_ = plot_word_count(all_lines)\n",
    "_ = plot_word_count(exam_lines)"
   ]
  },
  {
   "cell_type": "markdown",
   "metadata": {},
   "source": [
    "### 👀 文長ごとのコピーはどんなものかの確認"
   ]
  },
  {
   "cell_type": "code",
   "execution_count": 167,
   "metadata": {},
   "outputs": [
    {
     "data": {
      "text/html": [
       "<div>\n",
       "<style scoped>\n",
       "    .dataframe tbody tr th:only-of-type {\n",
       "        vertical-align: middle;\n",
       "    }\n",
       "\n",
       "    .dataframe tbody tr th {\n",
       "        vertical-align: top;\n",
       "    }\n",
       "\n",
       "    .dataframe thead th {\n",
       "        text-align: right;\n",
       "    }\n",
       "</style>\n",
       "<table border=\"1\" class=\"dataframe\">\n",
       "  <thead>\n",
       "    <tr style=\"text-align: right;\">\n",
       "      <th></th>\n",
       "      <th>line</th>\n",
       "      <th>words</th>\n",
       "      <th>word_count</th>\n",
       "    </tr>\n",
       "  </thead>\n",
       "  <tbody>\n",
       "    <tr>\n",
       "      <th>92</th>\n",
       "      <td>お 買い物 は 至福 の 時間 な のに 、 いつも お 財布 と 相談 し ながら しない と いけ ない 。 ショッピング 上手 に なる ため の チェックリスト を 活用 し て 、 スマート に お 買い物 を し ましょ う !</td>\n",
       "      <td>[お, 買い物, は, 至福, の, 時間, な, のに, 、, いつも, お, 財布, と, 相談, し, ながら, しない, と, いけ, ない, 。, ショッピング, 上手, に, なる, ため, の, チェックリスト, を, 活用, し, て, 、, スマート, に, お, 買い物, を, し, ましょ, う, !]</td>\n",
       "      <td>42</td>\n",
       "    </tr>\n",
       "    <tr>\n",
       "      <th>99</th>\n",
       "      <td>月 に 一 度 の 待ち に 待ちわび た 、 給料日 が 今月 も やってき た ー ! 今月 の お 給料 は 、 &lt;num&gt; aw の 自己投資 と ゲット す べき アイテム に 使っ て み ませ ん か ?</td>\n",
       "      <td>[月, に, 一, 度, の, 待ち, に, 待ちわび, た, 、, 給料日, が, 今月, も, やってき, た, ー, !, 今月, の, お, 給料, は, 、, &lt;num&gt;, aw, の, 自己投資, と, ゲット, す, べき, アイテム, に, 使っ, て, み, ませ, ん, か, ?]</td>\n",
       "      <td>41</td>\n",
       "    </tr>\n",
       "    <tr>\n",
       "      <th>165</th>\n",
       "      <td>「 毛穴 は 一体 どこ に ある の ?」 と 言い たく なる くらい 綺麗 な お 肌 の 秘密 は 、 ナイト ケア に ある みたい 。 &lt;num&gt; つ の 肌 活 で 、 誰か ら も 羨まし がら れる 素肌 を 手 に 入れ ましょ う ♡</td>\n",
       "      <td>[「, 毛穴, は, 一体, どこ, に, ある, の, ?」, と, 言い, たく, なる, くらい, 綺麗, な, お, 肌, の, 秘密, は, 、, ナイト, ケア, に, ある, みたい, 。, &lt;num&gt;, つ, の, 肌, 活, で, 、, 誰か, ら, も, 羨まし, がら, れる, 素肌, を, 手, に, 入れ, ましょ, う, ♡]</td>\n",
       "      <td>49</td>\n",
       "    </tr>\n",
       "  </tbody>\n",
       "</table>\n",
       "</div>"
      ],
      "text/plain": [
       "                                                                                                                                 line  \\\n",
       "92           お 買い物 は 至福 の 時間 な のに 、 いつも お 財布 と 相談 し ながら しない と いけ ない 。 ショッピング 上手 に なる ため の チェックリスト を 活用 し て 、 スマート に お 買い物 を し ましょ う !   \n",
       "99                      月 に 一 度 の 待ち に 待ちわび た 、 給料日 が 今月 も やってき た ー ! 今月 の お 給料 は 、 <num> aw の 自己投資 と ゲット す べき アイテム に 使っ て み ませ ん か ?   \n",
       "165  「 毛穴 は 一体 どこ に ある の ?」 と 言い たく なる くらい 綺麗 な お 肌 の 秘密 は 、 ナイト ケア に ある みたい 。 <num> つ の 肌 活 で 、 誰か ら も 羨まし がら れる 素肌 を 手 に 入れ ましょ う ♡   \n",
       "\n",
       "                                                                                                                                                                                  words  \\\n",
       "92                  [お, 買い物, は, 至福, の, 時間, な, のに, 、, いつも, お, 財布, と, 相談, し, ながら, しない, と, いけ, ない, 。, ショッピング, 上手, に, なる, ため, の, チェックリスト, を, 活用, し, て, 、, スマート, に, お, 買い物, を, し, ましょ, う, !]   \n",
       "99                              [月, に, 一, 度, の, 待ち, に, 待ちわび, た, 、, 給料日, が, 今月, も, やってき, た, ー, !, 今月, の, お, 給料, は, 、, <num>, aw, の, 自己投資, と, ゲット, す, べき, アイテム, に, 使っ, て, み, ませ, ん, か, ?]   \n",
       "165  [「, 毛穴, は, 一体, どこ, に, ある, の, ?」, と, 言い, たく, なる, くらい, 綺麗, な, お, 肌, の, 秘密, は, 、, ナイト, ケア, に, ある, みたい, 。, <num>, つ, の, 肌, 活, で, 、, 誰か, ら, も, 羨まし, がら, れる, 素肌, を, 手, に, 入れ, ましょ, う, ♡]   \n",
       "\n",
       "     word_count  \n",
       "92           42  \n",
       "99           41  \n",
       "165          49  "
      ]
     },
     "execution_count": 167,
     "metadata": {},
     "output_type": "execute_result"
    }
   ],
   "source": [
    "df_line[df_line.word_count > 40][:3]"
   ]
  }
 ],
 "metadata": {
  "kernelspec": {
   "display_name": "Python 3",
   "language": "python",
   "name": "python3"
  },
  "language_info": {
   "codemirror_mode": {
    "name": "ipython",
    "version": 3
   },
   "file_extension": ".py",
   "mimetype": "text/x-python",
   "name": "python",
   "nbconvert_exporter": "python",
   "pygments_lexer": "ipython3",
   "version": "3.7.3"
  }
 },
 "nbformat": 4,
 "nbformat_minor": 2
}
