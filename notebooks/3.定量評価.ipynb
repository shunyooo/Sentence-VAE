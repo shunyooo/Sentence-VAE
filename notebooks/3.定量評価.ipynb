{
 "cells": [
  {
   "cell_type": "markdown",
   "metadata": {},
   "source": [
    "# 定量評価\n",
    "\n",
    "- テストデータ自体のDistinctの値\n",
    "- 同一入力に対するモデルの出力の結果サンプルを載せる\n",
    "- 生成文がPOSに沿っている率を載せる"
   ]
  },
  {
   "cell_type": "markdown",
   "metadata": {},
   "source": [
    "## データ読み込み\n",
    "- デコードは `inference-vae-pos` で行う"
   ]
  },
  {
   "cell_type": "code",
   "execution_count": 3,
   "metadata": {},
   "outputs": [],
   "source": [
    "import init\n",
    "import os"
   ]
  },
  {
   "cell_type": "code",
   "execution_count": 6,
   "metadata": {},
   "outputs": [],
   "source": [
    "import pandas as pd"
   ]
  },
  {
   "cell_type": "code",
   "execution_count": 68,
   "metadata": {},
   "outputs": [],
   "source": [
    "posvae_decoded_path = '/root/user/work/src/Sentence-VAE/runs/posvae_eccos_v2_TS=2020-01-05-173701_BS=32_LR=0.001_EB=300_GRU_HS=256_L=1_BI=0_LS=16_WD=0_ANN=LOGISTIC_K=0.0025_X0=2500/dumps/posvae_eccos_all.pickle'\n",
    "vae_decoded_path = '/root/user/work/src/Sentence-VAE/runs/vae_eccos_v2_TS=2020-01-05-181436_BS=32_LR=0.001_EB=300_GRU_HS=256_L=1_BI=0_LS=16_WD=0_ANN=LOGISTIC_K=0.0025_X0=2500/dumps/vae_eccos_all.pickle'"
   ]
  },
  {
   "cell_type": "code",
   "execution_count": 69,
   "metadata": {},
   "outputs": [],
   "source": [
    "df_posvae_decoded = pd.read_pickle(posvae_decoded_path)\n",
    "df_vae_decoded = pd.read_pickle(vae_decoded_path)"
   ]
  },
  {
   "cell_type": "code",
   "execution_count": 70,
   "metadata": {},
   "outputs": [],
   "source": [
    "text_cols = [col for col in df_decoded.columns if '生成文' in col and 'ids' not in col]\n",
    "id_cols = [col for col in df_decoded.columns if '生成文_ids' in col]"
   ]
  },
  {
   "cell_type": "code",
   "execution_count": 71,
   "metadata": {},
   "outputs": [],
   "source": [
    "multi_posvae_decoded_ids = [[v for k,v in row.items()] for row in df_posvae_decoded[id_cols].to_dict(orient='records')]\n",
    "multi_vae_decoded_ids = [[v for k,v in row.items()] for row in df_vae_decoded[id_cols].to_dict(orient='records')]"
   ]
  },
  {
   "cell_type": "code",
   "execution_count": 73,
   "metadata": {},
   "outputs": [
    {
     "data": {
      "text/plain": [
       "(2479, 10)"
      ]
     },
     "execution_count": 73,
     "metadata": {},
     "output_type": "execute_result"
    }
   ],
   "source": [
    "assert len(multi_posvae_decoded_ids) == len(multi_vae_decoded_ids)\n",
    "assert len(multi_posvae_decoded_ids[0]) == len(multi_vae_decoded_ids[0])\n",
    "len(multi_posvae_decoded_ids), len(multi_posvae_decoded_ids[0])"
   ]
  },
  {
   "cell_type": "markdown",
   "metadata": {},
   "source": [
    "# Local-Distinctの計測"
   ]
  },
  {
   "cell_type": "code",
   "execution_count": 74,
   "metadata": {},
   "outputs": [],
   "source": [
    "from metric import flat_and_calculate_distinct\n",
    "def calculate_local_distinct(multi_ids, ngrams=[1, 2, 3,]):\n",
    "    # Distinct-1, 2, full\n",
    "    distinct_dict_list = []\n",
    "    for ids in multi_ids:\n",
    "        distinct_dict, _ = flat_and_calculate_distinct(ids, ngrams)\n",
    "        distinct_dict_list.append(distinct_dict)\n",
    "    distinct_dict = pd.DataFrame(distinct_dict_list).mean().to_dict()\n",
    "    distinct_dict = {f'local_{k}': v for k,v in distinct_dict.items() if 'distinct' in k}\n",
    "    return distinct_dict, distinct_dict_list"
   ]
  },
  {
   "cell_type": "code",
   "execution_count": 76,
   "metadata": {},
   "outputs": [],
   "source": [
    "distinct_posvae_dict, distinct_posvae_dict_list = calculate_local_distinct(multi_posvae_decoded_ids)\n",
    "df_posvae_distinct = pd.DataFrame(distinct_posvae_dict_list)\n",
    "\n",
    "distinct_vae_dict, distinct_vae_dict_list = calculate_local_distinct(multi_vae_decoded_ids)\n",
    "df_vae_distinct = pd.DataFrame(distinct_vae_dict_list)"
   ]
  },
  {
   "cell_type": "code",
   "execution_count": 78,
   "metadata": {},
   "outputs": [
    {
     "data": {
      "text/plain": [
       "({'local_distinct_1gram': 0.3969541020241795,\n",
       "  'local_distinct_2gram': 0.7122047906786498,\n",
       "  'local_distinct_3gram': 0.8361804480148379},\n",
       " {'local_distinct_1gram': 0.4069951986330746,\n",
       "  'local_distinct_2gram': 0.7056350056568841,\n",
       "  'local_distinct_3gram': 0.8109642806148886})"
      ]
     },
     "execution_count": 78,
     "metadata": {},
     "output_type": "execute_result"
    }
   ],
   "source": [
    "distinct_posvae_dict, distinct_vae_dict"
   ]
  },
  {
   "cell_type": "code",
   "execution_count": 62,
   "metadata": {},
   "outputs": [],
   "source": [
    "assert df_distinct.shape[0] == df_decoded.shape[0]"
   ]
  },
  {
   "cell_type": "code",
   "execution_count": 96,
   "metadata": {},
   "outputs": [],
   "source": [
    "dist_cols = 'distinct_1gram distinct_2gram distinct_3gram'.split(' ')\n",
    "df_posvae = pd.merge(df_posvae_decoded, df_posvae_distinct, left_index=True, right_index=True)[['入力文'] + text_cols + dist_cols]\n",
    "df_posvae = df_posvae.rename(columns={col: f'posvae_{col}' for col in df_posvae.columns if '入力文' not in col})\n",
    "\n",
    "df_vae = pd.merge(df_vae_decoded, df_vae_distinct, left_index=True, right_index=True)[['入力文'] + text_cols + dist_cols]\n",
    "df_vae = df_vae.rename(columns={col: f'vae_{col}' for col in df_vae.columns if '入力文' not in col})"
   ]
  },
  {
   "cell_type": "code",
   "execution_count": 100,
   "metadata": {},
   "outputs": [],
   "source": [
    "df = pd.merge(df_vae, df_posvae, on='入力文')"
   ]
  },
  {
   "cell_type": "code",
   "execution_count": 147,
   "metadata": {},
   "outputs": [
    {
     "data": {
      "text/html": [
       "<div>\n",
       "<style scoped>\n",
       "    .dataframe tbody tr th:only-of-type {\n",
       "        vertical-align: middle;\n",
       "    }\n",
       "\n",
       "    .dataframe tbody tr th {\n",
       "        vertical-align: top;\n",
       "    }\n",
       "\n",
       "    .dataframe thead th {\n",
       "        text-align: right;\n",
       "    }\n",
       "</style>\n",
       "<table border=\"1\" class=\"dataframe\">\n",
       "  <thead>\n",
       "    <tr style=\"text-align: right;\">\n",
       "      <th></th>\n",
       "      <th>0</th>\n",
       "    </tr>\n",
       "  </thead>\n",
       "  <tbody>\n",
       "    <tr>\n",
       "      <th>入力文</th>\n",
       "      <td>&lt;num&gt;代女性が&lt;num&gt;代に見えるのは、「シワに貼って寝るだけ!」</td>\n",
       "    </tr>\n",
       "    <tr>\n",
       "      <th>vae_生成文0</th>\n",
       "      <td>&lt;num&gt;歳に見える&lt;num&gt;歳主婦は「目元のシワ」が&lt;num&gt;秒でアイロンみたいに!?</td>\n",
       "    </tr>\n",
       "    <tr>\n",
       "      <th>vae_生成文1</th>\n",
       "      <td>「目元のたるみ」には菌を塗るだけ!&lt;num&gt;円で試せる!</td>\n",
       "    </tr>\n",
       "    <tr>\n",
       "      <th>vae_生成文2</th>\n",
       "      <td>&lt;num&gt;代に人気の「シワ」がない理由!&lt;num&gt;割以上が誤解した方法がスゴい</td>\n",
       "    </tr>\n",
       "    <tr>\n",
       "      <th>vae_生成文3</th>\n",
       "      <td>&lt;num&gt;歳に見える&lt;num&gt;歳主婦は「再生医療センター」がない理由!&lt;num&gt;歳主婦が&lt;num&gt;代に間違えられた美容液</td>\n",
       "    </tr>\n",
       "    <tr>\n",
       "      <th>vae_生成文4</th>\n",
       "      <td>&lt;num&gt;歳に見える&lt;num&gt;歳主婦「ほうれい線」がない理由!&lt;num&gt;歳主婦が&lt;num&gt;日でピンッ</td>\n",
       "    </tr>\n",
       "    <tr>\n",
       "      <th>vae_生成文5</th>\n",
       "      <td>&lt;num&gt;代に見える&lt;num&gt;歳主婦は「再生医療美容液」が話題!</td>\n",
       "    </tr>\n",
       "    <tr>\n",
       "      <th>vae_生成文6</th>\n",
       "      <td>&lt;num&gt;代に見える&lt;num&gt;歳主婦は「あるものを塗る」と言われる程のようなハリ肌に</td>\n",
       "    </tr>\n",
       "    <tr>\n",
       "      <th>vae_生成文7</th>\n",
       "      <td>&lt;num&gt;歳に見える&lt;num&gt;歳主婦は「再生医療美容液」が話題に!&lt;num&gt;円で試せる!</td>\n",
       "    </tr>\n",
       "    <tr>\n",
       "      <th>vae_生成文8</th>\n",
       "      <td>「&lt;num&gt;歳に見える&lt;num&gt;歳は?」おばさん顔の素を&lt;num&gt;日で卒業</td>\n",
       "    </tr>\n",
       "    <tr>\n",
       "      <th>vae_生成文9</th>\n",
       "      <td>&lt;num&gt;歳に見える&lt;num&gt;歳主婦は「再生医療センターより若く見える」&lt;num&gt;歳主婦が&lt;num&gt;日でシミが消えた?</td>\n",
       "    </tr>\n",
       "    <tr>\n",
       "      <th>vae_distinct_1gram</th>\n",
       "      <td>0.283262</td>\n",
       "    </tr>\n",
       "    <tr>\n",
       "      <th>vae_distinct_2gram</th>\n",
       "      <td>0.520179</td>\n",
       "    </tr>\n",
       "    <tr>\n",
       "      <th>vae_distinct_3gram</th>\n",
       "      <td>0.615023</td>\n",
       "    </tr>\n",
       "    <tr>\n",
       "      <th>posvae_生成文0</th>\n",
       "      <td>更年期のシミや肝斑を消すと伸ばすのは簡単に消える!&lt;num&gt;歳主婦が試した結果</td>\n",
       "    </tr>\n",
       "    <tr>\n",
       "      <th>posvae_生成文1</th>\n",
       "      <td>&lt;num&gt;代からの準備できた「神コスメ」を試してみた!</td>\n",
       "    </tr>\n",
       "    <tr>\n",
       "      <th>posvae_生成文2</th>\n",
       "      <td>&lt;num&gt;歳の娘と姉妹に間違えられた!話題のシミケアとは?</td>\n",
       "    </tr>\n",
       "    <tr>\n",
       "      <th>posvae_生成文3</th>\n",
       "      <td>顔のシミが&lt;num&gt;日で...!杉山愛も絶賛のジェルが凄い!</td>\n",
       "    </tr>\n",
       "    <tr>\n",
       "      <th>posvae_生成文4</th>\n",
       "      <td>&lt;num&gt;歳主婦が&lt;num&gt;歳に見える&lt;num&gt;歳に見える!話題のジェルで&lt;num&gt;歳主婦が試した結果</td>\n",
       "    </tr>\n",
       "    <tr>\n",
       "      <th>posvae_生成文5</th>\n",
       "      <td>&lt;num&gt;歳の息子とカップルに間違われた!?︎韓国で話題の美容液がヤバい!</td>\n",
       "    </tr>\n",
       "    <tr>\n",
       "      <th>posvae_生成文6</th>\n",
       "      <td>顔のシミが多い人は「朝のない」ことが判明!塗るだけ簡単ケアが話題</td>\n",
       "    </tr>\n",
       "    <tr>\n",
       "      <th>posvae_生成文7</th>\n",
       "      <td>&lt;num&gt;歳の娘と姉妹に見える!話題のジェルでおばさん顔を&lt;num&gt;日で卒業!</td>\n",
       "    </tr>\n",
       "    <tr>\n",
       "      <th>posvae_生成文8</th>\n",
       "      <td>主婦(&lt;num&gt;)「シミは家で消す時代」朝の&lt;num&gt;分習慣で-&lt;num&gt;歳</td>\n",
       "    </tr>\n",
       "    <tr>\n",
       "      <th>posvae_生成文9</th>\n",
       "      <td>更年期の原因はアレを変えるだけ!&lt;num&gt;代の老け見えに見える&lt;num&gt;歳の秘密とは</td>\n",
       "    </tr>\n",
       "    <tr>\n",
       "      <th>posvae_distinct_1gram</th>\n",
       "      <td>0.363229</td>\n",
       "    </tr>\n",
       "    <tr>\n",
       "      <th>posvae_distinct_2gram</th>\n",
       "      <td>0.70892</td>\n",
       "    </tr>\n",
       "    <tr>\n",
       "      <th>posvae_distinct_3gram</th>\n",
       "      <td>0.847291</td>\n",
       "    </tr>\n",
       "    <tr>\n",
       "      <th>posvae-vae_distinct_1gram</th>\n",
       "      <td>0.0799669</td>\n",
       "    </tr>\n",
       "    <tr>\n",
       "      <th>posvae_vae_distinct_1gram</th>\n",
       "      <td>0.0799669</td>\n",
       "    </tr>\n",
       "    <tr>\n",
       "      <th>posvae_vae_distinct_2gram</th>\n",
       "      <td>0.188741</td>\n",
       "    </tr>\n",
       "    <tr>\n",
       "      <th>posvae_vae_distinct_3gram</th>\n",
       "      <td>0.232267</td>\n",
       "    </tr>\n",
       "  </tbody>\n",
       "</table>\n",
       "</div>"
      ],
      "text/plain": [
       "                                                                                      0\n",
       "入力文                                                 <num>代女性が<num>代に見えるのは、「シワに貼って寝るだけ!」\n",
       "vae_生成文0                                   <num>歳に見える<num>歳主婦は「目元のシワ」が<num>秒でアイロンみたいに!?\n",
       "vae_生成文1                                                   「目元のたるみ」には菌を塗るだけ!<num>円で試せる!\n",
       "vae_生成文2                                        <num>代に人気の「シワ」がない理由!<num>割以上が誤解した方法がスゴい\n",
       "vae_生成文3                   <num>歳に見える<num>歳主婦は「再生医療センター」がない理由!<num>歳主婦が<num>代に間違えられた美容液\n",
       "vae_生成文4                             <num>歳に見える<num>歳主婦「ほうれい線」がない理由!<num>歳主婦が<num>日でピンッ\n",
       "vae_生成文5                                               <num>代に見える<num>歳主婦は「再生医療美容液」が話題!\n",
       "vae_生成文6                                     <num>代に見える<num>歳主婦は「あるものを塗る」と言われる程のようなハリ肌に\n",
       "vae_生成文7                                   <num>歳に見える<num>歳主婦は「再生医療美容液」が話題に!<num>円で試せる!\n",
       "vae_生成文8                                          「<num>歳に見える<num>歳は?」おばさん顔の素を<num>日で卒業\n",
       "vae_生成文9                    <num>歳に見える<num>歳主婦は「再生医療センターより若く見える」<num>歳主婦が<num>日でシミが消えた?\n",
       "vae_distinct_1gram                                                             0.283262\n",
       "vae_distinct_2gram                                                             0.520179\n",
       "vae_distinct_3gram                                                             0.615023\n",
       "posvae_生成文0                                     更年期のシミや肝斑を消すと伸ばすのは簡単に消える!<num>歳主婦が試した結果\n",
       "posvae_生成文1                                                 <num>代からの準備できた「神コスメ」を試してみた!\n",
       "posvae_生成文2                                               <num>歳の娘と姉妹に間違えられた!話題のシミケアとは?\n",
       "posvae_生成文3                                              顔のシミが<num>日で...!杉山愛も絶賛のジェルが凄い!\n",
       "posvae_生成文4                         <num>歳主婦が<num>歳に見える<num>歳に見える!話題のジェルで<num>歳主婦が試した結果\n",
       "posvae_生成文5                                       <num>歳の息子とカップルに間違われた!?︎韓国で話題の美容液がヤバい!\n",
       "posvae_生成文6                                            顔のシミが多い人は「朝のない」ことが判明!塗るだけ簡単ケアが話題\n",
       "posvae_生成文7                                     <num>歳の娘と姉妹に見える!話題のジェルでおばさん顔を<num>日で卒業!\n",
       "posvae_生成文8                                      主婦(<num>)「シミは家で消す時代」朝の<num>分習慣で-<num>歳\n",
       "posvae_生成文9                                  更年期の原因はアレを変えるだけ!<num>代の老け見えに見える<num>歳の秘密とは\n",
       "posvae_distinct_1gram                                                          0.363229\n",
       "posvae_distinct_2gram                                                           0.70892\n",
       "posvae_distinct_3gram                                                          0.847291\n",
       "posvae-vae_distinct_1gram                                                     0.0799669\n",
       "posvae_vae_distinct_1gram                                                     0.0799669\n",
       "posvae_vae_distinct_2gram                                                      0.188741\n",
       "posvae_vae_distinct_3gram                                                      0.232267"
      ]
     },
     "execution_count": 147,
     "metadata": {},
     "output_type": "execute_result"
    }
   ],
   "source": [
    "df[:1].T"
   ]
  },
  {
   "cell_type": "markdown",
   "metadata": {},
   "source": [
    "# Latex用出力"
   ]
  },
  {
   "cell_type": "code",
   "execution_count": 139,
   "metadata": {},
   "outputs": [],
   "source": [
    "def tex_escape(text):\n",
    "    return text.replace('<', r'\\verb|<|').replace('>', r'\\verb|>|').replace('%', r'％')"
   ]
  },
  {
   "cell_type": "code",
   "execution_count": 141,
   "metadata": {},
   "outputs": [
    {
     "name": "stdout",
     "output_type": "stream",
     "text": [
      "皮膚科医(<num>)「シミは家で消せるよ?」簡単すぎる方法が大炎上中\n",
      "【シミはレーザー治療?】皮膚科医(<num>)「シミは家で消せるよ?」簡単すぎて大炎上中\n",
      "【手遅れのシミは簡単に消える】皮膚科医(<num>)「シミは家で消せるよ」簡単すぎる方法が大炎上中\n",
      "【レーザー治療はもう古い?】皮膚科医の妻(<num>)「シミは家で簡単に消えるよ?」効果が凄すぎて大炎上中\n",
      "【ファンデ不要】スッピン美人急増中!シミの悩みにはこれ\n",
      "【シミ・シワ・たるみ・シワ・たるみ・たるみ・たるみ】皮膚科医の妻(<num>)「シミは家で消せるよ?」簡単すぎて大炎上中\n",
      "【シミ・肝斑・肝斑】皮膚科医の妻(<num>)「シミは家で消せるよ?」簡単すぎて大炎上中\n",
      "【シミ・肝斑・肝斑】皮膚科医の妻(<num>)「シミは家で簡単に消えるよ?」簡単すぎて大炎上中\n",
      "【手遅れのシミは簡単に消える】皮膚科医の妻(<num>)「シミは家で消せるよ?」簡単すぎて大炎上中\n",
      "【シミ対策はもう古い?】杉山愛さんのシミ対策\n"
     ]
    }
   ],
   "source": [
    "_id = 754\n",
    "# decoded_texts = df.iloc[_id][[c for c in df.columns if 'posvae_生成' in c]].tolist()\n",
    "decoded_texts = df.iloc[_id][[c for c in df.columns if 'vae_生成' in c and 'posvae' not in c]].tolist()\n",
    "print('\\n'.join(decoded_texts))"
   ]
  },
  {
   "cell_type": "code",
   "execution_count": 142,
   "metadata": {},
   "outputs": [
    {
     "name": "stdout",
     "output_type": "stream",
     "text": [
      "皮膚科医(\\verb|<|num\\verb|>|)「シミは家で消せるよ?」簡単すぎる方法が大炎上中\\\\\n",
      "【シミはレーザー治療?】皮膚科医(\\verb|<|num\\verb|>|)「シミは家で消せるよ?」簡単すぎて大炎上中\\\\\n",
      "【手遅れのシミは簡単に消える】皮膚科医(\\verb|<|num\\verb|>|)「シミは家で消せるよ」簡単すぎる方法が大炎上中\\\\\n",
      "【レーザー治療はもう古い?】皮膚科医の妻(\\verb|<|num\\verb|>|)「シミは家で簡単に消えるよ?」効果が凄すぎて大炎上中\\\\\n",
      "【ファンデ不要】スッピン美人急増中!シミの悩みにはこれ\\\\\n",
      "【シミ・シワ・たるみ・シワ・たるみ・たるみ・たるみ】皮膚科医の妻(\\verb|<|num\\verb|>|)「シミは家で消せるよ?」簡単すぎて大炎上中\\\\\n",
      "【シミ・肝斑・肝斑】皮膚科医の妻(\\verb|<|num\\verb|>|)「シミは家で消せるよ?」簡単すぎて大炎上中\\\\\n",
      "【シミ・肝斑・肝斑】皮膚科医の妻(\\verb|<|num\\verb|>|)「シミは家で簡単に消えるよ?」簡単すぎて大炎上中\\\\\n",
      "【手遅れのシミは簡単に消える】皮膚科医の妻(\\verb|<|num\\verb|>|)「シミは家で消せるよ?」簡単すぎて大炎上中\\\\\n",
      "【シミ対策はもう古い?】杉山愛さんのシミ対策\n"
     ]
    }
   ],
   "source": [
    "print('\\\\\\\\\\n'.join([tex_escape(text) for text in decoded_texts]))"
   ]
  },
  {
   "cell_type": "code",
   "execution_count": 116,
   "metadata": {},
   "outputs": [
    {
     "data": {
      "text/html": [
       "<div>\n",
       "<style scoped>\n",
       "    .dataframe tbody tr th:only-of-type {\n",
       "        vertical-align: middle;\n",
       "    }\n",
       "\n",
       "    .dataframe tbody tr th {\n",
       "        vertical-align: top;\n",
       "    }\n",
       "\n",
       "    .dataframe thead th {\n",
       "        text-align: right;\n",
       "    }\n",
       "</style>\n",
       "<table border=\"1\" class=\"dataframe\">\n",
       "  <thead>\n",
       "    <tr style=\"text-align: right;\">\n",
       "      <th></th>\n",
       "      <th>754</th>\n",
       "    </tr>\n",
       "  </thead>\n",
       "  <tbody>\n",
       "    <tr>\n",
       "      <th>入力文</th>\n",
       "      <td>【レーザーじゃないシミ対策】デキる美魔女はみんなやってる簡単自宅ケア?</td>\n",
       "    </tr>\n",
       "    <tr>\n",
       "      <th>vae_生成文0</th>\n",
       "      <td>皮膚科医(&lt;num&gt;)「シミは家で消せるよ?」簡単すぎる方法が大炎上中</td>\n",
       "    </tr>\n",
       "    <tr>\n",
       "      <th>vae_生成文1</th>\n",
       "      <td>【シミはレーザー治療?】皮膚科医(&lt;num&gt;)「シミは家で消せるよ?」簡単すぎて大炎上中</td>\n",
       "    </tr>\n",
       "    <tr>\n",
       "      <th>vae_生成文2</th>\n",
       "      <td>【手遅れのシミは簡単に消える】皮膚科医(&lt;num&gt;)「シミは家で消せるよ」簡単すぎる方法が大炎上中</td>\n",
       "    </tr>\n",
       "    <tr>\n",
       "      <th>vae_生成文3</th>\n",
       "      <td>【レーザー治療はもう古い?】皮膚科医の妻(&lt;num&gt;)「シミは家で簡単に消えるよ?」効果が凄すぎて大炎上中</td>\n",
       "    </tr>\n",
       "    <tr>\n",
       "      <th>vae_生成文4</th>\n",
       "      <td>【ファンデ不要】スッピン美人急増中!シミの悩みにはこれ</td>\n",
       "    </tr>\n",
       "    <tr>\n",
       "      <th>vae_生成文5</th>\n",
       "      <td>【シミ・シワ・たるみ・シワ・たるみ・たるみ・たるみ】皮膚科医の妻(&lt;num&gt;)「シミは家で消せるよ?」簡単すぎて大炎上中</td>\n",
       "    </tr>\n",
       "    <tr>\n",
       "      <th>vae_生成文6</th>\n",
       "      <td>【シミ・肝斑・肝斑】皮膚科医の妻(&lt;num&gt;)「シミは家で消せるよ?」簡単すぎて大炎上中</td>\n",
       "    </tr>\n",
       "    <tr>\n",
       "      <th>vae_生成文7</th>\n",
       "      <td>【シミ・肝斑・肝斑】皮膚科医の妻(&lt;num&gt;)「シミは家で簡単に消えるよ?」簡単すぎて大炎上中</td>\n",
       "    </tr>\n",
       "    <tr>\n",
       "      <th>vae_生成文8</th>\n",
       "      <td>【手遅れのシミは簡単に消える】皮膚科医の妻(&lt;num&gt;)「シミは家で消せるよ?」簡単すぎて大炎上中</td>\n",
       "    </tr>\n",
       "    <tr>\n",
       "      <th>vae_生成文9</th>\n",
       "      <td>【シミ対策はもう古い?】杉山愛さんのシミ対策</td>\n",
       "    </tr>\n",
       "    <tr>\n",
       "      <th>vae_distinct_1gram</th>\n",
       "      <td>0.190476</td>\n",
       "    </tr>\n",
       "    <tr>\n",
       "      <th>vae_distinct_2gram</th>\n",
       "      <td>0.315589</td>\n",
       "    </tr>\n",
       "    <tr>\n",
       "      <th>vae_distinct_3gram</th>\n",
       "      <td>0.391304</td>\n",
       "    </tr>\n",
       "    <tr>\n",
       "      <th>posvae_生成文0</th>\n",
       "      <td>顔にシミが消える?tvでも放送されたシミ消し法</td>\n",
       "    </tr>\n",
       "    <tr>\n",
       "      <th>posvae_生成文1</th>\n",
       "      <td>夫「妻が惚れ直した」&lt;num&gt;代主婦が&lt;num&gt;ヶ月で見返した方法</td>\n",
       "    </tr>\n",
       "    <tr>\n",
       "      <th>posvae_生成文2</th>\n",
       "      <td>シミには並ばない!杉山愛も愛用したシミ消しの裏ワザが簡単すぎ</td>\n",
       "    </tr>\n",
       "    <tr>\n",
       "      <th>posvae_生成文3</th>\n",
       "      <td>&lt;num&gt;割の日本人女性が知らない?美肌を維持した&lt;num&gt;歳主婦が簡単すぎ</td>\n",
       "    </tr>\n",
       "    <tr>\n",
       "      <th>posvae_生成文4</th>\n",
       "      <td>&lt;num&gt;代からのシミどこいった?杉山愛さんも愛用のジェルが話題</td>\n",
       "    </tr>\n",
       "    <tr>\n",
       "      <th>posvae_生成文5</th>\n",
       "      <td>「なんじゃないのは、間違った時に」祈るで&lt;num&gt;歳主婦が大変身した方法</td>\n",
       "    </tr>\n",
       "    <tr>\n",
       "      <th>posvae_生成文6</th>\n",
       "      <td>&lt;num&gt;代必見!&lt;num&gt;歳主婦「すっぴん美肌ファンデ」付き培養液でシミしわが&lt;num&gt;%off</td>\n",
       "    </tr>\n",
       "    <tr>\n",
       "      <th>posvae_生成文7</th>\n",
       "      <td>シミしわに直撃!1日&lt;num&gt;秒ケア付き&lt;num&gt;%offキャンペーン中</td>\n",
       "    </tr>\n",
       "    <tr>\n",
       "      <th>posvae_生成文8</th>\n",
       "      <td>鏡を見るとしたい人は絶対に見られていた!&lt;num&gt;歳の変貌ぶりが大騒ぎ!</td>\n",
       "    </tr>\n",
       "    <tr>\n",
       "      <th>posvae_生成文9</th>\n",
       "      <td>&lt;num&gt;代からの&lt;num&gt;歳?&lt;num&gt;歳主婦が試した杉山愛のシミケアが神レベル</td>\n",
       "    </tr>\n",
       "    <tr>\n",
       "      <th>posvae_distinct_1gram</th>\n",
       "      <td>0.430622</td>\n",
       "    </tr>\n",
       "    <tr>\n",
       "      <th>posvae_distinct_2gram</th>\n",
       "      <td>0.79397</td>\n",
       "    </tr>\n",
       "    <tr>\n",
       "      <th>posvae_distinct_3gram</th>\n",
       "      <td>0.920635</td>\n",
       "    </tr>\n",
       "    <tr>\n",
       "      <th>posvae-vae_distinct_1gram</th>\n",
       "      <td>0.240146</td>\n",
       "    </tr>\n",
       "    <tr>\n",
       "      <th>posvae_vae_distinct_1gram</th>\n",
       "      <td>0.240146</td>\n",
       "    </tr>\n",
       "    <tr>\n",
       "      <th>posvae_vae_distinct_2gram</th>\n",
       "      <td>0.47838</td>\n",
       "    </tr>\n",
       "    <tr>\n",
       "      <th>posvae_vae_distinct_3gram</th>\n",
       "      <td>0.529331</td>\n",
       "    </tr>\n",
       "  </tbody>\n",
       "</table>\n",
       "</div>"
      ],
      "text/plain": [
       "                                                                                    754\n",
       "入力文                                                 【レーザーじゃないシミ対策】デキる美魔女はみんなやってる簡単自宅ケア?\n",
       "vae_生成文0                                            皮膚科医(<num>)「シミは家で消せるよ?」簡単すぎる方法が大炎上中\n",
       "vae_生成文1                                   【シミはレーザー治療?】皮膚科医(<num>)「シミは家で消せるよ?」簡単すぎて大炎上中\n",
       "vae_生成文2                              【手遅れのシミは簡単に消える】皮膚科医(<num>)「シミは家で消せるよ」簡単すぎる方法が大炎上中\n",
       "vae_生成文3                          【レーザー治療はもう古い?】皮膚科医の妻(<num>)「シミは家で簡単に消えるよ?」効果が凄すぎて大炎上中\n",
       "vae_生成文4                                                    【ファンデ不要】スッピン美人急増中!シミの悩みにはこれ\n",
       "vae_生成文5                   【シミ・シワ・たるみ・シワ・たるみ・たるみ・たるみ】皮膚科医の妻(<num>)「シミは家で消せるよ?」簡単すぎて大炎上中\n",
       "vae_生成文6                                   【シミ・肝斑・肝斑】皮膚科医の妻(<num>)「シミは家で消せるよ?」簡単すぎて大炎上中\n",
       "vae_生成文7                                【シミ・肝斑・肝斑】皮膚科医の妻(<num>)「シミは家で簡単に消えるよ?」簡単すぎて大炎上中\n",
       "vae_生成文8                              【手遅れのシミは簡単に消える】皮膚科医の妻(<num>)「シミは家で消せるよ?」簡単すぎて大炎上中\n",
       "vae_生成文9                                                         【シミ対策はもう古い?】杉山愛さんのシミ対策\n",
       "vae_distinct_1gram                                                             0.190476\n",
       "vae_distinct_2gram                                                             0.315589\n",
       "vae_distinct_3gram                                                             0.391304\n",
       "posvae_生成文0                                                     顔にシミが消える?tvでも放送されたシミ消し法\n",
       "posvae_生成文1                                           夫「妻が惚れ直した」<num>代主婦が<num>ヶ月で見返した方法\n",
       "posvae_生成文2                                              シミには並ばない!杉山愛も愛用したシミ消しの裏ワザが簡単すぎ\n",
       "posvae_生成文3                                      <num>割の日本人女性が知らない?美肌を維持した<num>歳主婦が簡単すぎ\n",
       "posvae_生成文4                                            <num>代からのシミどこいった?杉山愛さんも愛用のジェルが話題\n",
       "posvae_生成文5                                        「なんじゃないのは、間違った時に」祈るで<num>歳主婦が大変身した方法\n",
       "posvae_生成文6                           <num>代必見!<num>歳主婦「すっぴん美肌ファンデ」付き培養液でシミしわが<num>%off\n",
       "posvae_生成文7                                        シミしわに直撃!1日<num>秒ケア付き<num>%offキャンペーン中\n",
       "posvae_生成文8                                        鏡を見るとしたい人は絶対に見られていた!<num>歳の変貌ぶりが大騒ぎ!\n",
       "posvae_生成文9                                   <num>代からの<num>歳?<num>歳主婦が試した杉山愛のシミケアが神レベル\n",
       "posvae_distinct_1gram                                                          0.430622\n",
       "posvae_distinct_2gram                                                           0.79397\n",
       "posvae_distinct_3gram                                                          0.920635\n",
       "posvae-vae_distinct_1gram                                                      0.240146\n",
       "posvae_vae_distinct_1gram                                                      0.240146\n",
       "posvae_vae_distinct_2gram                                                       0.47838\n",
       "posvae_vae_distinct_3gram                                                      0.529331"
      ]
     },
     "execution_count": 116,
     "metadata": {},
     "output_type": "execute_result"
    }
   ],
   "source": [
    "df.iloc[754].to_frame()"
   ]
  },
  {
   "cell_type": "markdown",
   "metadata": {},
   "source": [
    "## POS-VAE が有利なレコード"
   ]
  },
  {
   "cell_type": "code",
   "execution_count": null,
   "metadata": {},
   "outputs": [],
   "source": [
    "df['posvae_vae_distinct_1gram'] = df.posvae_distinct_1gram - df.vae_distinct_1gram\n",
    "df['posvae_vae_distinct_2gram'] = df.posvae_distinct_2gram - df.vae_distinct_2gram\n",
    "df['posvae_vae_distinct_3gram'] = df.posvae_distinct_3gram - df.vae_distinct_3gram"
   ]
  },
  {
   "cell_type": "code",
   "execution_count": 145,
   "metadata": {},
   "outputs": [],
   "source": [
    "# チェリーピッキング用： 最もPOS-VAEが有利なもの順に並べる\n",
    "# df.sort_values('posvae_vae_distinct_3gram', ascending=False)[:100]"
   ]
  }
 ],
 "metadata": {
  "kernelspec": {
   "display_name": "Python 3",
   "language": "python",
   "name": "python3"
  },
  "language_info": {
   "codemirror_mode": {
    "name": "ipython",
    "version": 3
   },
   "file_extension": ".py",
   "mimetype": "text/x-python",
   "name": "python",
   "nbconvert_exporter": "python",
   "pygments_lexer": "ipython3",
   "version": "3.7.6"
  }
 },
 "nbformat": 4,
 "nbformat_minor": 2
}
