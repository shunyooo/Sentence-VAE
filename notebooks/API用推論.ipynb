{
 "cells": [
  {
   "cell_type": "code",
   "execution_count": 1,
   "metadata": {},
   "outputs": [],
   "source": [
    "from google.cloud import storage\n",
    "import os"
   ]
  },
  {
   "cell_type": "code",
   "execution_count": 44,
   "metadata": {},
   "outputs": [],
   "source": [
    "# ローカルのみ\n",
    "from oauth2client.client import GoogleCredentials\n",
    "# cred = GoogleCredentials.get_application_default()\n",
    "# cred = GoogleCredentials.from_json('./cyberagent-143-47faf9af3ea2.json')"
   ]
  },
  {
   "cell_type": "code",
   "execution_count": 3,
   "metadata": {},
   "outputs": [],
   "source": [
    "from utils import to_var, idx2word, interpolate, AttributeDict\n",
    "from utils import words2input, ids2ptext"
   ]
  },
  {
   "cell_type": "code",
   "execution_count": 4,
   "metadata": {},
   "outputs": [],
   "source": [
    "import json"
   ]
  },
  {
   "cell_type": "code",
   "execution_count": 5,
   "metadata": {},
   "outputs": [],
   "source": [
    "import torch\n",
    "from model_kwbase import SentenceVAE\n",
    "from ptb import SOS_INDEX, UNK_INDEX, PAD_INDEX, EOS_INDEX"
   ]
  },
  {
   "cell_type": "code",
   "execution_count": null,
   "metadata": {},
   "outputs": [],
   "source": [
    "func_name = 'kawamoto-dews-exp-20191220-kw2title-hr-mediatag'\n",
    "! gcloud functions deploy kawamoto-dews-exp-20191220-kw2title-hr-mediatag --trigger-http --runtime=python37"
   ]
  },
  {
   "cell_type": "code",
   "execution_count": 31,
   "metadata": {},
   "outputs": [
    {
     "name": "stderr",
     "output_type": "stream",
     "text": [
      "/Users/s07309/.local/lib/python3.7/site-packages/google/auth/_default.py:69: UserWarning: Your application has authenticated using end user credentials from Google Cloud SDK. We recommend that most server applications use service accounts instead. If your application continues to use end user credentials from Cloud SDK, you might receive a \"quota exceeded\" or \"API not enabled\" error. For more information about service accounts, see https://cloud.google.com/docs/authentication/\n",
      "  warnings.warn(_CLOUD_SDK_CREDENTIALS_WARNING)\n",
      "/Users/s07309/.local/lib/python3.7/site-packages/google/auth/_default.py:69: UserWarning: Your application has authenticated using end user credentials from Google Cloud SDK. We recommend that most server applications use service accounts instead. If your application continues to use end user credentials from Cloud SDK, you might receive a \"quota exceeded\" or \"API not enabled\" error. For more information about service accounts, see https://cloud.google.com/docs/authentication/\n",
      "  warnings.warn(_CLOUD_SDK_CREDENTIALS_WARNING)\n"
     ]
    }
   ],
   "source": [
    "# データのダウンロード\n",
    "bucket_name = 'kawamoto-ramiel'\n",
    "data_name='hr.mediatag'\n",
    "model_url = f'experiments_v1_kw2copy_20191220/models/{data_name}/E9.pytorch'\n",
    "meta_url = f'experiments_v1_kw2copy_20191220/models/{data_name}/model_meta.json'\n",
    "\n",
    "src_vocab_url = f'experiments_v1_kw2copy_20191220/data/{data_name}/src/ptb.vocab.json'\n",
    "tgt_vocab_url = f'experiments_v1_kw2copy_20191220/data/{data_name}/tgt/ptb.vocab.json'\n",
    "\n",
    "model_filename = 'model.pytorch'\n",
    "meta_filename = 'model_meta.json'\n",
    "src_vocab_filename = 'src.vocab.json'\n",
    "tgt_vocab_filename = 'tgt.vocab.json'\n",
    "\n",
    "save_dir = './tmp'\n",
    "model_path = os.path.join(save_dir, model_filename)\n",
    "meta_path = os.path.join(save_dir, meta_filename)\n",
    "src_vocab_path = os.path.join(save_dir, src_vocab_filename)\n",
    "tgt_vocab_path = os.path.join(save_dir, tgt_vocab_filename)\n",
    "\n",
    "storage_client = storage.Client()\n",
    "bucket = storage_client.get_bucket(bucket_name)"
   ]
  },
  {
   "cell_type": "code",
   "execution_count": 11,
   "metadata": {},
   "outputs": [],
   "source": [
    "def load_json(path):\n",
    "    return json.load(open(path, 'r'))"
   ]
  },
  {
   "cell_type": "code",
   "execution_count": 12,
   "metadata": {},
   "outputs": [],
   "source": [
    "def download_gs_data(url, save_path):\n",
    "    blob = bucket.blob(url)\n",
    "    blob.download_to_filename(save_path)\n",
    "    \n",
    "# モデルの読み込み\n",
    "def load_model(path, meta_path):\n",
    "    with open(meta_path) as f:\n",
    "        meta_dict = AttributeDict(json.load(f))\n",
    "    \n",
    "    if torch.cuda.is_available():\n",
    "        device = torch.device('cuda:0')\n",
    "    else:\n",
    "        device = torch.device('cpu')\n",
    "        \n",
    "    state_dict = torch.load(path, map_location=device)\n",
    "    model_shapes = {k: v.shape for k,v in state_dict.items()}\n",
    "    ext_kwargs = {}\n",
    "    \n",
    "    # BOW Loss\n",
    "    bow_hidden_shape = model_shapes.get('latent2bow.0.weight')\n",
    "    use_bow_loss = bow_hidden_shape is not None\n",
    "    print(f'BOW Loss: {use_bow_loss}')\n",
    "    if use_bow_loss:\n",
    "        ext_kwargs['bow_hidden_size'] = bow_hidden_shape[0]\n",
    "    else:\n",
    "        ext_kwargs['use_bow_loss'] = False\n",
    "        \n",
    "    # Latent size\n",
    "    latent_size = model_shapes.get('hidden2logv.bias')[0]\n",
    "    print(f'Latent size: {latent_size}')\n",
    "    \n",
    "    # Gumbel\n",
    "    gumbel_vocab_size, gumbel_embedding_size = model_shapes.get('hidden2gumbel.weight', [None, None])\n",
    "    is_gumbel = gumbel_vocab_size is not None\n",
    "    print(f'Gumbel: {is_gumbel}')\n",
    "    if is_gumbel:\n",
    "        ext_kwargs['is_gumbel'] = is_gumbel\n",
    "        ext_kwargs['gumbel_tau'] = tau_dict[name]\n",
    "    print(ext_kwargs)\n",
    "    \n",
    "    vocab_size = model_shapes['embedding.weight'][0]\n",
    "    \n",
    "    # KW Base\n",
    "    out_vocab_size, _ = model_shapes.get('decoder_embedding.weight', [None, None])\n",
    "    if out_vocab_size is not None:\n",
    "        ext_kwargs['out_vocab_size'] = out_vocab_size\n",
    "        \n",
    "    model = SentenceVAE(\n",
    "        vocab_size=vocab_size,\n",
    "        sos_idx=SOS_INDEX,\n",
    "        eos_idx=EOS_INDEX,\n",
    "        pad_idx=PAD_INDEX,\n",
    "        unk_idx=UNK_INDEX,\n",
    "        max_sequence_length=meta_dict.max_sequence_length,\n",
    "        embedding_size=meta_dict.embedding_size,\n",
    "        rnn_type=meta_dict.rnn_type,\n",
    "        hidden_size=meta_dict.hidden_size,\n",
    "        word_dropout=meta_dict.word_dropout,\n",
    "        embedding_dropout=meta_dict.embedding_dropout,\n",
    "        latent_size=latent_size,\n",
    "        num_layers=meta_dict.num_layers,\n",
    "        bidirectional=meta_dict.bidirectional,        \n",
    "        **ext_kwargs,\n",
    "    )\n",
    "    print(model)\n",
    "    \n",
    "    if not os.path.exists(path):\n",
    "        raise FileNotFoundError(path)\n",
    "\n",
    "    model.load_state_dict(state_dict)\n",
    "    print(\"Model loaded from %s\"%(path))\n",
    "\n",
    "    if torch.cuda.is_available():\n",
    "        model = model.cuda()\n",
    "        \n",
    "    model.eval()\n",
    "    return model\n",
    "\n",
    "\n",
    "def sample_z_from_gaussian(mean, logv):\n",
    "    std = torch.exp(0.5 * logv)\n",
    "    z = to_var(torch.randn([logv.shape[1]]))\n",
    "    z = z * std + mean\n",
    "    return z\n",
    "\n",
    "\n",
    "def encode_z_list(model, sample_input, sample_length, n):\n",
    "    z_list = []\n",
    "    with torch.no_grad():\n",
    "        hidden = model.encode(sample_input, sample_length)\n",
    "        mean, logv, z = model.hidden2latent(hidden)\n",
    "        z_list.append(z)\n",
    "        for _ in range(n-1):\n",
    "            z = sample_z_from_gaussian(mean, logv)\n",
    "            z_list.append(z)\n",
    "    return torch.cat(z_list)\n",
    "\n",
    "\n",
    "# 推論関数\n",
    "def inference(word_list, model, src_vocab, tgt_vocab, n=10):\n",
    "    # Inputへ整形\n",
    "    sample = words2input(word_list, src_vocab['w2i'])\n",
    "    sample_input, sample_length = sample['input'], sample['length']\n",
    "    # Encode\n",
    "    z_list = encode_z_list(model, sample_input, sample_length, n)\n",
    "    # Decode\n",
    "    generations, _ = model.inference(z = z_list)\n",
    "    # Outputへ整形\n",
    "    decode_texts = [ids2ptext(g, tgt_vocab['i2w']) for g in generations]\n",
    "    return decode_texts"
   ]
  },
  {
   "cell_type": "code",
   "execution_count": 14,
   "metadata": {},
   "outputs": [],
   "source": [
    "def main(request):\n",
    "    # データのダウンロード\n",
    "    if not os.path.exists(model_path):\n",
    "        download_gs_data(model_url, model_path)\n",
    "        download_gs_data(src_vocab_url, src_vocab_path)\n",
    "        download_gs_data(tgt_vocab_url, tgt_vocab_path)\n",
    "        download_gs_data(meta_url, meta_path)\n",
    "        \n",
    "    # インスタンス化\n",
    "    global model, src_vocab, tgt_vocab\n",
    "    if model is None or src_vocab is None or tgt_vocab is None:\n",
    "        model = load_model(model_path, meta_path)\n",
    "        src_vocab, tgt_vocab = load_json(src_vocab_path), load_json(tgt_vocab_path)        \n",
    "        \n",
    "    if not (request.args and 'keyword' in  request.args):\n",
    "        return jsonify({'message': 'no keyword'}), 500\n",
    "    \n",
    "    keyword_list = request.args.getlist('keyword')\n",
    "    n = request.args.get('n', 10)\n",
    "    \n",
    "    decoded_texts = inference(word_list, model, src_vocab, tgt_vocab, n=n)\n",
    "    \n",
    "    return  jsonify({'message': 'success', 'decoded': decoded_texts}), 200"
   ]
  },
  {
   "cell_type": "code",
   "execution_count": null,
   "metadata": {},
   "outputs": [],
   "source": [
    "if __name__ == \"__main__\":\n",
    "    from flask import Flask, request\n",
    "    app = Flask(__name__)\n",
    "\n",
    "    @app.route('/')\n",
    "    def index():\n",
    "        return main(request)\n",
    "\n",
    "    app.run('127.0.0.1', 8000, debug=True)"
   ]
  },
  {
   "cell_type": "code",
   "execution_count": null,
   "metadata": {},
   "outputs": [],
   "source": []
  },
  {
   "cell_type": "code",
   "execution_count": 28,
   "metadata": {},
   "outputs": [
    {
     "data": {
      "text/plain": [
       "'experiments_v1_kw2copy_20191220/data/hr.mediatag/src/ptb.vocab.json'"
      ]
     },
     "execution_count": 28,
     "metadata": {},
     "output_type": "execute_result"
    }
   ],
   "source": [
    "src_vocab_url"
   ]
  },
  {
   "cell_type": "code",
   "execution_count": 29,
   "metadata": {},
   "outputs": [
    {
     "data": {
      "text/plain": [
       "'experiments_v1_kw2copy_20191220/data/hr.mediatag/tgt/ptb.vocab.json'"
      ]
     },
     "execution_count": 29,
     "metadata": {},
     "output_type": "execute_result"
    }
   ],
   "source": [
    "tgt_vocab_url"
   ]
  },
  {
   "cell_type": "code",
   "execution_count": 30,
   "metadata": {},
   "outputs": [
    {
     "data": {
      "text/plain": [
       "'experiments_v1_kw2copy_20191220/models/{data_name}/model_meta.json'"
      ]
     },
     "execution_count": 30,
     "metadata": {},
     "output_type": "execute_result"
    }
   ],
   "source": [
    "meta_url"
   ]
  },
  {
   "cell_type": "code",
   "execution_count": 34,
   "metadata": {},
   "outputs": [
    {
     "name": "stdout",
     "output_type": "stream",
     "text": [
      "CPU times: user 202 ms, sys: 67.5 ms, total: 269 ms\n",
      "Wall time: 1 s\n"
     ]
    }
   ],
   "source": [
    "%%time\n",
    "download_gs_data(model_url, model_path)\n",
    "download_gs_data(src_vocab_url, src_vocab_path)\n",
    "download_gs_data(tgt_vocab_url, tgt_vocab_path)\n",
    "download_gs_data(meta_url, meta_path)"
   ]
  },
  {
   "cell_type": "code",
   "execution_count": 35,
   "metadata": {},
   "outputs": [
    {
     "name": "stdout",
     "output_type": "stream",
     "text": [
      "BOW Loss: False\n",
      "Latent size: 16\n",
      "Gumbel: False\n",
      "{'use_bow_loss': False}\n",
      "SentenceVAE(\n",
      "  (embedding): Embedding(1235, 300)\n",
      "  (embedding_dropout): Dropout(p=0.5, inplace=False)\n",
      "  (decoder_embedding): Embedding(5622, 300)\n",
      "  (encoder_rnn): GRU(300, 256, batch_first=True)\n",
      "  (decoder_rnn): GRU(300, 256, batch_first=True)\n",
      "  (hidden2mean): Linear(in_features=256, out_features=16, bias=True)\n",
      "  (hidden2logv): Linear(in_features=256, out_features=16, bias=True)\n",
      "  (latent2hidden): Linear(in_features=16, out_features=256, bias=True)\n",
      "  (outputs2vocab): Linear(in_features=256, out_features=5622, bias=True)\n",
      ")\n",
      "Model loaded from ./tmp/model.pytorch\n"
     ]
    }
   ],
   "source": [
    "model = load_model(model_path, meta_path)\n",
    "src_vocab, tgt_vocab = load_json(src_vocab_path), load_json(tgt_vocab_path)        "
   ]
  },
  {
   "cell_type": "code",
   "execution_count": 41,
   "metadata": {
    "scrolled": false
   },
   "outputs": [],
   "source": [
    "word_list = ['看護師', '日勤', '月']\n",
    "decoded_texts = inference(word_list, model, src_vocab, tgt_vocab, n=30)"
   ]
  },
  {
   "cell_type": "code",
   "execution_count": 42,
   "metadata": {},
   "outputs": [
    {
     "data": {
      "text/plain": [
       "['【急募】看護師、月<num>万、日勤のみ',\n",
       " '看護師、<num>月入職、月給<num>万円、日勤のみ',\n",
       " '【高待遇の歯科医師求人】業界最大級の案件数、業界最大級!',\n",
       " '【急募】看護師、月給<num>万、日勤のみ',\n",
       " '【高待遇にて募集中!】未経験歓迎の求人<num>,<num>件以上!いま、大手・優良企業が採用を強化しています。',\n",
       " '看護師、<num>月入職、月給<num>万、日勤のみ',\n",
       " '【急募】看護師、月収<num>万、賞与<num>ヶ月',\n",
       " '看護師、<num>月入職、月給<num>万円、日勤のみ',\n",
       " '【急募】看護師、月<num>万、日勤のみ',\n",
       " '【急募】保育士の求人サイト',\n",
       " '【介護福祉士限定】月給<num>万円/年休<num>日. . .好待遇の求人が増加中',\n",
       " '[理学療法士]<num>歳からの転職で年収<num>万円・賞与<num>回',\n",
       " '【急募】看護師、月給<num>万、日勤のみ',\n",
       " '【急募】看護師、月<num>万、日勤のみ',\n",
       " '【急募】看護師、月収<num>万円以上の求人多数!',\n",
       " '看護師、<num>月入職、月給<num>万、日勤のみ',\n",
       " '看護師、<num>月入職、月給<num>万、日勤のみ',\n",
       " '【<num>月入社の求人特集】',\n",
       " '【急募】保育士、月給<num>万、日勤のみ',\n",
       " '【flexy】<num>年連続支持率<num>%以下!「イースix」を公開!猛牛vs猛牛!',\n",
       " '看護師、<num>月入職、月給<num>万円、日勤のみ',\n",
       " '【介護福祉士限定】月給<num>万円/年休<num>日. . .好待遇の求人が多数!',\n",
       " '【急募】看護師、月<num>日、日勤のみ',\n",
       " '【急募】看護師、月収<num>万、土日休みなど、女性に人気の求人が増加中',\n",
       " '【急募】看護師、月<num>万、日勤のみ',\n",
       " '【<num>年連続顧客満足度no.<num>】月給<num>万/週休<num>日の介護現場に転職',\n",
       " '【急募】看護師、月<num>万、日勤のみ',\n",
       " '【急募】<num>年連続支持率no<num>のお店があなたのスキルを活かして、新しい挑戦をしませんか?',\n",
       " '【介護福祉士限定】月給<num>万、<num>時まで/週休<num>日が当たり前',\n",
       " '【急募】看護師、月給<num>万、日勤のみ']"
      ]
     },
     "execution_count": 42,
     "metadata": {},
     "output_type": "execute_result"
    }
   ],
   "source": [
    "decoded_texts"
   ]
  },
  {
   "cell_type": "code",
   "execution_count": null,
   "metadata": {},
   "outputs": [],
   "source": []
  }
 ],
 "metadata": {
  "kernelspec": {
   "display_name": "Python 3",
   "language": "python",
   "name": "python3"
  },
  "language_info": {
   "codemirror_mode": {
    "name": "ipython",
    "version": 3
   },
   "file_extension": ".py",
   "mimetype": "text/x-python",
   "name": "python",
   "nbconvert_exporter": "python",
   "pygments_lexer": "ipython3",
   "version": "3.7.2"
  }
 },
 "nbformat": 4,
 "nbformat_minor": 2
}
