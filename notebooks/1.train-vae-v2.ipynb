{
 "cells": [
  {
   "cell_type": "code",
   "execution_count": 1,
   "metadata": {},
   "outputs": [],
   "source": [
    "import os\n",
    "import sys\n",
    "path = os.path.join(os.path.abspath(os.curdir), '../src')\n",
    "sys.path.append(path)"
   ]
  },
  {
   "cell_type": "markdown",
   "metadata": {},
   "source": [
    "# Train"
   ]
  },
  {
   "cell_type": "code",
   "execution_count": 2,
   "metadata": {},
   "outputs": [],
   "source": [
    "import os\n",
    "import json\n",
    "import time\n",
    "import torch\n",
    "import argparse\n",
    "import numpy as np\n",
    "from multiprocessing import cpu_count\n",
    "from torch.utils.tensorboard import SummaryWriter\n",
    "from torch.utils.data import DataLoader\n",
    "from collections import OrderedDict, defaultdict\n",
    "\n",
    "from ptb import PTB\n",
    "from utils import idx2word, experiment_name, AttributeDict\n",
    "from models.model_kwbase import SentenceVAE\n",
    "from models.model_utils import to_var\n",
    "from glob import glob"
   ]
  },
  {
   "cell_type": "code",
   "execution_count": 3,
   "metadata": {},
   "outputs": [
    {
     "data": {
      "text/plain": [
       "('/root/user/work/src/Sentence-VAE', '/root/user/work/src/Sentence-VAE/runs')"
      ]
     },
     "execution_count": 3,
     "metadata": {},
     "output_type": "execute_result"
    }
   ],
   "source": [
    "top_dir = os.path.abspath('..')\n",
    "runs_dir = f'{top_dir}/runs'\n",
    "top_dir, runs_dir"
   ]
  },
  {
   "cell_type": "code",
   "execution_count": 4,
   "metadata": {},
   "outputs": [
    {
     "data": {
      "text/plain": [
       "'/root/user/work/src/Sentence-VAE/data/eccos_v2'"
      ]
     },
     "execution_count": 4,
     "metadata": {},
     "output_type": "execute_result"
    }
   ],
   "source": [
    "data_base_dir = f'{top_dir}/data'\n",
    "data_name = 'eccos_v2'\n",
    "data_dir = f'{data_base_dir}/{data_name}'\n",
    "data_dir"
   ]
  },
  {
   "cell_type": "code",
   "execution_count": 5,
   "metadata": {
    "scrolled": true
   },
   "outputs": [
    {
     "data": {
      "text/plain": [
       "('/root/user/work/src/Sentence-VAE/runs',\n",
       " '/root/user/work/src/Sentence-VAE/runs')"
      ]
     },
     "execution_count": 5,
     "metadata": {},
     "output_type": "execute_result"
    }
   ],
   "source": [
    "log_dir, save_model_path = runs_dir, runs_dir\n",
    "# log_dir = f'{runs_dir}/logs'\n",
    "# save_model_path = f'{runs_dir}/models'\n",
    "log_dir, save_model_path"
   ]
  },
  {
   "cell_type": "code",
   "execution_count": 6,
   "metadata": {},
   "outputs": [
    {
     "name": "stdout",
     "output_type": "stream",
     "text": [
      "src max: 51, tgt max: 51\n"
     ]
    }
   ],
   "source": [
    "def readlines(path):\n",
    "    with open(path, 'r') as f:\n",
    "        return [s.replace('\\n', '') for s in f.readlines()]\n",
    "\n",
    "def cal_max_file_lines(path):\n",
    "    lines = readlines(path)\n",
    "    line_lengths = [len(line.split(' ')) for line in lines]\n",
    "    return max(line_lengths)\n",
    "    \n",
    "src_max_length = cal_max_file_lines(f'{data_dir}/src/ptb.train.txt')\n",
    "tgt_max_length = cal_max_file_lines(f'{data_dir}/tgt/ptb.train.txt')\n",
    "print(f'src max: {src_max_length}, tgt max: {tgt_max_length}')"
   ]
  },
  {
   "cell_type": "code",
   "execution_count": 7,
   "metadata": {},
   "outputs": [
    {
     "data": {
      "text/plain": [
       "<AttrDict{'data_dir': '/root/user/work/src/Sentence-VAE/data/eccos_v2', 'create_data': False, 'max_sequence_length': 51, 'max_sequence_length_src': 51, 'min_occ': 1, 'test': False, 'epochs': 10, 'batch_size': 32, 'learning_rate': 0.001, 'embedding_size': 300, 'rnn_type': 'gru', 'hidden_size': 256, 'num_layers': 1, 'bidirectional': False, 'latent_size': 16, 'word_dropout': 0, 'embedding_dropout': 0.5, 'anneal_function': 'logistic', 'k': 0.0025, 'x0': 2500, 'print_every': 50, 'tensorboard_logging': True, 'logdir': '/root/user/work/src/Sentence-VAE/runs', 'save_model_path': '/root/user/work/src/Sentence-VAE/runs', 'experiment_name': 'vae_eccos_v2', 'debug': False}>"
      ]
     },
     "execution_count": 7,
     "metadata": {},
     "output_type": "execute_result"
    }
   ],
   "source": [
    "args = {\n",
    "    'data_dir': data_dir,\n",
    "    'create_data': False,\n",
    "    'max_sequence_length': tgt_max_length,\n",
    "    'max_sequence_length_src': src_max_length,\n",
    "    'min_occ': 1,\n",
    "    'test': False,\n",
    "\n",
    "    'epochs': 10,\n",
    "    'batch_size': 32,\n",
    "    'learning_rate': 0.001,\n",
    "\n",
    "    'embedding_size': 300,\n",
    "    'rnn_type': 'gru',\n",
    "    'hidden_size': 256,\n",
    "    'num_layers': 1,\n",
    "    'bidirectional': False,\n",
    "    'latent_size': 16,\n",
    "    'word_dropout': 0,\n",
    "    'embedding_dropout': 0.5,\n",
    "\n",
    "    'anneal_function': 'logistic',\n",
    "    'k': 0.0025,\n",
    "    'x0': 2500,\n",
    "\n",
    "    'print_every': 50,\n",
    "    'tensorboard_logging': True,\n",
    "    'logdir': log_dir,\n",
    "    'save_model_path': save_model_path,\n",
    "    'experiment_name': f'vae_{data_name}',\n",
    "    \n",
    "    'debug': False,\n",
    "}\n",
    "\n",
    "args = AttributeDict(args)\n",
    "\n",
    "args.rnn_type = args.rnn_type.lower()\n",
    "args.anneal_function = args.anneal_function.lower()\n",
    "\n",
    "assert args.rnn_type in ['rnn', 'lstm', 'gru']\n",
    "assert args.anneal_function in ['logistic', 'linear']\n",
    "assert 0 <= args.word_dropout <= 1\n",
    "args"
   ]
  },
  {
   "cell_type": "markdown",
   "metadata": {},
   "source": [
    "## load data"
   ]
  },
  {
   "cell_type": "code",
   "execution_count": 8,
   "metadata": {},
   "outputs": [
    {
     "name": "stdout",
     "output_type": "stream",
     "text": [
      "loading /root/user/work/src/Sentence-VAE/data/eccos_v2\n",
      "('train', 'src')\n",
      "vocab: 10293, records: 44596\n",
      "('train', 'tgt')\n",
      "vocab: 10293, records: 44596\n",
      "('valid', 'src')\n",
      "vocab: 10293, records: 2477\n",
      "('valid', 'tgt')\n",
      "vocab: 10293, records: 2477\n",
      "CPU times: user 1.95 s, sys: 135 ms, total: 2.09 s\n",
      "Wall time: 2.08 s\n"
     ]
    }
   ],
   "source": [
    "%%time\n",
    "import itertools\n",
    "data_types = ['src', 'tgt']\n",
    "splits = ['train', 'valid'] + (['test'] if args.test else [])\n",
    "datasets = OrderedDict()\n",
    "print(f'loading {args.data_dir}')\n",
    "for split, src_tgt in itertools.product(splits, data_types):\n",
    "    key = (split, src_tgt)\n",
    "    print(key)\n",
    "    datasets[key] = PTB(\n",
    "        data_dir=f'{args.data_dir}/{src_tgt}',\n",
    "        split=split,\n",
    "        create_data=args.create_data,\n",
    "        max_sequence_length=args.max_sequence_length if src_tgt == 'tgt' else args.max_sequence_length_src,\n",
    "        min_occ=args.min_occ\n",
    "    )\n",
    "    print(f'vocab: {datasets[key].vocab_size}, records: {len(datasets[key].data)}')"
   ]
  },
  {
   "cell_type": "code",
   "execution_count": 9,
   "metadata": {},
   "outputs": [
    {
     "name": "stdout",
     "output_type": "stream",
     "text": [
      "■ src-input \n",
      "<sos> ベタベタ ・ <unk> ! <sep> 透明 & 毛穴 カバー 耐久 パウダー <pad> <pad> <pad> <pad> <pad> <pad> <pad> <pad> <pad> <pad> <pad> <pad> <pad> <pad> <pad> <pad> <pad> <pad> <pad> <pad> <pad> <pad> <pad> <pad> <pad> <pad> <pad> <pad> <pad> <pad> <pad> <pad> <pad> <pad> <pad> <pad> <pad> <pad> <pad>\n",
      "■ tgt-target\n",
      "ベタベタ ・ <unk> ! <sep> 透明 & 毛穴 カバー 耐久 パウダー <eos> <pad> <pad> <pad> <pad> <pad> <pad> <pad> <pad> <pad> <pad> <pad> <pad> <pad> <pad> <pad> <pad> <pad> <pad> <pad> <pad> <pad> <pad> <pad> <pad> <pad> <pad> <pad> <pad> <pad> <pad> <pad> <pad> <pad> <pad> <pad> <pad> <pad> <pad> <pad>\n"
     ]
    }
   ],
   "source": [
    "# 実際のデータ確認\n",
    "def ids2text(id_list, ptb):\n",
    "    return ' '.join([ptb.i2w[f'{i}'] for i in id_list])\n",
    "\n",
    "_ptb_src = datasets[('train', 'src')]\n",
    "_ptb_tgt = datasets[('train', 'tgt')]\n",
    "index = str(101)\n",
    "_sample_src, _sample_tgt = _ptb_src.data[index], _ptb_tgt[index]\n",
    "print(f'■ src-input \\n{ids2text(_sample_src[\"input\"], _ptb_src)}')\n",
    "# print(f'■ src-target \\n{ids2text(_sample_src[\"target\"], _ptb_src)}')\n",
    "# print(f'■ tgt-input\\n{ids2text(_sample_tgt[\"input\"], _ptb_tgt)}')\n",
    "print(f'■ tgt-target\\n{ids2text(_sample_tgt[\"target\"], _ptb_tgt)}')"
   ]
  },
  {
   "cell_type": "markdown",
   "metadata": {},
   "source": [
    "## build model"
   ]
  },
  {
   "cell_type": "code",
   "execution_count": 10,
   "metadata": {},
   "outputs": [],
   "source": [
    "from ptb import SOS_INDEX, EOS_INDEX, PAD_INDEX, UNK_INDEX"
   ]
  },
  {
   "cell_type": "code",
   "execution_count": 11,
   "metadata": {},
   "outputs": [],
   "source": [
    "%load_ext autoreload"
   ]
  },
  {
   "cell_type": "code",
   "execution_count": 12,
   "metadata": {},
   "outputs": [],
   "source": [
    "%autoreload\n",
    "model = SentenceVAE(\n",
    "    vocab_size=datasets[('train', 'src')].vocab_size,\n",
    "    sos_idx=SOS_INDEX,\n",
    "    eos_idx=EOS_INDEX,\n",
    "    pad_idx=PAD_INDEX,\n",
    "    unk_idx=UNK_INDEX,\n",
    "    max_sequence_length=args.max_sequence_length,\n",
    "    embedding_size=args.embedding_size,\n",
    "    rnn_type=args.rnn_type,\n",
    "    hidden_size=args.hidden_size,\n",
    "    word_dropout=args.word_dropout,\n",
    "    embedding_dropout=args.embedding_dropout,\n",
    "    latent_size=args.latent_size,\n",
    "    num_layers=args.num_layers,\n",
    "    bidirectional=args.bidirectional,\n",
    "    \n",
    "    # bow loss\n",
    "    # bow_hidden_size=256,\n",
    "    use_bow_loss=False,\n",
    "    \n",
    "    # kw base\n",
    "    # out_vocab_size=datasets[('train', 'tgt')].vocab_size,\n",
    "    )\n",
    "\n",
    "if torch.cuda.is_available():\n",
    "    model = model.cuda()"
   ]
  },
  {
   "cell_type": "code",
   "execution_count": 13,
   "metadata": {},
   "outputs": [
    {
     "data": {
      "text/plain": [
       "SentenceVAE(\n",
       "  (embedding): Embedding(10293, 300)\n",
       "  (embedding_dropout): Dropout(p=0.5, inplace=False)\n",
       "  (decoder_embedding): Embedding(10293, 300)\n",
       "  (encoder_rnn): GRU(300, 256, batch_first=True)\n",
       "  (decoder_rnn): GRU(300, 256, batch_first=True)\n",
       "  (hidden2mean): Linear(in_features=256, out_features=16, bias=True)\n",
       "  (hidden2logv): Linear(in_features=256, out_features=16, bias=True)\n",
       "  (latent2hidden): Linear(in_features=16, out_features=256, bias=True)\n",
       "  (outputs2vocab): Linear(in_features=256, out_features=10293, bias=True)\n",
       ")"
      ]
     },
     "execution_count": 13,
     "metadata": {},
     "output_type": "execute_result"
    }
   ],
   "source": [
    "model"
   ]
  },
  {
   "cell_type": "markdown",
   "metadata": {},
   "source": [
    "## log"
   ]
  },
  {
   "cell_type": "code",
   "execution_count": 14,
   "metadata": {},
   "outputs": [],
   "source": [
    "def cstr(obj):\n",
    "    return f'```{obj}```'"
   ]
  },
  {
   "cell_type": "code",
   "execution_count": 15,
   "metadata": {},
   "outputs": [],
   "source": [
    "def str_dict(_dict):\n",
    "    return '  \\n'.join([f'{k}: {v}' for k,v in _dict.items()])"
   ]
  },
  {
   "cell_type": "code",
   "execution_count": 16,
   "metadata": {},
   "outputs": [],
   "source": [
    "def get_meta_model_dict(model, args):\n",
    "    meta_dict = {k:v for k, v in model.__dict__.items() if not k[0] == '_'}\n",
    "    meta_dict.update(args.obj)\n",
    "    return meta_dict"
   ]
  },
  {
   "cell_type": "code",
   "execution_count": 17,
   "metadata": {
    "scrolled": false
   },
   "outputs": [
    {
     "name": "stdout",
     "output_type": "stream",
     "text": [
      "tensorboard logging: True\n",
      "▼tensorboard logging\n",
      "/root/user/work/src/Sentence-VAE/runs/vae_eccos_v2_TS=2020-01-05-181436_BS=32_LR=0.001_EB=300_GRU_HS=256_L=1_BI=0_LS=16_WD=0_ANN=LOGISTIC_K=0.0025_X0=2500\n",
      "▼ model save\n",
      "/root/user/work/src/Sentence-VAE/runs/vae_eccos_v2_TS=2020-01-05-181436_BS=32_LR=0.001_EB=300_GRU_HS=256_L=1_BI=0_LS=16_WD=0_ANN=LOGISTIC_K=0.0025_X0=2500/models\n"
     ]
    }
   ],
   "source": [
    "print(f'tensorboard logging: {args.tensorboard_logging}')\n",
    "ts = time.strftime('%Y-%m-%d-%H%M%S', time.localtime())\n",
    "exp_name = experiment_name(args,ts)\n",
    "\n",
    "if args.tensorboard_logging:\n",
    "    writer_path = os.path.join(args.logdir, exp_name)\n",
    "    writer = SummaryWriter(writer_path)\n",
    "    writer.add_text(\"model\", cstr(model.__repr__().replace('\\n', '  \\n')))\n",
    "    writer.add_text(\"args\", cstr(str_dict(args.obj)))\n",
    "    writer.add_text(\"ts\", ts)\n",
    "    print(f'▼tensorboard logging\\n{writer_path}')\n",
    "    \n",
    "save_model_path = os.path.join(args.save_model_path, exp_name, 'models')\n",
    "os.makedirs(save_model_path, exist_ok=True)\n",
    "print(f'▼ model save\\n{save_model_path}')\n",
    "\n",
    "# メタパラメータ保存\n",
    "with open(os.path.join(save_model_path, 'model_meta.json'), 'w') as f:\n",
    "    meta_dict = get_meta_model_dict(model, args)\n",
    "    meta_dict.pop('tensor')\n",
    "    json.dump(meta_dict, f)"
   ]
  },
  {
   "cell_type": "markdown",
   "metadata": {},
   "source": [
    "## optimizer"
   ]
  },
  {
   "cell_type": "code",
   "execution_count": 18,
   "metadata": {},
   "outputs": [],
   "source": [
    "optimizer = torch.optim.Adam(model.parameters(), lr=args.learning_rate)\n",
    "Tensor = torch.cuda.FloatTensor if torch.cuda.is_available() else torch.Tensor\n",
    "LongTensor = torch.cuda.LongTensor if torch.cuda.is_available() else torch.LongTensor\n",
    "step = 0"
   ]
  },
  {
   "cell_type": "code",
   "execution_count": 19,
   "metadata": {},
   "outputs": [
    {
     "data": {
      "text/plain": [
       "odict_keys([('train', 'src'), ('train', 'tgt'), ('valid', 'src'), ('valid', 'tgt')])"
      ]
     },
     "execution_count": 19,
     "metadata": {},
     "output_type": "execute_result"
    }
   ],
   "source": [
    "datasets.keys()"
   ]
  },
  {
   "cell_type": "code",
   "execution_count": 20,
   "metadata": {},
   "outputs": [
    {
     "name": "stdout",
     "output_type": "stream",
     "text": [
      "<sos> 水 なし ! <sep> 美容 成分 しか 入っ て ない ! <sep> セラミド <num> 倍 ジェル が やばい 笑 <pad> <pad> <pad> <pad> <pad> <pad> <pad> <pad> <pad> <pad> <pad> <pad> <pad> <pad> <pad> <pad> <pad> <pad> <pad> <pad> <pad> <pad> <pad> <pad> <pad> <pad> <pad> <pad> <pad> <pad> <pad>\n",
      "水 なし ! <sep> 美容 成分 しか 入っ て ない ! <sep> セラミド <num> 倍 ジェル が やばい 笑 <eos> <pad> <pad> <pad> <pad> <pad> <pad> <pad> <pad> <pad> <pad> <pad> <pad> <pad> <pad> <pad> <pad> <pad> <pad> <pad> <pad> <pad> <pad> <pad> <pad> <pad> <pad> <pad> <pad> <pad> <pad> <pad>\n"
     ]
    }
   ],
   "source": [
    "ae_datasets = {split: dataset for (split, src_tgt), dataset in datasets.items() if src_tgt == 'tgt'}\n",
    "print(ids2text(ae_datasets['train'][0]['input'], ae_datasets['train']))\n",
    "print(ids2text(ae_datasets['train'][0]['target'], ae_datasets['train']))"
   ]
  },
  {
   "cell_type": "code",
   "execution_count": 21,
   "metadata": {},
   "outputs": [
    {
     "name": "stdout",
     "output_type": "stream",
     "text": [
      "train: 44596\n",
      "valid: 2477\n"
     ]
    }
   ],
   "source": [
    "# ループ内で扱う用に変形\n",
    "_datasets = {}\n",
    "for split in splits:\n",
    "    dataset = []\n",
    "    print(f\"{split}: {len(datasets[(split, 'src')])}\")\n",
    "    for i in range(len(datasets[(split, 'src')])):\n",
    "        _data = {}\n",
    "        for data_type in data_types:\n",
    "            d = datasets[(split, data_type)][f'{i}']\n",
    "            _data.update({f'{data_type}_{k}': v for k, v in d.items()})\n",
    "        dataset.append(_data)\n",
    "    _datasets[split] = dataset\n",
    "    if args.debug:\n",
    "        _data_limit = 300\n",
    "        _datasets[split] = dataset[:_data_limit]\n",
    "        print(f'debug → {_data_limit}')"
   ]
  },
  {
   "cell_type": "code",
   "execution_count": 22,
   "metadata": {},
   "outputs": [
    {
     "data": {
      "text/plain": [
       "dict_keys(['train', 'valid'])"
      ]
     },
     "execution_count": 22,
     "metadata": {},
     "output_type": "execute_result"
    }
   ],
   "source": [
    "_datasets.keys()"
   ]
  },
  {
   "cell_type": "code",
   "execution_count": 23,
   "metadata": {},
   "outputs": [
    {
     "data": {
      "text/plain": [
       "{'src_input': array([ 2,  4,  5,  6,  7,  8,  9, 10, 11, 12, 13,  6,  7, 14, 15, 16, 17,\n",
       "        18, 19, 20,  0,  0,  0,  0,  0,  0,  0,  0,  0,  0,  0,  0,  0,  0,\n",
       "         0,  0,  0,  0,  0,  0,  0,  0,  0,  0,  0,  0,  0,  0,  0,  0,  0]),\n",
       " 'src_target': array([ 4,  5,  6,  7,  8,  9, 10, 11, 12, 13,  6,  7, 14, 15, 16, 17, 18,\n",
       "        19, 20,  3,  0,  0,  0,  0,  0,  0,  0,  0,  0,  0,  0,  0,  0,  0,\n",
       "         0,  0,  0,  0,  0,  0,  0,  0,  0,  0,  0,  0,  0,  0,  0,  0,  0]),\n",
       " 'src_length': 20,\n",
       " 'tgt_input': array([ 2,  4,  5,  6,  7,  8,  9, 10, 11, 12, 13,  6,  7, 14, 15, 16, 17,\n",
       "        18, 19, 20,  0,  0,  0,  0,  0,  0,  0,  0,  0,  0,  0,  0,  0,  0,\n",
       "         0,  0,  0,  0,  0,  0,  0,  0,  0,  0,  0,  0,  0,  0,  0,  0,  0]),\n",
       " 'tgt_target': array([ 4,  5,  6,  7,  8,  9, 10, 11, 12, 13,  6,  7, 14, 15, 16, 17, 18,\n",
       "        19, 20,  3,  0,  0,  0,  0,  0,  0,  0,  0,  0,  0,  0,  0,  0,  0,\n",
       "         0,  0,  0,  0,  0,  0,  0,  0,  0,  0,  0,  0,  0,  0,  0,  0,  0]),\n",
       " 'tgt_length': 20}"
      ]
     },
     "execution_count": 23,
     "metadata": {},
     "output_type": "execute_result"
    }
   ],
   "source": [
    "_datasets['train'][0]"
   ]
  },
  {
   "cell_type": "code",
   "execution_count": 24,
   "metadata": {},
   "outputs": [
    {
     "data": {
      "text/plain": [
       "<ptb.PTB at 0x7ff4b4bda9d0>"
      ]
     },
     "execution_count": 24,
     "metadata": {},
     "output_type": "execute_result"
    }
   ],
   "source": [
    "train_target_ptb = datasets[('train', 'tgt')]\n",
    "train_target_ptb"
   ]
  },
  {
   "cell_type": "code",
   "execution_count": 25,
   "metadata": {},
   "outputs": [],
   "source": [
    "from utils import ids2ptext\n",
    "from metric import write_tensorboard_valid_metric, remove_pad_index"
   ]
  },
  {
   "cell_type": "code",
   "execution_count": 26,
   "metadata": {
    "scrolled": false
   },
   "outputs": [
    {
     "name": "stdout",
     "output_type": "stream",
     "text": [
      "TRAIN Batch 0000/1393, Loss  161.7524, NLL-Loss  161.7517, KL-Loss    0.3490, KL-Weight  0.002\n",
      "TRAIN Batch 0050/1393, Loss  105.8214, NLL-Loss  105.7989, KL-Loss   10.2853, KL-Weight  0.002\n",
      "TRAIN Batch 0100/1393, Loss   94.6118, NLL-Loss   94.5521, KL-Loss   24.1432, KL-Weight  0.002\n",
      "TRAIN Batch 0150/1393, Loss   93.9645, NLL-Loss   93.8748, KL-Loss   32.0324, KL-Weight  0.003\n",
      "TRAIN Batch 0200/1393, Loss   99.6903, NLL-Loss   99.5287, KL-Loss   50.9428, KL-Weight  0.003\n",
      "TRAIN Batch 0250/1393, Loss   83.9256, NLL-Loss   83.7380, KL-Loss   52.1848, KL-Weight  0.004\n",
      "TRAIN Batch 0300/1393, Loss   78.0747, NLL-Loss   77.8428, KL-Loss   56.9574, KL-Weight  0.004\n",
      "TRAIN Batch 0350/1393, Loss   78.0256, NLL-Loss   77.7481, KL-Loss   60.2039, KL-Weight  0.005\n",
      "TRAIN Batch 0400/1393, Loss   81.6975, NLL-Loss   81.3652, KL-Loss   63.6731, KL-Weight  0.005\n",
      "TRAIN Batch 0450/1393, Loss   76.4126, NLL-Loss   76.0055, KL-Loss   68.8768, KL-Weight  0.006\n",
      "TRAIN Batch 0500/1393, Loss   71.1727, NLL-Loss   70.7145, KL-Loss   68.4562, KL-Weight  0.007\n",
      "TRAIN Batch 0550/1393, Loss   69.8649, NLL-Loss   69.3676, KL-Loss   65.6216, KL-Weight  0.008\n",
      "TRAIN Batch 0600/1393, Loss   70.7178, NLL-Loss   70.1553, KL-Loss   65.5866, KL-Weight  0.009\n",
      "TRAIN Batch 0650/1393, Loss   70.6947, NLL-Loss   70.0474, KL-Loss   66.6740, KL-Weight  0.010\n",
      "TRAIN Batch 0700/1393, Loss   62.5373, NLL-Loss   61.8002, KL-Loss   67.0889, KL-Weight  0.011\n",
      "TRAIN Batch 0750/1393, Loss   63.4347, NLL-Loss   62.5786, KL-Loss   68.8622, KL-Weight  0.012\n",
      "TRAIN Batch 0800/1393, Loss   51.9885, NLL-Loss   51.1328, KL-Loss   60.8434, KL-Weight  0.014\n",
      "TRAIN Batch 0850/1393, Loss   72.0408, NLL-Loss   71.1446, KL-Loss   56.3423, KL-Weight  0.016\n",
      "TRAIN Batch 0900/1393, Loss   56.8127, NLL-Loss   55.6860, KL-Loss   62.6431, KL-Weight  0.018\n",
      "TRAIN Batch 0950/1393, Loss   54.3736, NLL-Loss   53.1349, KL-Loss   60.9227, KL-Weight  0.020\n",
      "TRAIN Batch 1000/1393, Loss   75.4261, NLL-Loss   74.0075, KL-Loss   61.7376, KL-Weight  0.023\n",
      "TRAIN Batch 1050/1393, Loss   61.1851, NLL-Loss   59.7649, KL-Loss   54.7109, KL-Weight  0.026\n",
      "TRAIN Batch 1100/1393, Loss   61.4324, NLL-Loss   59.8233, KL-Loss   54.8928, KL-Weight  0.029\n",
      "TRAIN Batch 1150/1393, Loss   67.0950, NLL-Loss   65.3371, KL-Loss   53.1301, KL-Weight  0.033\n",
      "TRAIN Batch 1200/1393, Loss   59.1351, NLL-Loss   57.3088, KL-Loss   48.9282, KL-Weight  0.037\n",
      "TRAIN Batch 1250/1393, Loss   59.3927, NLL-Loss   57.2667, KL-Loss   50.5131, KL-Weight  0.042\n",
      "TRAIN Batch 1300/1393, Loss   67.1918, NLL-Loss   64.9967, KL-Loss   46.2859, KL-Weight  0.047\n",
      "TRAIN Batch 1350/1393, Loss   62.6196, NLL-Loss   60.3188, KL-Loss   43.0844, KL-Weight  0.053\n",
      "TRAIN Batch 1393/1393, Loss   65.6107, NLL-Loss   63.0248, KL-Loss   43.7506, KL-Weight  0.059\n",
      "TRAIN Epoch 00/10, Mean Loss   72.8404\n",
      "Model saved at /root/user/work/src/Sentence-VAE/runs/vae_eccos_v2_TS=2020-01-05-181436_BS=32_LR=0.001_EB=300_GRU_HS=256_L=1_BI=0_LS=16_WD=0_ANN=LOGISTIC_K=0.0025_X0=2500/models/model_E0.pytorch\n",
      "VALID Batch 0000/77, Loss   56.4232, NLL-Loss   53.9184, KL-Loss   42.2772, KL-Weight  0.059\n",
      "VALID Batch 0050/77, Loss   65.5141, NLL-Loss   62.7883, KL-Loss   46.0085, KL-Weight  0.059\n",
      "VALID Batch 0077/77, Loss   52.1442, NLL-Loss   49.7162, KL-Loss   40.9809, KL-Weight  0.059\n",
      "VALID Epoch 00/10, Mean Loss   57.6164\n",
      "TRAIN Batch 0000/1393, Loss   57.1725, NLL-Loss   54.6642, KL-Loss   42.3383, KL-Weight  0.059\n",
      "TRAIN Batch 0050/1393, Loss   52.8411, NLL-Loss   49.9680, KL-Loss   43.1342, KL-Weight  0.067\n",
      "TRAIN Batch 0100/1393, Loss   56.7371, NLL-Loss   53.6533, KL-Loss   41.2195, KL-Weight  0.075\n",
      "TRAIN Batch 0150/1393, Loss   57.1960, NLL-Loss   53.9171, KL-Loss   39.0642, KL-Weight  0.084\n",
      "TRAIN Batch 0200/1393, Loss   49.8504, NLL-Loss   46.5317, KL-Loss   35.2818, KL-Weight  0.094\n",
      "TRAIN Batch 0250/1393, Loss   57.0504, NLL-Loss   53.2927, KL-Loss   35.6967, KL-Weight  0.105\n",
      "TRAIN Batch 0300/1393, Loss   58.8976, NLL-Loss   54.7189, KL-Loss   35.5217, KL-Weight  0.118\n",
      "TRAIN Batch 0350/1393, Loss   57.9052, NLL-Loss   53.4870, KL-Loss   33.6644, KL-Weight  0.131\n",
      "TRAIN Batch 0400/1393, Loss   60.8765, NLL-Loss   56.1432, KL-Loss   32.3830, KL-Weight  0.146\n",
      "TRAIN Batch 0450/1393, Loss   63.7202, NLL-Loss   59.0132, KL-Loss   28.9722, KL-Weight  0.162\n",
      "TRAIN Batch 0500/1393, Loss   63.7576, NLL-Loss   58.7625, KL-Loss   27.7198, KL-Weight  0.180\n",
      "TRAIN Batch 0550/1393, Loss   55.3747, NLL-Loss   50.2061, KL-Loss   25.9196, KL-Weight  0.199\n",
      "TRAIN Batch 0600/1393, Loss   60.4051, NLL-Loss   55.0993, KL-Loss   24.1049, KL-Weight  0.220\n",
      "TRAIN Batch 0650/1393, Loss   58.0896, NLL-Loss   52.1475, KL-Loss   24.5216, KL-Weight  0.242\n",
      "TRAIN Batch 0700/1393, Loss   61.3757, NLL-Loss   55.3521, KL-Loss   22.6448, KL-Weight  0.266\n",
      "TRAIN Batch 0750/1393, Loss   59.3944, NLL-Loss   53.2651, KL-Loss   21.0550, KL-Weight  0.291\n",
      "TRAIN Batch 0800/1393, Loss   60.1087, NLL-Loss   53.5536, KL-Loss   20.6421, KL-Weight  0.318\n",
      "TRAIN Batch 0850/1393, Loss   64.4231, NLL-Loss   57.7625, KL-Loss   19.2924, KL-Weight  0.345\n",
      "TRAIN Batch 0900/1393, Loss   63.5822, NLL-Loss   56.5180, KL-Loss   18.8872, KL-Weight  0.374\n",
      "TRAIN Batch 0950/1393, Loss   59.2203, NLL-Loss   51.9390, KL-Loss   18.0354, KL-Weight  0.404\n",
      "TRAIN Batch 1000/1393, Loss   57.0034, NLL-Loss   49.5869, KL-Loss   17.0835, KL-Weight  0.434\n",
      "TRAIN Batch 1050/1393, Loss   60.9741, NLL-Loss   53.3945, KL-Loss   16.2981, KL-Weight  0.465\n",
      "TRAIN Batch 1100/1393, Loss   60.7896, NLL-Loss   53.0406, KL-Loss   15.6151, KL-Weight  0.496\n",
      "TRAIN Batch 1150/1393, Loss   65.2915, NLL-Loss   57.1898, KL-Loss   15.3594, KL-Weight  0.527\n",
      "TRAIN Batch 1200/1393, Loss   74.5133, NLL-Loss   66.0478, KL-Loss   15.1581, KL-Weight  0.558\n",
      "TRAIN Batch 1250/1393, Loss   60.7342, NLL-Loss   52.7084, KL-Loss   13.6253, KL-Weight  0.589\n",
      "TRAIN Batch 1300/1393, Loss   59.9872, NLL-Loss   51.6682, KL-Loss   13.4410, KL-Weight  0.619\n",
      "TRAIN Batch 1350/1393, Loss   65.6656, NLL-Loss   56.9762, KL-Loss   13.4107, KL-Weight  0.648\n",
      "TRAIN Batch 1393/1393, Loss   62.4172, NLL-Loss   53.7337, KL-Loss   12.9208, KL-Weight  0.672\n",
      "TRAIN Epoch 01/10, Mean Loss   61.3144\n",
      "Model saved at /root/user/work/src/Sentence-VAE/runs/vae_eccos_v2_TS=2020-01-05-181436_BS=32_LR=0.001_EB=300_GRU_HS=256_L=1_BI=0_LS=16_WD=0_ANN=LOGISTIC_K=0.0025_X0=2500/models/model_E1.pytorch\n",
      "VALID Batch 0000/77, Loss   62.3233, NLL-Loss   54.3700, KL-Loss   11.8246, KL-Weight  0.673\n",
      "VALID Batch 0050/77, Loss   71.8214, NLL-Loss   62.9431, KL-Loss   13.1998, KL-Weight  0.673\n",
      "VALID Batch 0077/77, Loss   60.5196, NLL-Loss   52.5031, KL-Loss   11.9186, KL-Weight  0.673\n",
      "VALID Epoch 01/10, Mean Loss   63.1267\n",
      "TRAIN Batch 0000/1393, Loss   71.7206, NLL-Loss   62.7753, KL-Loss   13.2993, KL-Weight  0.673\n",
      "TRAIN Batch 0050/1393, Loss   63.5775, NLL-Loss   54.4350, KL-Loss   13.0697, KL-Weight  0.700\n",
      "TRAIN Batch 0100/1393, Loss   67.9231, NLL-Loss   59.1268, KL-Loss   12.1309, KL-Weight  0.725\n",
      "TRAIN Batch 0150/1393, Loss   71.8167, NLL-Loss   63.5776, KL-Loss   10.9954, KL-Weight  0.749\n",
      "TRAIN Batch 0200/1393, Loss   64.1858, NLL-Loss   55.3708, KL-Loss   11.4174, KL-Weight  0.772\n",
      "TRAIN Batch 0250/1393, Loss   69.3559, NLL-Loss   59.9977, KL-Loss   11.7964, KL-Weight  0.793\n",
      "TRAIN Batch 0300/1393, Loss   66.6691, NLL-Loss   57.0214, KL-Loss   11.8660, KL-Weight  0.813\n",
      "TRAIN Batch 0350/1393, Loss   70.6466, NLL-Loss   61.1788, KL-Loss   11.3890, KL-Weight  0.831\n",
      "TRAIN Batch 0400/1393, Loss   65.4727, NLL-Loss   56.1416, KL-Loss   11.0021, KL-Weight  0.848\n",
      "TRAIN Batch 0450/1393, Loss   57.8622, NLL-Loss   48.9596, KL-Loss   10.3094, KL-Weight  0.864\n",
      "TRAIN Batch 0500/1393, Loss   64.5326, NLL-Loss   55.3706, KL-Loss   10.4397, KL-Weight  0.878\n",
      "TRAIN Batch 0550/1393, Loss   62.5829, NLL-Loss   53.9720, KL-Loss    9.6707, KL-Weight  0.890\n",
      "TRAIN Batch 0600/1393, Loss   71.8521, NLL-Loss   62.7646, KL-Loss   10.0745, KL-Weight  0.902\n",
      "TRAIN Batch 0650/1393, Loss   63.2722, NLL-Loss   54.4728, KL-Loss    9.6428, KL-Weight  0.913\n",
      "TRAIN Batch 0700/1393, Loss   67.1858, NLL-Loss   58.5384, KL-Loss    9.3788, KL-Weight  0.922\n",
      "TRAIN Batch 0750/1393, Loss   66.0016, NLL-Loss   57.0678, KL-Loss    9.6006, KL-Weight  0.931\n",
      "TRAIN Batch 0800/1393, Loss   73.2594, NLL-Loss   64.3935, KL-Loss    9.4499, KL-Weight  0.938\n",
      "TRAIN Batch 0850/1393, Loss   61.1216, NLL-Loss   53.1225, KL-Loss    8.4641, KL-Weight  0.945\n",
      "TRAIN Batch 0900/1393, Loss   66.3660, NLL-Loss   57.7200, KL-Loss    9.0895, KL-Weight  0.951\n",
      "TRAIN Batch 0950/1393, Loss   68.2585, NLL-Loss   59.1652, KL-Loss    9.5050, KL-Weight  0.957\n",
      "TRAIN Batch 1000/1393, Loss   61.0024, NLL-Loss   53.2213, KL-Loss    8.0920, KL-Weight  0.962\n",
      "TRAIN Batch 1050/1393, Loss   67.2888, NLL-Loss   59.4533, KL-Loss    8.1118, KL-Weight  0.966\n",
      "TRAIN Batch 1100/1393, Loss   72.6939, NLL-Loss   64.5236, KL-Loss    8.4245, KL-Weight  0.970\n",
      "TRAIN Batch 1150/1393, Loss   68.1123, NLL-Loss   59.7010, KL-Loss    8.6423, KL-Weight  0.973\n",
      "TRAIN Batch 1200/1393, Loss   67.5657, NLL-Loss   59.2641, KL-Loss    8.5027, KL-Weight  0.976\n",
      "TRAIN Batch 1250/1393, Loss   59.7016, NLL-Loss   52.1196, KL-Loss    7.7442, KL-Weight  0.979\n",
      "TRAIN Batch 1300/1393, Loss   64.8239, NLL-Loss   57.2646, KL-Loss    7.7020, KL-Weight  0.981\n",
      "TRAIN Batch 1350/1393, Loss   61.5960, NLL-Loss   53.6463, KL-Loss    8.0822, KL-Weight  0.984\n",
      "TRAIN Batch 1393/1393, Loss   60.2615, NLL-Loss   52.8937, KL-Loss    7.4780, KL-Weight  0.985\n",
      "TRAIN Epoch 02/10, Mean Loss   64.6600\n",
      "Model saved at /root/user/work/src/Sentence-VAE/runs/vae_eccos_v2_TS=2020-01-05-181436_BS=32_LR=0.001_EB=300_GRU_HS=256_L=1_BI=0_LS=16_WD=0_ANN=LOGISTIC_K=0.0025_X0=2500/models/model_E2.pytorch\n",
      "VALID Batch 0000/77, Loss   62.3662, NLL-Loss   54.9850, KL-Loss    7.4914, KL-Weight  0.985\n",
      "VALID Batch 0050/77, Loss   71.4129, NLL-Loss   63.4122, KL-Loss    8.1201, KL-Weight  0.985\n",
      "VALID Batch 0077/77, Loss   59.1236, NLL-Loss   51.4890, KL-Loss    7.7485, KL-Weight  0.985\n",
      "VALID Epoch 02/10, Mean Loss   63.6161\n",
      "TRAIN Batch 0000/1393, Loss   64.8475, NLL-Loss   57.2067, KL-Loss    7.7548, KL-Weight  0.985\n",
      "TRAIN Batch 0050/1393, Loss   63.2990, NLL-Loss   55.5773, KL-Loss    7.8234, KL-Weight  0.987\n",
      "TRAIN Batch 0100/1393, Loss   70.9207, NLL-Loss   62.0383, KL-Loss    8.9856, KL-Weight  0.989\n",
      "TRAIN Batch 0150/1393, Loss   61.2579, NLL-Loss   53.1921, KL-Loss    8.1484, KL-Weight  0.990\n",
      "TRAIN Batch 0200/1393, Loss   67.9341, NLL-Loss   60.2770, KL-Loss    7.7264, KL-Weight  0.991\n",
      "TRAIN Batch 0250/1393, Loss   63.5395, NLL-Loss   55.6032, KL-Loss    7.9996, KL-Weight  0.992\n",
      "TRAIN Batch 0300/1393, Loss   59.7985, NLL-Loss   52.1431, KL-Loss    7.7094, KL-Weight  0.993\n",
      "TRAIN Batch 0350/1393, Loss   55.6226, NLL-Loss   48.1098, KL-Loss    7.5595, KL-Weight  0.994\n",
      "TRAIN Batch 0400/1393, Loss   68.3452, NLL-Loss   60.2055, KL-Loss    8.1844, KL-Weight  0.995\n",
      "TRAIN Batch 0450/1393, Loss   61.0186, NLL-Loss   53.3795, KL-Loss    7.6762, KL-Weight  0.995\n",
      "TRAIN Batch 0500/1393, Loss   62.9288, NLL-Loss   54.6597, KL-Loss    8.3044, KL-Weight  0.996\n",
      "TRAIN Batch 0550/1393, Loss   60.3442, NLL-Loss   52.6296, KL-Loss    7.7437, KL-Weight  0.996\n",
      "TRAIN Batch 0600/1393, Loss   62.1334, NLL-Loss   54.2283, KL-Loss    7.9314, KL-Weight  0.997\n",
      "TRAIN Batch 0650/1393, Loss   66.7166, NLL-Loss   59.1739, KL-Loss    7.5648, KL-Weight  0.997\n",
      "TRAIN Batch 0700/1393, Loss   58.2056, NLL-Loss   51.0714, KL-Loss    7.1527, KL-Weight  0.997\n",
      "TRAIN Batch 0750/1393, Loss   64.8792, NLL-Loss   56.9550, KL-Loss    7.9424, KL-Weight  0.998\n",
      "TRAIN Batch 0800/1393, Loss   61.5063, NLL-Loss   54.6277, KL-Loss    6.8925, KL-Weight  0.998\n",
      "TRAIN Batch 0850/1393, Loss   64.8204, NLL-Loss   56.8764, KL-Loss    7.9582, KL-Weight  0.998\n",
      "TRAIN Batch 0900/1393, Loss   66.0949, NLL-Loss   58.4201, KL-Loss    7.6869, KL-Weight  0.998\n",
      "TRAIN Batch 0950/1393, Loss   66.2072, NLL-Loss   58.9921, KL-Loss    7.2252, KL-Weight  0.999\n",
      "TRAIN Batch 1000/1393, Loss   62.5095, NLL-Loss   55.4260, KL-Loss    7.0922, KL-Weight  0.999\n",
      "TRAIN Batch 1050/1393, Loss   67.6498, NLL-Loss   60.0240, KL-Loss    7.6341, KL-Weight  0.999\n",
      "TRAIN Batch 1100/1393, Loss   69.3750, NLL-Loss   61.6175, KL-Loss    7.7649, KL-Weight  0.999\n",
      "TRAIN Batch 1150/1393, Loss   57.9889, NLL-Loss   50.6651, KL-Loss    7.3300, KL-Weight  0.999\n",
      "TRAIN Batch 1200/1393, Loss   63.8975, NLL-Loss   56.3882, KL-Loss    7.5149, KL-Weight  0.999\n",
      "TRAIN Batch 1250/1393, Loss   66.1733, NLL-Loss   59.4219, KL-Loss    6.7558, KL-Weight  0.999\n",
      "TRAIN Batch 1300/1393, Loss   57.0514, NLL-Loss   49.8451, KL-Loss    7.2104, KL-Weight  0.999\n",
      "TRAIN Batch 1350/1393, Loss   72.8505, NLL-Loss   64.5931, KL-Loss    8.2616, KL-Weight  0.999\n",
      "TRAIN Batch 1393/1393, Loss   62.2746, NLL-Loss   54.9485, KL-Loss    7.3294, KL-Weight  1.000\n",
      "TRAIN Epoch 03/10, Mean Loss   62.5594\n",
      "Model saved at /root/user/work/src/Sentence-VAE/runs/vae_eccos_v2_TS=2020-01-05-181436_BS=32_LR=0.001_EB=300_GRU_HS=256_L=1_BI=0_LS=16_WD=0_ANN=LOGISTIC_K=0.0025_X0=2500/models/model_E3.pytorch\n",
      "VALID Batch 0000/77, Loss   61.5720, NLL-Loss   54.6884, KL-Loss    6.8867, KL-Weight  1.000\n",
      "VALID Batch 0050/77, Loss   71.5093, NLL-Loss   63.8081, KL-Loss    7.7048, KL-Weight  1.000\n",
      "VALID Batch 0077/77, Loss   58.0650, NLL-Loss   51.0433, KL-Loss    7.0249, KL-Weight  1.000\n",
      "VALID Epoch 03/10, Mean Loss   62.2408\n",
      "TRAIN Batch 0000/1393, Loss   59.4975, NLL-Loss   52.1157, KL-Loss    7.3852, KL-Weight  1.000\n",
      "TRAIN Batch 0050/1393, Loss   61.9386, NLL-Loss   54.7905, KL-Loss    7.1510, KL-Weight  1.000\n",
      "TRAIN Batch 0100/1393, Loss   56.3874, NLL-Loss   49.1202, KL-Loss    7.2698, KL-Weight  1.000\n",
      "TRAIN Batch 0150/1393, Loss   63.0385, NLL-Loss   55.5191, KL-Loss    7.5217, KL-Weight  1.000\n",
      "TRAIN Batch 0200/1393, Loss   72.7822, NLL-Loss   65.1065, KL-Loss    7.6778, KL-Weight  1.000\n",
      "TRAIN Batch 0250/1393, Loss   67.7687, NLL-Loss   60.1474, KL-Loss    7.6231, KL-Weight  1.000\n",
      "TRAIN Batch 0300/1393, Loss   57.4202, NLL-Loss   50.1033, KL-Loss    7.3184, KL-Weight  1.000\n",
      "TRAIN Batch 0350/1393, Loss   58.7261, NLL-Loss   51.6291, KL-Loss    7.0984, KL-Weight  1.000\n",
      "TRAIN Batch 0400/1393, Loss   67.5469, NLL-Loss   59.7461, KL-Loss    7.8021, KL-Weight  1.000\n",
      "TRAIN Batch 0450/1393, Loss   73.1440, NLL-Loss   65.2626, KL-Loss    7.8825, KL-Weight  1.000\n",
      "TRAIN Batch 0500/1393, Loss   69.1969, NLL-Loss   60.9123, KL-Loss    8.2857, KL-Weight  1.000\n",
      "TRAIN Batch 0550/1393, Loss   61.2735, NLL-Loss   54.0628, KL-Loss    7.2115, KL-Weight  1.000\n",
      "TRAIN Batch 0600/1393, Loss   66.8020, NLL-Loss   58.9004, KL-Loss    7.9025, KL-Weight  1.000\n",
      "TRAIN Batch 0650/1393, Loss   62.5721, NLL-Loss   54.9086, KL-Loss    7.6642, KL-Weight  1.000\n",
      "TRAIN Batch 0700/1393, Loss   60.1077, NLL-Loss   52.9750, KL-Loss    7.1333, KL-Weight  1.000\n",
      "TRAIN Batch 0750/1393, Loss   58.5170, NLL-Loss   50.6711, KL-Loss    7.8464, KL-Weight  1.000\n",
      "TRAIN Batch 0800/1393, Loss   65.3099, NLL-Loss   57.3417, KL-Loss    7.9687, KL-Weight  1.000\n",
      "TRAIN Batch 0850/1393, Loss   60.7686, NLL-Loss   53.1793, KL-Loss    7.5897, KL-Weight  1.000\n",
      "TRAIN Batch 0900/1393, Loss   68.8620, NLL-Loss   61.9042, KL-Loss    6.9582, KL-Weight  1.000\n",
      "TRAIN Batch 0950/1393, Loss   65.5992, NLL-Loss   58.8830, KL-Loss    6.7166, KL-Weight  1.000\n",
      "TRAIN Batch 1000/1393, Loss   60.8313, NLL-Loss   54.3546, KL-Loss    6.4769, KL-Weight  1.000\n",
      "TRAIN Batch 1050/1393, Loss   60.9682, NLL-Loss   52.8906, KL-Loss    8.0779, KL-Weight  1.000\n",
      "TRAIN Batch 1100/1393, Loss   56.9816, NLL-Loss   49.8415, KL-Loss    7.1403, KL-Weight  1.000\n",
      "TRAIN Batch 1150/1393, Loss   66.7004, NLL-Loss   59.6214, KL-Loss    7.0791, KL-Weight  1.000\n",
      "TRAIN Batch 1200/1393, Loss   55.6661, NLL-Loss   48.9376, KL-Loss    6.7287, KL-Weight  1.000\n",
      "TRAIN Batch 1250/1393, Loss   58.8170, NLL-Loss   51.3928, KL-Loss    7.4243, KL-Weight  1.000\n",
      "TRAIN Batch 1300/1393, Loss   66.0467, NLL-Loss   58.5168, KL-Loss    7.5300, KL-Weight  1.000\n",
      "TRAIN Batch 1350/1393, Loss   64.8744, NLL-Loss   57.8262, KL-Loss    7.0483, KL-Weight  1.000\n",
      "TRAIN Batch 1393/1393, Loss   53.2105, NLL-Loss   46.4768, KL-Loss    6.7338, KL-Weight  1.000\n",
      "TRAIN Epoch 04/10, Mean Loss   60.4770\n",
      "Model saved at /root/user/work/src/Sentence-VAE/runs/vae_eccos_v2_TS=2020-01-05-181436_BS=32_LR=0.001_EB=300_GRU_HS=256_L=1_BI=0_LS=16_WD=0_ANN=LOGISTIC_K=0.0025_X0=2500/models/model_E4.pytorch\n",
      "VALID Batch 0000/77, Loss   60.3132, NLL-Loss   53.6039, KL-Loss    6.7094, KL-Weight  1.000\n",
      "VALID Batch 0050/77, Loss   69.9992, NLL-Loss   62.7580, KL-Loss    7.2413, KL-Weight  1.000\n",
      "VALID Batch 0077/77, Loss   56.3735, NLL-Loss   49.4842, KL-Loss    6.8894, KL-Weight  1.000\n",
      "VALID Epoch 04/10, Mean Loss   61.1162\n",
      "TRAIN Batch 0000/1393, Loss   59.1062, NLL-Loss   51.9893, KL-Loss    7.1170, KL-Weight  1.000\n",
      "TRAIN Batch 0050/1393, Loss   70.7283, NLL-Loss   62.6332, KL-Loss    8.0951, KL-Weight  1.000\n",
      "TRAIN Batch 0100/1393, Loss   49.1994, NLL-Loss   41.7404, KL-Loss    7.4590, KL-Weight  1.000\n",
      "TRAIN Batch 0150/1393, Loss   53.7034, NLL-Loss   46.1553, KL-Loss    7.5481, KL-Weight  1.000\n",
      "TRAIN Batch 0200/1393, Loss   60.4198, NLL-Loss   52.9342, KL-Loss    7.4857, KL-Weight  1.000\n",
      "TRAIN Batch 0250/1393, Loss   58.3623, NLL-Loss   50.8114, KL-Loss    7.5509, KL-Weight  1.000\n",
      "TRAIN Batch 0300/1393, Loss   57.9036, NLL-Loss   50.5654, KL-Loss    7.3383, KL-Weight  1.000\n",
      "TRAIN Batch 0350/1393, Loss   59.7781, NLL-Loss   52.2073, KL-Loss    7.5709, KL-Weight  1.000\n",
      "TRAIN Batch 0400/1393, Loss   61.4278, NLL-Loss   54.0113, KL-Loss    7.4166, KL-Weight  1.000\n",
      "TRAIN Batch 0450/1393, Loss   52.3718, NLL-Loss   45.1421, KL-Loss    7.2298, KL-Weight  1.000\n",
      "TRAIN Batch 0500/1393, Loss   58.3526, NLL-Loss   50.6003, KL-Loss    7.7523, KL-Weight  1.000\n",
      "TRAIN Batch 0550/1393, Loss   53.5724, NLL-Loss   46.5186, KL-Loss    7.0538, KL-Weight  1.000\n",
      "TRAIN Batch 0600/1393, Loss   57.9967, NLL-Loss   50.7836, KL-Loss    7.2131, KL-Weight  1.000\n",
      "TRAIN Batch 0650/1393, Loss   51.6427, NLL-Loss   44.7016, KL-Loss    6.9411, KL-Weight  1.000\n",
      "TRAIN Batch 0700/1393, Loss   63.5080, NLL-Loss   56.7924, KL-Loss    6.7156, KL-Weight  1.000\n",
      "TRAIN Batch 0750/1393, Loss   55.8738, NLL-Loss   48.3371, KL-Loss    7.5367, KL-Weight  1.000\n",
      "TRAIN Batch 0800/1393, Loss   66.0609, NLL-Loss   58.5658, KL-Loss    7.4951, KL-Weight  1.000\n",
      "TRAIN Batch 0850/1393, Loss   65.5061, NLL-Loss   58.8590, KL-Loss    6.6472, KL-Weight  1.000\n",
      "TRAIN Batch 0900/1393, Loss   57.8538, NLL-Loss   50.9578, KL-Loss    6.8960, KL-Weight  1.000\n",
      "TRAIN Batch 0950/1393, Loss   65.4788, NLL-Loss   58.5322, KL-Loss    6.9466, KL-Weight  1.000\n",
      "TRAIN Batch 1000/1393, Loss   62.2970, NLL-Loss   55.5522, KL-Loss    6.7448, KL-Weight  1.000\n",
      "TRAIN Batch 1050/1393, Loss   56.6869, NLL-Loss   49.3659, KL-Loss    7.3209, KL-Weight  1.000\n",
      "TRAIN Batch 1100/1393, Loss   56.5577, NLL-Loss   49.9389, KL-Loss    6.6189, KL-Weight  1.000\n",
      "TRAIN Batch 1150/1393, Loss   59.2088, NLL-Loss   52.5214, KL-Loss    6.6875, KL-Weight  1.000\n",
      "TRAIN Batch 1200/1393, Loss   63.5007, NLL-Loss   56.0247, KL-Loss    7.4760, KL-Weight  1.000\n",
      "TRAIN Batch 1250/1393, Loss   63.2610, NLL-Loss   55.5896, KL-Loss    7.6713, KL-Weight  1.000\n",
      "TRAIN Batch 1300/1393, Loss   59.8194, NLL-Loss   52.7455, KL-Loss    7.0739, KL-Weight  1.000\n",
      "TRAIN Batch 1350/1393, Loss   53.1072, NLL-Loss   46.3955, KL-Loss    6.7117, KL-Weight  1.000\n",
      "TRAIN Batch 1393/1393, Loss   63.9287, NLL-Loss   55.6158, KL-Loss    8.3129, KL-Weight  1.000\n",
      "TRAIN Epoch 05/10, Mean Loss   58.8945\n",
      "Model saved at /root/user/work/src/Sentence-VAE/runs/vae_eccos_v2_TS=2020-01-05-181436_BS=32_LR=0.001_EB=300_GRU_HS=256_L=1_BI=0_LS=16_WD=0_ANN=LOGISTIC_K=0.0025_X0=2500/models/model_E5.pytorch\n",
      "VALID Batch 0000/77, Loss   59.7169, NLL-Loss   53.0482, KL-Loss    6.6688, KL-Weight  1.000\n",
      "VALID Batch 0050/77, Loss   69.0163, NLL-Loss   61.6704, KL-Loss    7.3459, KL-Weight  1.000\n",
      "VALID Batch 0077/77, Loss   55.8458, NLL-Loss   48.9662, KL-Loss    6.8796, KL-Weight  1.000\n",
      "VALID Epoch 05/10, Mean Loss   60.6232\n",
      "TRAIN Batch 0000/1393, Loss   59.9386, NLL-Loss   52.5974, KL-Loss    7.3412, KL-Weight  1.000\n",
      "TRAIN Batch 0050/1393, Loss   56.8402, NLL-Loss   49.2526, KL-Loss    7.5876, KL-Weight  1.000\n",
      "TRAIN Batch 0100/1393, Loss   51.6061, NLL-Loss   44.9073, KL-Loss    6.6989, KL-Weight  1.000\n",
      "TRAIN Batch 0150/1393, Loss   53.0068, NLL-Loss   45.5565, KL-Loss    7.4504, KL-Weight  1.000\n",
      "TRAIN Batch 0200/1393, Loss   55.3523, NLL-Loss   48.7175, KL-Loss    6.6348, KL-Weight  1.000\n",
      "TRAIN Batch 0250/1393, Loss   56.9620, NLL-Loss   50.2335, KL-Loss    6.7285, KL-Weight  1.000\n",
      "TRAIN Batch 0300/1393, Loss   60.7777, NLL-Loss   52.9713, KL-Loss    7.8064, KL-Weight  1.000\n",
      "TRAIN Batch 0350/1393, Loss   59.2208, NLL-Loss   51.7563, KL-Loss    7.4645, KL-Weight  1.000\n",
      "TRAIN Batch 0400/1393, Loss   48.1681, NLL-Loss   41.3715, KL-Loss    6.7967, KL-Weight  1.000\n",
      "TRAIN Batch 0450/1393, Loss   58.8206, NLL-Loss   51.6248, KL-Loss    7.1958, KL-Weight  1.000\n",
      "TRAIN Batch 0500/1393, Loss   63.4270, NLL-Loss   55.9654, KL-Loss    7.4617, KL-Weight  1.000\n",
      "TRAIN Batch 0550/1393, Loss   57.2618, NLL-Loss   49.9947, KL-Loss    7.2671, KL-Weight  1.000\n",
      "TRAIN Batch 0600/1393, Loss   57.2544, NLL-Loss   49.9670, KL-Loss    7.2874, KL-Weight  1.000\n",
      "TRAIN Batch 0650/1393, Loss   63.0993, NLL-Loss   55.7028, KL-Loss    7.3965, KL-Weight  1.000\n",
      "TRAIN Batch 0700/1393, Loss   67.6268, NLL-Loss   60.2809, KL-Loss    7.3459, KL-Weight  1.000\n",
      "TRAIN Batch 0750/1393, Loss   56.0555, NLL-Loss   48.7560, KL-Loss    7.2995, KL-Weight  1.000\n",
      "TRAIN Batch 0800/1393, Loss   55.9686, NLL-Loss   48.9709, KL-Loss    6.9976, KL-Weight  1.000\n",
      "TRAIN Batch 0850/1393, Loss   57.1001, NLL-Loss   50.2094, KL-Loss    6.8907, KL-Weight  1.000\n",
      "TRAIN Batch 0900/1393, Loss   63.4382, NLL-Loss   55.2771, KL-Loss    8.1610, KL-Weight  1.000\n",
      "TRAIN Batch 0950/1393, Loss   56.9062, NLL-Loss   49.6047, KL-Loss    7.3015, KL-Weight  1.000\n",
      "TRAIN Batch 1000/1393, Loss   60.7937, NLL-Loss   54.1891, KL-Loss    6.6046, KL-Weight  1.000\n",
      "TRAIN Batch 1050/1393, Loss   67.1663, NLL-Loss   60.2381, KL-Loss    6.9282, KL-Weight  1.000\n",
      "TRAIN Batch 1100/1393, Loss   57.5996, NLL-Loss   50.9227, KL-Loss    6.6770, KL-Weight  1.000\n",
      "TRAIN Batch 1150/1393, Loss   58.9566, NLL-Loss   51.9543, KL-Loss    7.0023, KL-Weight  1.000\n",
      "TRAIN Batch 1200/1393, Loss   63.4798, NLL-Loss   56.5059, KL-Loss    6.9739, KL-Weight  1.000\n",
      "TRAIN Batch 1250/1393, Loss   53.3868, NLL-Loss   46.8637, KL-Loss    6.5231, KL-Weight  1.000\n",
      "TRAIN Batch 1300/1393, Loss   50.5237, NLL-Loss   44.0152, KL-Loss    6.5086, KL-Weight  1.000\n",
      "TRAIN Batch 1350/1393, Loss   62.2823, NLL-Loss   54.9640, KL-Loss    7.3183, KL-Weight  1.000\n",
      "TRAIN Batch 1393/1393, Loss   47.9620, NLL-Loss   41.1024, KL-Loss    6.8595, KL-Weight  1.000\n",
      "TRAIN Epoch 06/10, Mean Loss   57.5566\n",
      "Model saved at /root/user/work/src/Sentence-VAE/runs/vae_eccos_v2_TS=2020-01-05-181436_BS=32_LR=0.001_EB=300_GRU_HS=256_L=1_BI=0_LS=16_WD=0_ANN=LOGISTIC_K=0.0025_X0=2500/models/model_E6.pytorch\n",
      "VALID Batch 0000/77, Loss   59.5014, NLL-Loss   53.1119, KL-Loss    6.3895, KL-Weight  1.000\n",
      "VALID Batch 0050/77, Loss   70.1930, NLL-Loss   63.2183, KL-Loss    6.9746, KL-Weight  1.000\n",
      "VALID Batch 0077/77, Loss   56.3182, NLL-Loss   49.7551, KL-Loss    6.5631, KL-Weight  1.000\n",
      "VALID Epoch 06/10, Mean Loss   60.2062\n",
      "TRAIN Batch 0000/1393, Loss   54.5655, NLL-Loss   47.8678, KL-Loss    6.6977, KL-Weight  1.000\n",
      "TRAIN Batch 0050/1393, Loss   56.6490, NLL-Loss   50.0589, KL-Loss    6.5901, KL-Weight  1.000\n",
      "TRAIN Batch 0100/1393, Loss   54.0706, NLL-Loss   47.3581, KL-Loss    6.7125, KL-Weight  1.000\n",
      "TRAIN Batch 0150/1393, Loss   55.2382, NLL-Loss   47.2753, KL-Loss    7.9629, KL-Weight  1.000\n",
      "TRAIN Batch 0200/1393, Loss   58.3195, NLL-Loss   51.4366, KL-Loss    6.8829, KL-Weight  1.000\n",
      "TRAIN Batch 0250/1393, Loss   54.0000, NLL-Loss   46.6674, KL-Loss    7.3326, KL-Weight  1.000\n",
      "TRAIN Batch 0300/1393, Loss   48.2676, NLL-Loss   41.1258, KL-Loss    7.1419, KL-Weight  1.000\n",
      "TRAIN Batch 0350/1393, Loss   55.9368, NLL-Loss   48.2173, KL-Loss    7.7195, KL-Weight  1.000\n",
      "TRAIN Batch 0400/1393, Loss   56.3605, NLL-Loss   49.2535, KL-Loss    7.1070, KL-Weight  1.000\n",
      "TRAIN Batch 0450/1393, Loss   57.4745, NLL-Loss   50.7046, KL-Loss    6.7699, KL-Weight  1.000\n",
      "TRAIN Batch 0500/1393, Loss   58.1697, NLL-Loss   51.2816, KL-Loss    6.8881, KL-Weight  1.000\n",
      "TRAIN Batch 0550/1393, Loss   54.7563, NLL-Loss   47.5476, KL-Loss    7.2087, KL-Weight  1.000\n",
      "TRAIN Batch 0600/1393, Loss   56.8881, NLL-Loss   49.0503, KL-Loss    7.8379, KL-Weight  1.000\n",
      "TRAIN Batch 0650/1393, Loss   56.0981, NLL-Loss   49.5080, KL-Loss    6.5901, KL-Weight  1.000\n",
      "TRAIN Batch 0700/1393, Loss   64.0560, NLL-Loss   56.5732, KL-Loss    7.4827, KL-Weight  1.000\n",
      "TRAIN Batch 0750/1393, Loss   58.0603, NLL-Loss   51.2175, KL-Loss    6.8427, KL-Weight  1.000\n",
      "TRAIN Batch 0800/1393, Loss   62.4929, NLL-Loss   55.3934, KL-Loss    7.0995, KL-Weight  1.000\n",
      "TRAIN Batch 0850/1393, Loss   56.6729, NLL-Loss   49.4180, KL-Loss    7.2549, KL-Weight  1.000\n",
      "TRAIN Batch 0900/1393, Loss   65.5523, NLL-Loss   58.6650, KL-Loss    6.8874, KL-Weight  1.000\n",
      "TRAIN Batch 0950/1393, Loss   60.9317, NLL-Loss   53.8839, KL-Loss    7.0479, KL-Weight  1.000\n",
      "TRAIN Batch 1000/1393, Loss   57.3193, NLL-Loss   49.9123, KL-Loss    7.4069, KL-Weight  1.000\n",
      "TRAIN Batch 1050/1393, Loss   52.8119, NLL-Loss   46.1073, KL-Loss    6.7046, KL-Weight  1.000\n",
      "TRAIN Batch 1100/1393, Loss   51.0129, NLL-Loss   44.7435, KL-Loss    6.2693, KL-Weight  1.000\n",
      "TRAIN Batch 1150/1393, Loss   54.3739, NLL-Loss   47.0587, KL-Loss    7.3152, KL-Weight  1.000\n",
      "TRAIN Batch 1200/1393, Loss   56.3755, NLL-Loss   49.9198, KL-Loss    6.4558, KL-Weight  1.000\n",
      "TRAIN Batch 1250/1393, Loss   45.4152, NLL-Loss   38.5712, KL-Loss    6.8440, KL-Weight  1.000\n",
      "TRAIN Batch 1300/1393, Loss   54.4827, NLL-Loss   47.4561, KL-Loss    7.0266, KL-Weight  1.000\n",
      "TRAIN Batch 1350/1393, Loss   59.1024, NLL-Loss   52.1070, KL-Loss    6.9955, KL-Weight  1.000\n",
      "TRAIN Batch 1393/1393, Loss   64.7865, NLL-Loss   58.0175, KL-Loss    6.7690, KL-Weight  1.000\n",
      "TRAIN Epoch 07/10, Mean Loss   56.4970\n",
      "Model saved at /root/user/work/src/Sentence-VAE/runs/vae_eccos_v2_TS=2020-01-05-181436_BS=32_LR=0.001_EB=300_GRU_HS=256_L=1_BI=0_LS=16_WD=0_ANN=LOGISTIC_K=0.0025_X0=2500/models/model_E7.pytorch\n",
      "VALID Batch 0000/77, Loss   59.2397, NLL-Loss   52.9275, KL-Loss    6.3122, KL-Weight  1.000\n",
      "VALID Batch 0050/77, Loss   69.5520, NLL-Loss   62.4957, KL-Loss    7.0562, KL-Weight  1.000\n",
      "VALID Batch 0077/77, Loss   55.1240, NLL-Loss   48.2534, KL-Loss    6.8706, KL-Weight  1.000\n",
      "VALID Epoch 07/10, Mean Loss   59.7798\n",
      "TRAIN Batch 0000/1393, Loss   53.7222, NLL-Loss   47.0221, KL-Loss    6.7002, KL-Weight  1.000\n",
      "TRAIN Batch 0050/1393, Loss   59.1177, NLL-Loss   51.6816, KL-Loss    7.4361, KL-Weight  1.000\n",
      "TRAIN Batch 0100/1393, Loss   60.3345, NLL-Loss   52.8307, KL-Loss    7.5038, KL-Weight  1.000\n",
      "TRAIN Batch 0150/1393, Loss   52.8998, NLL-Loss   45.6169, KL-Loss    7.2830, KL-Weight  1.000\n",
      "TRAIN Batch 0200/1393, Loss   47.9580, NLL-Loss   40.8672, KL-Loss    7.0907, KL-Weight  1.000\n",
      "TRAIN Batch 0250/1393, Loss   55.4752, NLL-Loss   48.2553, KL-Loss    7.2199, KL-Weight  1.000\n",
      "TRAIN Batch 0300/1393, Loss   53.4555, NLL-Loss   46.4393, KL-Loss    7.0162, KL-Weight  1.000\n",
      "TRAIN Batch 0350/1393, Loss   56.4749, NLL-Loss   49.1762, KL-Loss    7.2986, KL-Weight  1.000\n",
      "TRAIN Batch 0400/1393, Loss   64.4110, NLL-Loss   57.4086, KL-Loss    7.0025, KL-Weight  1.000\n",
      "TRAIN Batch 0450/1393, Loss   51.8361, NLL-Loss   45.1907, KL-Loss    6.6455, KL-Weight  1.000\n",
      "TRAIN Batch 0500/1393, Loss   57.1971, NLL-Loss   50.3636, KL-Loss    6.8335, KL-Weight  1.000\n",
      "TRAIN Batch 0550/1393, Loss   57.4779, NLL-Loss   50.2298, KL-Loss    7.2481, KL-Weight  1.000\n",
      "TRAIN Batch 0600/1393, Loss   60.1261, NLL-Loss   52.5101, KL-Loss    7.6160, KL-Weight  1.000\n",
      "TRAIN Batch 0650/1393, Loss   57.1273, NLL-Loss   49.5742, KL-Loss    7.5530, KL-Weight  1.000\n",
      "TRAIN Batch 0700/1393, Loss   49.6869, NLL-Loss   42.3797, KL-Loss    7.3072, KL-Weight  1.000\n",
      "TRAIN Batch 0750/1393, Loss   53.9866, NLL-Loss   47.1764, KL-Loss    6.8102, KL-Weight  1.000\n",
      "TRAIN Batch 0800/1393, Loss   56.1183, NLL-Loss   49.3890, KL-Loss    6.7293, KL-Weight  1.000\n",
      "TRAIN Batch 0850/1393, Loss   54.8593, NLL-Loss   47.7690, KL-Loss    7.0903, KL-Weight  1.000\n",
      "TRAIN Batch 0900/1393, Loss   52.1243, NLL-Loss   45.2745, KL-Loss    6.8499, KL-Weight  1.000\n",
      "TRAIN Batch 0950/1393, Loss   60.2927, NLL-Loss   53.0518, KL-Loss    7.2408, KL-Weight  1.000\n",
      "TRAIN Batch 1000/1393, Loss   53.5673, NLL-Loss   46.1651, KL-Loss    7.4021, KL-Weight  1.000\n",
      "TRAIN Batch 1050/1393, Loss   62.7394, NLL-Loss   55.5856, KL-Loss    7.1538, KL-Weight  1.000\n",
      "TRAIN Batch 1100/1393, Loss   57.4813, NLL-Loss   50.4383, KL-Loss    7.0430, KL-Weight  1.000\n",
      "TRAIN Batch 1150/1393, Loss   56.6477, NLL-Loss   50.3454, KL-Loss    6.3023, KL-Weight  1.000\n",
      "TRAIN Batch 1200/1393, Loss   56.3360, NLL-Loss   49.5987, KL-Loss    6.7373, KL-Weight  1.000\n",
      "TRAIN Batch 1250/1393, Loss   58.6006, NLL-Loss   52.1145, KL-Loss    6.4861, KL-Weight  1.000\n",
      "TRAIN Batch 1300/1393, Loss   58.2967, NLL-Loss   51.5819, KL-Loss    6.7148, KL-Weight  1.000\n",
      "TRAIN Batch 1350/1393, Loss   60.0397, NLL-Loss   52.3304, KL-Loss    7.7093, KL-Weight  1.000\n",
      "TRAIN Batch 1393/1393, Loss   53.2600, NLL-Loss   46.1857, KL-Loss    7.0743, KL-Weight  1.000\n",
      "TRAIN Epoch 08/10, Mean Loss   55.5359\n",
      "Model saved at /root/user/work/src/Sentence-VAE/runs/vae_eccos_v2_TS=2020-01-05-181436_BS=32_LR=0.001_EB=300_GRU_HS=256_L=1_BI=0_LS=16_WD=0_ANN=LOGISTIC_K=0.0025_X0=2500/models/model_E8.pytorch\n",
      "VALID Batch 0000/77, Loss   59.3810, NLL-Loss   52.9194, KL-Loss    6.4617, KL-Weight  1.000\n",
      "VALID Batch 0050/77, Loss   69.5164, NLL-Loss   62.3618, KL-Loss    7.1546, KL-Weight  1.000\n",
      "VALID Batch 0077/77, Loss   54.0203, NLL-Loss   47.0286, KL-Loss    6.9917, KL-Weight  1.000\n",
      "VALID Epoch 08/10, Mean Loss   59.5269\n",
      "TRAIN Batch 0000/1393, Loss   54.1015, NLL-Loss   46.9122, KL-Loss    7.1894, KL-Weight  1.000\n",
      "TRAIN Batch 0050/1393, Loss   47.3423, NLL-Loss   40.6580, KL-Loss    6.6843, KL-Weight  1.000\n",
      "TRAIN Batch 0100/1393, Loss   50.6776, NLL-Loss   44.0652, KL-Loss    6.6124, KL-Weight  1.000\n",
      "TRAIN Batch 0150/1393, Loss   55.7369, NLL-Loss   47.6749, KL-Loss    8.0620, KL-Weight  1.000\n",
      "TRAIN Batch 0200/1393, Loss   60.2425, NLL-Loss   52.4631, KL-Loss    7.7794, KL-Weight  1.000\n",
      "TRAIN Batch 0250/1393, Loss   51.9983, NLL-Loss   45.2299, KL-Loss    6.7684, KL-Weight  1.000\n",
      "TRAIN Batch 0300/1393, Loss   52.8911, NLL-Loss   45.7961, KL-Loss    7.0950, KL-Weight  1.000\n",
      "TRAIN Batch 0350/1393, Loss   56.2406, NLL-Loss   48.8730, KL-Loss    7.3676, KL-Weight  1.000\n",
      "TRAIN Batch 0400/1393, Loss   53.6406, NLL-Loss   46.4168, KL-Loss    7.2238, KL-Weight  1.000\n",
      "TRAIN Batch 0450/1393, Loss   56.0566, NLL-Loss   48.9058, KL-Loss    7.1508, KL-Weight  1.000\n",
      "TRAIN Batch 0500/1393, Loss   54.8221, NLL-Loss   47.5435, KL-Loss    7.2786, KL-Weight  1.000\n",
      "TRAIN Batch 0550/1393, Loss   57.1078, NLL-Loss   49.3513, KL-Loss    7.7565, KL-Weight  1.000\n",
      "TRAIN Batch 0600/1393, Loss   62.6392, NLL-Loss   55.5068, KL-Loss    7.1325, KL-Weight  1.000\n",
      "TRAIN Batch 0650/1393, Loss   52.0504, NLL-Loss   45.2935, KL-Loss    6.7568, KL-Weight  1.000\n",
      "TRAIN Batch 0700/1393, Loss   54.9976, NLL-Loss   47.7123, KL-Loss    7.2853, KL-Weight  1.000\n",
      "TRAIN Batch 0750/1393, Loss   54.1962, NLL-Loss   47.4893, KL-Loss    6.7069, KL-Weight  1.000\n",
      "TRAIN Batch 0800/1393, Loss   55.9703, NLL-Loss   49.3332, KL-Loss    6.6371, KL-Weight  1.000\n",
      "TRAIN Batch 0850/1393, Loss   54.7573, NLL-Loss   48.2638, KL-Loss    6.4936, KL-Weight  1.000\n",
      "TRAIN Batch 0900/1393, Loss   56.5607, NLL-Loss   49.4957, KL-Loss    7.0650, KL-Weight  1.000\n",
      "TRAIN Batch 0950/1393, Loss   52.6868, NLL-Loss   45.4877, KL-Loss    7.1990, KL-Weight  1.000\n",
      "TRAIN Batch 1000/1393, Loss   56.4367, NLL-Loss   49.5193, KL-Loss    6.9175, KL-Weight  1.000\n",
      "TRAIN Batch 1050/1393, Loss   59.6494, NLL-Loss   52.3595, KL-Loss    7.2899, KL-Weight  1.000\n",
      "TRAIN Batch 1100/1393, Loss   56.5747, NLL-Loss   49.6457, KL-Loss    6.9290, KL-Weight  1.000\n",
      "TRAIN Batch 1150/1393, Loss   57.2688, NLL-Loss   50.2838, KL-Loss    6.9850, KL-Weight  1.000\n",
      "TRAIN Batch 1200/1393, Loss   49.2815, NLL-Loss   42.8393, KL-Loss    6.4422, KL-Weight  1.000\n",
      "TRAIN Batch 1250/1393, Loss   53.0945, NLL-Loss   46.2308, KL-Loss    6.8637, KL-Weight  1.000\n",
      "TRAIN Batch 1300/1393, Loss   50.0294, NLL-Loss   43.1034, KL-Loss    6.9260, KL-Weight  1.000\n",
      "TRAIN Batch 1350/1393, Loss   56.4938, NLL-Loss   49.8431, KL-Loss    6.6508, KL-Weight  1.000\n",
      "TRAIN Batch 1393/1393, Loss   55.6643, NLL-Loss   48.7459, KL-Loss    6.9185, KL-Weight  1.000\n",
      "TRAIN Epoch 09/10, Mean Loss   54.6923\n",
      "Model saved at /root/user/work/src/Sentence-VAE/runs/vae_eccos_v2_TS=2020-01-05-181436_BS=32_LR=0.001_EB=300_GRU_HS=256_L=1_BI=0_LS=16_WD=0_ANN=LOGISTIC_K=0.0025_X0=2500/models/model_E9.pytorch\n",
      "VALID Batch 0000/77, Loss   59.9753, NLL-Loss   53.8725, KL-Loss    6.1028, KL-Weight  1.000\n",
      "VALID Batch 0050/77, Loss   68.3048, NLL-Loss   61.4116, KL-Loss    6.8932, KL-Weight  1.000\n",
      "VALID Batch 0077/77, Loss   53.9903, NLL-Loss   47.4897, KL-Loss    6.5006, KL-Weight  1.000\n",
      "VALID Epoch 09/10, Mean Loss   59.3835\n"
     ]
    }
   ],
   "source": [
    "# %pdb on\n",
    "for epoch in range(args.epochs):\n",
    "\n",
    "    for split in splits:\n",
    "        \n",
    "        data_loader = DataLoader(\n",
    "            dataset=_datasets[split],\n",
    "            batch_size=args.batch_size,\n",
    "            shuffle=split=='train',\n",
    "            num_workers=cpu_count(),\n",
    "            pin_memory=torch.cuda.is_available()\n",
    "        )\n",
    "\n",
    "        tracker = defaultdict(Tensor)\n",
    "\n",
    "        # Enable/Disable Dropout\n",
    "        if split == 'train':\n",
    "            model.train()\n",
    "        else:\n",
    "            model.eval()\n",
    "\n",
    "        for iteration, batch in enumerate(data_loader):\n",
    "            \n",
    "            batch_size = batch['src_input'].size(0)\n",
    "            \n",
    "            for k, v in batch.items():\n",
    "                if torch.is_tensor(v):\n",
    "                    batch[k] = to_var(v)\n",
    "            \n",
    "            # loss calculation\n",
    "            # kw → copy の場合\n",
    "            # cal_dict = model(batch['src_input'], batch['src_length'], batch['tgt_input'], batch['tgt_length'])\n",
    "            cal_dict = model(batch['src_input'], batch['src_length'])\n",
    "            logp, mean, logv, z = cal_dict['logp'], cal_dict['mean'], cal_dict['logv'], cal_dict['z']\n",
    "            \n",
    "            loss_dict = model.loss(logp, batch['tgt_target'], batch['tgt_length'], mean, logv, args.anneal_function, step, args.k, args.x0, bow_input=z)\n",
    "            loss, NLL_loss, KL_weight, KL_loss, avg_bow_loss = loss_dict['loss'], loss_dict['NLL_loss'], loss_dict['KL_weight'], loss_dict['KL_loss'], loss_dict.get('avg_bow_loss')\n",
    "\n",
    "            # backward + optimization\n",
    "            if split == 'train':\n",
    "                optimizer.zero_grad()\n",
    "                loss.backward()\n",
    "                optimizer.step()\n",
    "                step += 1\n",
    "\n",
    "            # bookkeepeing\n",
    "            tracker['Loss'] = torch.cat((tracker['Loss'], loss.detach().view(1)))\n",
    "\n",
    "            if args.tensorboard_logging:\n",
    "                writer.add_scalar(\"%s/Loss\"%split.upper(), loss.detach().item(), epoch*len(data_loader) + iteration)\n",
    "                writer.add_scalar(\"%s/TEXT_NLL_Loss\"%split.upper(), NLL_loss.detach().item()/batch_size, epoch*len(data_loader) + iteration)\n",
    "                writer.add_scalar(\"%s/KL Loss\"%split.upper(), KL_loss.detach().item()/batch_size, epoch*len(data_loader) + iteration)\n",
    "                writer.add_scalar(\"%s/KL Weight\"%split.upper(), KL_weight, epoch*len(data_loader) + iteration)\n",
    "                if avg_bow_loss is not None:\n",
    "                    writer.add_scalar(\"%s/BOW Loss\"%split.upper(), avg_bow_loss, epoch*len(data_loader) + iteration)\n",
    "\n",
    "            if iteration % args.print_every == 0 or iteration+1 == len(data_loader):\n",
    "                print_text = \"%s Batch %04d/%i, Loss %9.4f, NLL-Loss %9.4f, KL-Loss %9.4f, KL-Weight %6.3f\"%(split.upper(), iteration, len(data_loader)-1, loss.detach().item(), NLL_loss.detach().item()/batch_size, KL_loss.detach().item()/batch_size, KL_weight)\n",
    "                if avg_bow_loss is not None:\n",
    "                    print_text += ', BOW Loss %9.4f,'%(avg_bow_loss)\n",
    "                print(print_text)\n",
    "\n",
    "            if split == 'valid':\n",
    "                tracker['target_ids'] = torch.cat((tracker.get('target_ids', LongTensor()), batch['tgt_target'].detach()), dim=0)\n",
    "                tracker['target_sents'] = tracker.get('target_sents', []) + [ids2ptext(text_ids, train_target_ptb.i2w) for text_ids in batch['tgt_target'].data]\n",
    "                tracker['z'] = torch.cat((tracker['z'], z.detach()), dim=0)\n",
    "                with torch.no_grad():\n",
    "                    decoded_ids, _ = model.inference(z=z)\n",
    "                    tracker['decoded_ids'] = torch.cat((tracker.get('decoded_ids', LongTensor()), decoded_ids.detach()), dim=0)\n",
    "                    tracker['decoded_sents'] = tracker.get('decoded_sents', []) + [ids2ptext(text_ids, train_target_ptb.i2w) for text_ids in decoded_ids]\n",
    "\n",
    "        print(\"%s Epoch %02d/%i, Mean Loss %9.4f\"%(split.upper(), epoch, args.epochs, torch.mean(tracker['Loss'])))\n",
    "\n",
    "        if args.tensorboard_logging:\n",
    "            writer.add_scalar(\"%s-Epoch/Loss\"%split.upper(), torch.mean(tracker['Loss']), epoch)\n",
    "        \n",
    "        if split == 'valid':\n",
    "            decoded_id_list = remove_pad_index(tracker['decoded_ids'])\n",
    "            valid_tgt_id_list = remove_pad_index(tracker['target_ids'])\n",
    "            train_tgt_id_list = remove_pad_index([d['tgt_target'] for d in _datasets['train']]) # コピー率用\n",
    "            write_tensorboard_valid_metric(writer, valid_tgt_id_list, decoded_id_list, train_tgt_id_list, train_target_ptb.i2w, split, epoch)\n",
    "\n",
    "        # save checkpoint\n",
    "        if split == 'train':\n",
    "            checkpoint_path = os.path.join(save_model_path, f\"model_E{epoch}.pytorch\")\n",
    "            torch.save(model.state_dict(), checkpoint_path)\n",
    "            print(\"Model saved at %s\"%checkpoint_path)"
   ]
  }
 ],
 "metadata": {
  "kernelspec": {
   "display_name": "Python 3",
   "language": "python",
   "name": "python3"
  },
  "language_info": {
   "codemirror_mode": {
    "name": "ipython",
    "version": 3
   },
   "file_extension": ".py",
   "mimetype": "text/x-python",
   "name": "python",
   "nbconvert_exporter": "python",
   "pygments_lexer": "ipython3",
   "version": "3.7.6"
  }
 },
 "nbformat": 4,
 "nbformat_minor": 2
}
