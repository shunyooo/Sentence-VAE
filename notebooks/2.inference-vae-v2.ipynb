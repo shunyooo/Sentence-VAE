{
 "cells": [
  {
   "cell_type": "markdown",
   "metadata": {},
   "source": [
    "# Inference \n",
    "- metaファイルから読み込み"
   ]
  },
  {
   "cell_type": "code",
   "execution_count": 1,
   "metadata": {},
   "outputs": [],
   "source": [
    "import init"
   ]
  },
  {
   "cell_type": "code",
   "execution_count": 8,
   "metadata": {},
   "outputs": [],
   "source": [
    "import os\n",
    "from glob import glob\n",
    "import json\n",
    "import torch\n",
    "import argparse\n",
    "import numpy as np\n",
    "\n",
    "from utils import idx2word, interpolate, AttributeDict\n",
    "from models.model_utils import to_var, to_tensor\n",
    "from models.model_kwbase import SentenceVAE"
   ]
  },
  {
   "cell_type": "code",
   "execution_count": 3,
   "metadata": {},
   "outputs": [],
   "source": [
    "def load_json(path):\n",
    "    with open(path, 'r') as file:\n",
    "        return json.load(file)"
   ]
  },
  {
   "cell_type": "code",
   "execution_count": 4,
   "metadata": {},
   "outputs": [],
   "source": [
    "import pandas as pd\n",
    "pd.set_option(\"display.max_colwidth\", 500) # 1セルに500文字入る\n",
    "pd.set_option(\"display.max_rows\", 100) # 100行表示できる"
   ]
  },
  {
   "cell_type": "code",
   "execution_count": 6,
   "metadata": {},
   "outputs": [
    {
     "name": "stdout",
     "output_type": "stream",
     "text": [
      "top_dir: /root/user/work/Sentence-VAE\n",
      "runs_dir: /root/user/work/Sentence-VAE/runs\n",
      "data_dir: /root/user/work/Sentence-VAE/data/adcrawl\n"
     ]
    }
   ],
   "source": [
    "data_name = 'adcrawl'\n",
    "\n",
    "top_dir = os.path.abspath('..')\n",
    "runs_dir = f'{top_dir}/runs'\n",
    "data_base_dir = f'{top_dir}/data'\n",
    "data_dir = f'{data_base_dir}/{data_name}'\n",
    "assert os.path.exists(data_dir)\n",
    "print(f'top_dir: {top_dir}\\nruns_dir: {runs_dir}\\ndata_dir: {data_dir}')"
   ]
  },
  {
   "cell_type": "code",
   "execution_count": 9,
   "metadata": {},
   "outputs": [
    {
     "name": "stdout",
     "output_type": "stream",
     "text": [
      "/root/user/work/Sentence-VAE/runs/vae_adcrawl_TS=2020-03-17-101018_BS=32_LR=0.001_EB=300_GRU_HS=256_L=1_BI=0_LS=16_WD=0_ANN=LOGISTIC_K=0.0025_X0=2500\n",
      "/root/user/work/Sentence-VAE/runs/vae_cosme_mecab_TS=2020-03-16-140738_BS=32_LR=0.001_EB=300_GRU_HS=256_L=1_BI=0_LS=16_WD=0_ANN=LOGISTIC_K=0.0025_X0=2500\n"
     ]
    }
   ],
   "source": [
    "print('\\n'.join(glob(f'{runs_dir}/*')))"
   ]
  },
  {
   "cell_type": "code",
   "execution_count": 16,
   "metadata": {},
   "outputs": [],
   "source": [
    "# model_name = 'vae_eccos_v2_TS=2020-01-05-181436_BS=32_LR=0.001_EB=300_GRU_HS=256_L=1_BI=0_LS=16_WD=0_ANN=LOGISTIC_K=0.0025_X0=2500'\n",
    "model_name = 'vae_adcrawl_TS=2020-03-17-101018_BS=32_LR=0.001_EB=300_GRU_HS=256_L=1_BI=0_LS=16_WD=0_ANN=LOGISTIC_K=0.0025_X0=2500'\n",
    "model_path = f'{runs_dir}/{model_name}/models/model_E9.pytorch'\n",
    "model_meta_path = f'{runs_dir}/{model_name}/models/model_meta.json'\n",
    "assert os.path.exists(model_path) and os.path.exists(model_meta_path)"
   ]
  },
  {
   "cell_type": "code",
   "execution_count": 17,
   "metadata": {},
   "outputs": [],
   "source": [
    "args = load_json(model_meta_path)\n",
    "args = AttributeDict(args)\n",
    "args.rnn_type = args.rnn_type.lower()\n",
    "assert args.rnn_type in ['rnn', 'lstm', 'gru']\n",
    "assert 0 <= args.word_dropout <= 1"
   ]
  },
  {
   "cell_type": "markdown",
   "metadata": {},
   "source": [
    "## load vocab"
   ]
  },
  {
   "cell_type": "code",
   "execution_count": 18,
   "metadata": {},
   "outputs": [],
   "source": [
    "data_types = ['src', 'tgt']"
   ]
  },
  {
   "cell_type": "code",
   "execution_count": 89,
   "metadata": {},
   "outputs": [],
   "source": [
    "from collections import namedtuple\n",
    "Vocab = namedtuple('Vocab' , 'w2i i2w')\n",
    "VocabSet = namedtuple('VocabSet' , 'src tgt')"
   ]
  },
  {
   "cell_type": "code",
   "execution_count": 90,
   "metadata": {},
   "outputs": [],
   "source": [
    "vocab_dict = {data_type: Vocab(**load_json(f'{data_dir}/{data_type}/ptb.vocab.json')) for data_type in ['src', 'tgt']}\n",
    "vocab = VocabSet(**vocab_dict)"
   ]
  },
  {
   "cell_type": "code",
   "execution_count": 96,
   "metadata": {},
   "outputs": [
    {
     "name": "stdout",
     "output_type": "stream",
     "text": [
      "src:74716, tgt:63563\n"
     ]
    }
   ],
   "source": [
    "print(f'src:{len(vocab.src.i2w)}, tgt:{len(vocab.tgt.i2w)}')"
   ]
  },
  {
   "cell_type": "markdown",
   "metadata": {},
   "source": [
    "## load model"
   ]
  },
  {
   "cell_type": "code",
   "execution_count": 97,
   "metadata": {},
   "outputs": [],
   "source": [
    "from constant import SOS_INDEX, EOS_INDEX, PAD_INDEX, UNK_INDEX"
   ]
  },
  {
   "cell_type": "code",
   "execution_count": 13,
   "metadata": {},
   "outputs": [],
   "source": [
    "# _dict = torch.load(model_path)\n",
    "# model_shapes = {k: v.shape for k,v in _dict.items()}\n",
    "# model_shapes"
   ]
  },
  {
   "cell_type": "code",
   "execution_count": 98,
   "metadata": {},
   "outputs": [
    {
     "data": {
      "text/plain": [
       "<AttrDict{'max_sequence_length': 100, 'sos_idx': 2, 'eos_idx': 3, 'pad_idx': 0, 'unk_idx': 1, 'latent_size': 16, 'is_conditional': False, 'rnn_type': 'gru', 'bidirectional': False, 'num_layers': 1, 'hidden_size': 256, 'word_dropout_rate': 0, 'is_inout_vocab_diff': True, 'hidden_factor': 1, 'enc_latent_input_size': 256, 'dec_before_input_size': 16, 'use_bow_loss': False, 'data_dir': '/root/user/work/Sentence-VAE/data/adcrawl', 'create_data': True, 'max_sequence_length_src': 105, 'min_occ': 1, 'test': False, 'epochs': 10, 'batch_size': 32, 'learning_rate': 0.001, 'embedding_size': 300, 'word_dropout': 0, 'embedding_dropout': 0.5, 'anneal_function': 'logistic', 'k': 0.0025, 'x0': 2500, 'print_every': 50, 'tensorboard_logging': True, 'logdir': '/root/user/work/Sentence-VAE/runs', 'save_model_path': '/root/user/work/Sentence-VAE/runs', 'experiment_name': 'vae_adcrawl', 'debug': False}>"
      ]
     },
     "execution_count": 98,
     "metadata": {},
     "output_type": "execute_result"
    }
   ],
   "source": [
    "args"
   ]
  },
  {
   "cell_type": "code",
   "execution_count": 116,
   "metadata": {},
   "outputs": [],
   "source": [
    "def load_model(path, args):\n",
    "    _dict = torch.load(path)\n",
    "    model_shapes = {k: v.shape for k,v in _dict.items()}\n",
    "    \n",
    "    _keys = args.keys() and get_varnames(SentenceVAE.__init__, ['self'])\n",
    "    _dict = split_dict(args.obj, _keys)\n",
    "    \n",
    "    if 'is_inout_vocab_diff' in args.keys():\n",
    "        _dict['out_vocab_size'] = len(vocab.tgt.w2i)\n",
    "    \n",
    "    model = SentenceVAE(\n",
    "        vocab_size=len(vocab.src.w2i),\n",
    "#         sos_idx=SOS_INDEX,\n",
    "#         eos_idx=EOS_INDEX,\n",
    "#         pad_idx=PAD_INDEX,\n",
    "#         unk_idx=UNK_INDEX,\n",
    "#         max_sequence_length=args.max_sequence_length,\n",
    "#         embedding_size=args.embedding_size,\n",
    "#         rnn_type=args.rnn_type,\n",
    "#         hidden_size=args.hidden_size,\n",
    "#         word_dropout=args.word_dropout,\n",
    "#         embedding_dropout=args.embedding_dropout,\n",
    "#         latent_size=latent_size,\n",
    "#         num_layers=args.num_layers,\n",
    "#         bidirectional=args.bidirectional,\n",
    "#         use_bow_loss=args.use_bow_loss,\n",
    "        **_dict,\n",
    "    )\n",
    "    print(model)\n",
    "    \n",
    "    if not os.path.exists(path):\n",
    "        raise FileNotFoundError(path)\n",
    "\n",
    "    model.load_state_dict(torch.load(path))\n",
    "    print(\"Model loaded from %s\"%(path))\n",
    "\n",
    "    if torch.cuda.is_available():\n",
    "        model = model.cuda()\n",
    "        \n",
    "    model.eval()\n",
    "    return model"
   ]
  },
  {
   "cell_type": "code",
   "execution_count": 117,
   "metadata": {},
   "outputs": [],
   "source": [
    "def get_varnames(func, ignore_vars=[]):\n",
    "    return [var for var in func.__code__.co_varnames[:func.__code__.co_argcount] if var not in ignore_vars]\n",
    "\n",
    "def split_dict(_dict, keys):\n",
    "    return {k:v for k,v in _dict.items() if k in keys}"
   ]
  },
  {
   "cell_type": "code",
   "execution_count": 119,
   "metadata": {},
   "outputs": [
    {
     "name": "stdout",
     "output_type": "stream",
     "text": [
      "SentenceVAE(\n",
      "  (embedding): Embedding(74716, 300)\n",
      "  (embedding_dropout): Dropout(p=0.5, inplace=False)\n",
      "  (decoder_embedding): Embedding(63563, 300)\n",
      "  (encoder_rnn): GRU(300, 256, batch_first=True)\n",
      "  (decoder_rnn): GRU(300, 256, batch_first=True)\n",
      "  (hidden2mean): Linear(in_features=256, out_features=16, bias=True)\n",
      "  (hidden2logv): Linear(in_features=256, out_features=16, bias=True)\n",
      "  (latent2hidden): Linear(in_features=16, out_features=256, bias=True)\n",
      "  (outputs2vocab): Linear(in_features=256, out_features=63563, bias=True)\n",
      ")\n",
      "Model loaded from /root/user/work/Sentence-VAE/runs/vae_adcrawl_TS=2020-03-17-101018_BS=32_LR=0.001_EB=300_GRU_HS=256_L=1_BI=0_LS=16_WD=0_ANN=LOGISTIC_K=0.0025_X0=2500/models/model_E9.pytorch\n"
     ]
    }
   ],
   "source": [
    "model = load_model(model_path, args)"
   ]
  },
  {
   "cell_type": "markdown",
   "metadata": {},
   "source": [
    "## sample 指定 inference"
   ]
  },
  {
   "cell_type": "markdown",
   "metadata": {},
   "source": [
    "### load test data"
   ]
  },
  {
   "cell_type": "code",
   "execution_count": 120,
   "metadata": {},
   "outputs": [],
   "source": [
    "from ptb import PTB\n",
    "def load_test_ptb(path):\n",
    "    return PTB(\n",
    "        data_dir=path,\n",
    "        split='test',\n",
    "        create_data=False,\n",
    "    )"
   ]
  },
  {
   "cell_type": "code",
   "execution_count": 121,
   "metadata": {},
   "outputs": [],
   "source": [
    "PTBSet = namedtuple('PTBSet' , 'src tgt')"
   ]
  },
  {
   "cell_type": "code",
   "execution_count": 122,
   "metadata": {},
   "outputs": [
    {
     "name": "stdout",
     "output_type": "stream",
     "text": [
      "TEST preprocessed file not found at /root/user/work/Sentence-VAE/data/adcrawl/src/ptb.test.json. Creating new.\n",
      "TEST preprocessed file not found at /root/user/work/Sentence-VAE/data/adcrawl/tgt/ptb.test.json. Creating new.\n"
     ]
    }
   ],
   "source": [
    "ptbs = PTBSet(**{key: load_test_ptb(f'{data_dir}/{key}/') for key in 'src tgt'.split(' ')})"
   ]
  },
  {
   "cell_type": "code",
   "execution_count": 123,
   "metadata": {},
   "outputs": [],
   "source": [
    "from utils import ids2text"
   ]
  },
  {
   "cell_type": "code",
   "execution_count": 124,
   "metadata": {},
   "outputs": [],
   "source": [
    "def _sample_data(index, ptb):\n",
    "    sample = ptb.data[f'{index}']\n",
    "    sample_input = to_tensor(sample['input']).view(1,-1).to(dtype=torch.int64)\n",
    "    sample_length = to_tensor([sample['length']]).to(dtype=torch.int64)\n",
    "    return {'input': sample_input, 'length': sample_length}"
   ]
  },
  {
   "cell_type": "code",
   "execution_count": 125,
   "metadata": {},
   "outputs": [],
   "source": [
    "Sequence = namedtuple('Sequence', 'input length')\n",
    "Sample = namedtuple('Sample' , 'src tgt')"
   ]
  },
  {
   "cell_type": "code",
   "execution_count": 128,
   "metadata": {},
   "outputs": [],
   "source": [
    "def sample_data(index, ptbs, show=False):\n",
    "    src_sample = Sequence(**_sample_data(index, ptbs.src))\n",
    "    tgt_sample = Sequence(**_sample_data(index, ptbs.tgt))\n",
    "    sample = Sample(src=src_sample, tgt=tgt_sample)\n",
    "    if show:\n",
    "        print(f'▼ Input length:{sample.src.length.item()}\\n{ids2text(sample.src.input.squeeze(), vocab.src.i2w)}')\n",
    "    return sample"
   ]
  },
  {
   "cell_type": "code",
   "execution_count": 131,
   "metadata": {},
   "outputs": [
    {
     "name": "stdout",
     "output_type": "stream",
     "text": [
      "▼ Input length:31\n",
      "facebook[media]it・webサービス[market]walletポイント付与またはwow!スーパーポイント付与。さらに運営管理手数料が[money]。\n"
     ]
    }
   ],
   "source": [
    "# データをピックアップ, 確認\n",
    "sample = sample_data(101, ptbs, show=True)"
   ]
  },
  {
   "cell_type": "markdown",
   "metadata": {},
   "source": [
    "### sampling"
   ]
  },
  {
   "cell_type": "code",
   "execution_count": 134,
   "metadata": {},
   "outputs": [],
   "source": [
    "def encode_z(model, sample):\n",
    "    # z を得るまで\n",
    "    with torch.no_grad():\n",
    "        hidden = model.encode(sample.src.input, sample.src.length)\n",
    "        mean, logv, z = model.hidden2latent(hidden)\n",
    "    return {\n",
    "        'mean': mean,\n",
    "        'logv': logv,\n",
    "        'z': z,\n",
    "    }"
   ]
  },
  {
   "cell_type": "code",
   "execution_count": 135,
   "metadata": {},
   "outputs": [],
   "source": [
    "from metric import remove_pad_index"
   ]
  },
  {
   "cell_type": "code",
   "execution_count": 136,
   "metadata": {},
   "outputs": [],
   "source": [
    "def encode_print_samples(model, sample, n=30, show=False):\n",
    "    # n回サンプリング\n",
    "    args.num_samples = n\n",
    "    encoded_z = encode_z(model, sample)\n",
    "    mean, std = encoded_z['mean'].squeeze(), torch.exp(0.5 * encoded_z['logv']).squeeze()\n",
    "    z_dist = torch.distributions.normal.Normal(mean, std)\n",
    "    z_list = z_dist.sample((n,))\n",
    "    \n",
    "    text_decoded_ids, _ = model.inference(z=z_list)\n",
    "    decoded_texts = [ids2text(_ids.squeeze(), vocab.tgt.i2w) for _ids in text_decoded_ids]\n",
    "    input_text = ids2text(sample.src.input.squeeze(), vocab.src.i2w)\n",
    "    if show:\n",
    "        print('■ 入力')\n",
    "        print(input_text)\n",
    "        print(f'■ {args.num_samples}件 サンプリング')\n",
    "    return {\n",
    "        'input_text': input_text,\n",
    "        'df': pd.DataFrame({'生成文': decoded_texts, '生成文_ids': remove_pad_index(text_decoded_ids)}),\n",
    "        **encoded_z\n",
    "    }"
   ]
  },
  {
   "cell_type": "code",
   "execution_count": 163,
   "metadata": {},
   "outputs": [
    {
     "name": "stdout",
     "output_type": "stream",
     "text": [
      "■ 入力\n",
      "facebook[media]エンタメ[market]営業ギライの人でも、最新の購買心理学で自然にお客様の「欲しい」を引き出す!読むだけで、面白いように成約率があがる!「お願いされるクロージング[<unk>\n",
      "■ 10件 サンプリング\n"
     ]
    },
    {
     "data": {
      "text/html": [
       "<div>\n",
       "<style scoped>\n",
       "    .dataframe tbody tr th:only-of-type {\n",
       "        vertical-align: middle;\n",
       "    }\n",
       "\n",
       "    .dataframe tbody tr th {\n",
       "        vertical-align: top;\n",
       "    }\n",
       "\n",
       "    .dataframe thead th {\n",
       "        text-align: right;\n",
       "    }\n",
       "</style>\n",
       "<table border=\"1\" class=\"dataframe\">\n",
       "  <thead>\n",
       "    <tr style=\"text-align: right;\">\n",
       "      <th></th>\n",
       "      <th>生成文</th>\n",
       "    </tr>\n",
       "  </thead>\n",
       "  <tbody>\n",
       "    <tr>\n",
       "      <th>0</th>\n",
       "      <td>【[date]のお知らせ】「[unk]」をテーマにした、「[unk]」をテーマにした「[unk]」をテーマにした「[unk]」をテーマにした「[unk]」をテーマにした「[unk]」の「[unk]」をテーマにした「[unk]」の「[unk]」をテーマにした「[unk]」の「[unk]」をテーマにした「[unk]」の「[unk]」をテーマ</td>\n",
       "    </tr>\n",
       "    <tr>\n",
       "      <th>1</th>\n",
       "      <td>【[date](土),(日),(日),(日),(日),(日),(日),(日),(日),(日),(日),(日),(日),(日),(日),(日),(日),(日),(日),(日),(日),(日),(日),(日),(日</td>\n",
       "    </tr>\n",
       "    <tr>\n",
       "      <th>2</th>\n",
       "      <td>【[date](金)公開】「[unk]」をテーマにした「[unk]」の「[unk]」をテーマにした「[unk]」をテーマにした「[unk]」をテーマにした「[unk]」をテーマにした「[unk]」をテーマにした「[unk]」をテーマにした「[unk]」をテーマにした「[unk]」をテーマにした「[unk]」をテーマにし</td>\n",
       "    </tr>\n",
       "    <tr>\n",
       "      <th>3</th>\n",
       "      <td>【[date](土)】「[unk]」をテーマにした、「[unk]」をテーマにした「[unk]」をテーマにした「[unk]」をテーマにした「[unk]」をテーマにした「[unk]」をテーマにした「[unk]」をテーマにした「[unk]」をテーマにした「[unk]」をテーマにした「[unk]」をテーマにした「[unk]</td>\n",
       "    </tr>\n",
       "    <tr>\n",
       "      <th>4</th>\n",
       "      <td>【[unk]】では、「[unk]」をテーマにした「[unk]」の技\\n</td>\n",
       "    </tr>\n",
       "    <tr>\n",
       "      <th>5</th>\n",
       "      <td>【[date]のキャンペーン実施中】\\「[unk]」をフォローして、抽選で1万名様にプレゼント!応募締切は[date](金)まで!詳細はこちら⇒\\n</td>\n",
       "    </tr>\n",
       "    <tr>\n",
       "      <th>6</th>\n",
       "      <td>【[date]の新作】「[unk]」が、「[unk]」をテーマにした「[unk]」をテーマにした「[unk]」をテーマにした「[unk]」をテーマにした「[unk]」をテーマにした「[unk]」をテーマにした「[unk]」をテーマにした「[unk]」をテーマにした「[unk]」をテーマにした「[unk]」をテーマにし</td>\n",
       "    </tr>\n",
       "    <tr>\n",
       "      <th>7</th>\n",
       "      <td>【[unk]】では、「[unk]」の[unk]が[unk]!「[unk]」をテーマにした「[unk]」の「[unk]」が、「[unk]」をテーマにした「[unk]」の「[unk]」という言葉を語っていただきました。\\n</td>\n",
       "    </tr>\n",
       "    <tr>\n",
       "      <th>8</th>\n",
       "      <td>【[date](金)公開】「[unk]」が、「[unk]」で、「[unk]」を宣言して、「[unk]」を演じている「[unk]」を演じている「[unk]」を演じて、「[unk]」を演じて、「[unk]」を演じて、「[unk]」を演じて、「[unk]」を宣言して、「[unk]」を演じて、「glideride」を実現し</td>\n",
       "    </tr>\n",
       "    <tr>\n",
       "      <th>9</th>\n",
       "      <td>【[date]のサービス開始】「[unk]」を使って、「[unk]」を使って、「[unk]」を使って、「[unk]」を演じて、あなたの「」をテーマにした「[unk]」をテーマにした「[unk]」をテーマにした「[unk]」をテーマにした「[unk]」をテーマにした「[unk]」をテーマにした「[unk]」をテーマにし</td>\n",
       "    </tr>\n",
       "  </tbody>\n",
       "</table>\n",
       "</div>"
      ],
      "text/plain": [
       "                                                                                                                                                                         生成文\n",
       "0  【[date]のお知らせ】「[unk]」をテーマにした、「[unk]」をテーマにした「[unk]」をテーマにした「[unk]」をテーマにした「[unk]」をテーマにした「[unk]」の「[unk]」をテーマにした「[unk]」の「[unk]」をテーマにした「[unk]」の「[unk]」をテーマにした「[unk]」の「[unk]」をテーマ\n",
       "1                                                                  【[date](土),(日),(日),(日),(日),(日),(日),(日),(日),(日),(日),(日),(日),(日),(日),(日),(日),(日),(日),(日),(日),(日),(日),(日),(日\n",
       "2           【[date](金)公開】「[unk]」をテーマにした「[unk]」の「[unk]」をテーマにした「[unk]」をテーマにした「[unk]」をテーマにした「[unk]」をテーマにした「[unk]」をテーマにした「[unk]」をテーマにした「[unk]」をテーマにした「[unk]」をテーマにした「[unk]」をテーマにし\n",
       "3             【[date](土)】「[unk]」をテーマにした、「[unk]」をテーマにした「[unk]」をテーマにした「[unk]」をテーマにした「[unk]」をテーマにした「[unk]」をテーマにした「[unk]」をテーマにした「[unk]」をテーマにした「[unk]」をテーマにした「[unk]」をテーマにした「[unk]\n",
       "4                                                                                                                                        【[unk]】では、「[unk]」をテーマにした「[unk]」の技\\n\n",
       "5                                                                                                 【[date]のキャンペーン実施中】\\「[unk]」をフォローして、抽選で1万名様にプレゼント!応募締切は[date](金)まで!詳細はこちら⇒\\n\n",
       "6            【[date]の新作】「[unk]」が、「[unk]」をテーマにした「[unk]」をテーマにした「[unk]」をテーマにした「[unk]」をテーマにした「[unk]」をテーマにした「[unk]」をテーマにした「[unk]」をテーマにした「[unk]」をテーマにした「[unk]」をテーマにした「[unk]」をテーマにし\n",
       "7                                                              【[unk]】では、「[unk]」の[unk]が[unk]!「[unk]」をテーマにした「[unk]」の「[unk]」が、「[unk]」をテーマにした「[unk]」の「[unk]」という言葉を語っていただきました。\\n\n",
       "8             【[date](金)公開】「[unk]」が、「[unk]」で、「[unk]」を宣言して、「[unk]」を演じている「[unk]」を演じている「[unk]」を演じて、「[unk]」を演じて、「[unk]」を演じて、「[unk]」を演じて、「[unk]」を宣言して、「[unk]」を演じて、「glideride」を実現し\n",
       "9            【[date]のサービス開始】「[unk]」を使って、「[unk]」を使って、「[unk]」を使って、「[unk]」を演じて、あなたの「」をテーマにした「[unk]」をテーマにした「[unk]」をテーマにした「[unk]」をテーマにした「[unk]」をテーマにした「[unk]」をテーマにした「[unk]」をテーマにし"
      ]
     },
     "execution_count": 163,
     "metadata": {},
     "output_type": "execute_result"
    }
   ],
   "source": [
    "sample = sample_data(900, ptbs)\n",
    "decode_dict = encode_print_samples(model, sample, n=10, show=True)\n",
    "decode_dict['df']['生成文'] = decode_dict['df']['生成文'].apply(lambda x: x.replace('<sep>', ''))\n",
    "decode_dict['df'][['生成文']]"
   ]
  },
  {
   "cell_type": "markdown",
   "metadata": {},
   "source": [
    "#### 評価用データ吐き出し"
   ]
  },
  {
   "cell_type": "code",
   "execution_count": 146,
   "metadata": {},
   "outputs": [],
   "source": [
    "# サンプルid指定\n",
    "# sample_num = 50\n",
    "# sample_ids = torch.randint(len(ptbs.src), (sample_num,)).tolist()\n",
    "# sample_ids = [208, 1324, 2018, 323, 1955, 1750, 1294, 1204, 1907, 210, 1473, 576, 802, 814, 421, 772, 1168, 1719, 841, 163, 14, 53, 97, 159, 1197, 459, 1675, 1031, 2298, 1906, 336, 1649, 2077, 1129, 2316, 2382, 499, 2071, 1949, 261, 1875, 951, 1482, 77, 2036, 2034, 849, 631, 1730, 1576]\n",
    "# テストデータ全体\n",
    "sample_ids = range(len(ptbs.src))"
   ]
  },
  {
   "cell_type": "code",
   "execution_count": 147,
   "metadata": {},
   "outputs": [],
   "source": [
    "decode_num = 10"
   ]
  },
  {
   "cell_type": "code",
   "execution_count": 148,
   "metadata": {},
   "outputs": [],
   "source": [
    "def list2dict(key, _list):\n",
    "    return {f'{key}{i}': decoded_text for i, decoded_text in enumerate(_list)}"
   ]
  },
  {
   "cell_type": "code",
   "execution_count": 149,
   "metadata": {},
   "outputs": [
    {
     "name": "stdout",
     "output_type": "stream",
     "text": [
      "0, 100, 200, 300, 400, "
     ]
    },
    {
     "ename": "KeyboardInterrupt",
     "evalue": "",
     "output_type": "error",
     "traceback": [
      "\u001b[0;31m---------------------------------------------------------------------------\u001b[0m",
      "\u001b[0;31mKeyboardInterrupt\u001b[0m                         Traceback (most recent call last)",
      "\u001b[0;32m<ipython-input-149-35d3a95c7bf5>\u001b[0m in \u001b[0;36m<module>\u001b[0;34m\u001b[0m\n\u001b[1;32m      4\u001b[0m         \u001b[0mprint\u001b[0m\u001b[0;34m(\u001b[0m\u001b[0msample_id\u001b[0m\u001b[0;34m,\u001b[0m \u001b[0mend\u001b[0m\u001b[0;34m=\u001b[0m\u001b[0;34m', '\u001b[0m\u001b[0;34m)\u001b[0m\u001b[0;34m\u001b[0m\u001b[0;34m\u001b[0m\u001b[0m\n\u001b[1;32m      5\u001b[0m     \u001b[0msample\u001b[0m \u001b[0;34m=\u001b[0m \u001b[0msample_data\u001b[0m\u001b[0;34m(\u001b[0m\u001b[0msample_id\u001b[0m\u001b[0;34m,\u001b[0m \u001b[0mptbs\u001b[0m\u001b[0;34m)\u001b[0m\u001b[0;34m\u001b[0m\u001b[0;34m\u001b[0m\u001b[0m\n\u001b[0;32m----> 6\u001b[0;31m     \u001b[0mdecode_dict\u001b[0m \u001b[0;34m=\u001b[0m \u001b[0mencode_print_samples\u001b[0m\u001b[0;34m(\u001b[0m\u001b[0mmodel\u001b[0m\u001b[0;34m,\u001b[0m \u001b[0msample\u001b[0m\u001b[0;34m,\u001b[0m \u001b[0mn\u001b[0m\u001b[0;34m=\u001b[0m\u001b[0mdecode_num\u001b[0m\u001b[0;34m,\u001b[0m \u001b[0mshow\u001b[0m\u001b[0;34m=\u001b[0m\u001b[0;32mFalse\u001b[0m\u001b[0;34m)\u001b[0m\u001b[0;34m\u001b[0m\u001b[0;34m\u001b[0m\u001b[0m\n\u001b[0m\u001b[1;32m      7\u001b[0m     \u001b[0mdecode_dict\u001b[0m\u001b[0;34m[\u001b[0m\u001b[0;34m'df'\u001b[0m\u001b[0;34m]\u001b[0m\u001b[0;34m[\u001b[0m\u001b[0;34m'生成文'\u001b[0m\u001b[0;34m]\u001b[0m \u001b[0;34m=\u001b[0m \u001b[0mdecode_dict\u001b[0m\u001b[0;34m[\u001b[0m\u001b[0;34m'df'\u001b[0m\u001b[0;34m]\u001b[0m\u001b[0;34m[\u001b[0m\u001b[0;34m'生成文'\u001b[0m\u001b[0;34m]\u001b[0m\u001b[0;34m.\u001b[0m\u001b[0mapply\u001b[0m\u001b[0;34m(\u001b[0m\u001b[0;32mlambda\u001b[0m \u001b[0mx\u001b[0m\u001b[0;34m:\u001b[0m \u001b[0mx\u001b[0m\u001b[0;34m.\u001b[0m\u001b[0mreplace\u001b[0m\u001b[0;34m(\u001b[0m\u001b[0;34m'<sep>'\u001b[0m\u001b[0;34m,\u001b[0m \u001b[0;34m''\u001b[0m\u001b[0;34m)\u001b[0m\u001b[0;34m)\u001b[0m\u001b[0;34m\u001b[0m\u001b[0;34m\u001b[0m\u001b[0m\n\u001b[1;32m      8\u001b[0m     \u001b[0mdecoded_text_list\u001b[0m \u001b[0;34m=\u001b[0m \u001b[0mdecode_dict\u001b[0m\u001b[0;34m[\u001b[0m\u001b[0;34m'df'\u001b[0m\u001b[0;34m]\u001b[0m\u001b[0;34m[\u001b[0m\u001b[0;34m'生成文'\u001b[0m\u001b[0;34m]\u001b[0m\u001b[0;34m.\u001b[0m\u001b[0mtolist\u001b[0m\u001b[0;34m(\u001b[0m\u001b[0;34m)\u001b[0m\u001b[0;34m\u001b[0m\u001b[0;34m\u001b[0m\u001b[0m\n",
      "\u001b[0;32m<ipython-input-136-583a24f52d53>\u001b[0m in \u001b[0;36mencode_print_samples\u001b[0;34m(model, sample, n, show)\u001b[0m\n\u001b[1;32m      7\u001b[0m     \u001b[0mz_list\u001b[0m \u001b[0;34m=\u001b[0m \u001b[0mz_dist\u001b[0m\u001b[0;34m.\u001b[0m\u001b[0msample\u001b[0m\u001b[0;34m(\u001b[0m\u001b[0;34m(\u001b[0m\u001b[0mn\u001b[0m\u001b[0;34m,\u001b[0m\u001b[0;34m)\u001b[0m\u001b[0;34m)\u001b[0m\u001b[0;34m\u001b[0m\u001b[0;34m\u001b[0m\u001b[0m\n\u001b[1;32m      8\u001b[0m \u001b[0;34m\u001b[0m\u001b[0m\n\u001b[0;32m----> 9\u001b[0;31m     \u001b[0mtext_decoded_ids\u001b[0m\u001b[0;34m,\u001b[0m \u001b[0m_\u001b[0m \u001b[0;34m=\u001b[0m \u001b[0mmodel\u001b[0m\u001b[0;34m.\u001b[0m\u001b[0minference\u001b[0m\u001b[0;34m(\u001b[0m\u001b[0mz\u001b[0m\u001b[0;34m=\u001b[0m\u001b[0mz_list\u001b[0m\u001b[0;34m)\u001b[0m\u001b[0;34m\u001b[0m\u001b[0;34m\u001b[0m\u001b[0m\n\u001b[0m\u001b[1;32m     10\u001b[0m     \u001b[0mdecoded_texts\u001b[0m \u001b[0;34m=\u001b[0m \u001b[0;34m[\u001b[0m\u001b[0mids2text\u001b[0m\u001b[0;34m(\u001b[0m\u001b[0m_ids\u001b[0m\u001b[0;34m.\u001b[0m\u001b[0msqueeze\u001b[0m\u001b[0;34m(\u001b[0m\u001b[0;34m)\u001b[0m\u001b[0;34m,\u001b[0m \u001b[0mvocab\u001b[0m\u001b[0;34m.\u001b[0m\u001b[0mtgt\u001b[0m\u001b[0;34m.\u001b[0m\u001b[0mi2w\u001b[0m\u001b[0;34m)\u001b[0m \u001b[0;32mfor\u001b[0m \u001b[0m_ids\u001b[0m \u001b[0;32min\u001b[0m \u001b[0mtext_decoded_ids\u001b[0m\u001b[0;34m]\u001b[0m\u001b[0;34m\u001b[0m\u001b[0;34m\u001b[0m\u001b[0m\n\u001b[1;32m     11\u001b[0m     \u001b[0minput_text\u001b[0m \u001b[0;34m=\u001b[0m \u001b[0mids2text\u001b[0m\u001b[0;34m(\u001b[0m\u001b[0msample\u001b[0m\u001b[0;34m.\u001b[0m\u001b[0msrc\u001b[0m\u001b[0;34m.\u001b[0m\u001b[0minput\u001b[0m\u001b[0;34m.\u001b[0m\u001b[0msqueeze\u001b[0m\u001b[0;34m(\u001b[0m\u001b[0;34m)\u001b[0m\u001b[0;34m,\u001b[0m \u001b[0mvocab\u001b[0m\u001b[0;34m.\u001b[0m\u001b[0msrc\u001b[0m\u001b[0;34m.\u001b[0m\u001b[0mi2w\u001b[0m\u001b[0;34m)\u001b[0m\u001b[0;34m\u001b[0m\u001b[0;34m\u001b[0m\u001b[0m\n",
      "\u001b[0;32m~/user/work/Sentence-VAE/notebooks/../src/models/model_kwbase.py\u001b[0m in \u001b[0;36minference\u001b[0;34m(self, n, z)\u001b[0m\n\u001b[1;32m    372\u001b[0m                 \u001b[0mhidden\u001b[0m \u001b[0;34m=\u001b[0m \u001b[0mhidden\u001b[0m\u001b[0;34m[\u001b[0m\u001b[0;34m:\u001b[0m\u001b[0;34m,\u001b[0m \u001b[0mrunning_seqs\u001b[0m\u001b[0;34m]\u001b[0m\u001b[0;34m\u001b[0m\u001b[0;34m\u001b[0m\u001b[0m\n\u001b[1;32m    373\u001b[0m \u001b[0;34m\u001b[0m\u001b[0m\n\u001b[0;32m--> 374\u001b[0;31m                 \u001b[0mrunning_seqs\u001b[0m \u001b[0;34m=\u001b[0m \u001b[0mtorch\u001b[0m\u001b[0;34m.\u001b[0m\u001b[0marange\u001b[0m\u001b[0;34m(\u001b[0m\u001b[0;36m0\u001b[0m\u001b[0;34m,\u001b[0m \u001b[0mlen\u001b[0m\u001b[0;34m(\u001b[0m\u001b[0mrunning_seqs\u001b[0m\u001b[0;34m)\u001b[0m\u001b[0;34m,\u001b[0m \u001b[0mout\u001b[0m\u001b[0;34m=\u001b[0m\u001b[0mself\u001b[0m\u001b[0;34m.\u001b[0m\u001b[0mtensor\u001b[0m\u001b[0;34m(\u001b[0m\u001b[0;34m)\u001b[0m\u001b[0;34m)\u001b[0m\u001b[0;34m.\u001b[0m\u001b[0mlong\u001b[0m\u001b[0;34m(\u001b[0m\u001b[0;34m)\u001b[0m\u001b[0;34m\u001b[0m\u001b[0;34m\u001b[0m\u001b[0m\n\u001b[0m\u001b[1;32m    375\u001b[0m \u001b[0;34m\u001b[0m\u001b[0m\n\u001b[1;32m    376\u001b[0m             \u001b[0mt\u001b[0m \u001b[0;34m+=\u001b[0m \u001b[0;36m1\u001b[0m\u001b[0;34m\u001b[0m\u001b[0;34m\u001b[0m\u001b[0m\n",
      "\u001b[0;31mKeyboardInterrupt\u001b[0m: "
     ]
    }
   ],
   "source": [
    "total_decoded_list = []\n",
    "print(f'{len(sample_ids)}件のテストデータをデコードします..')\n",
    "for sample_id in sample_ids:\n",
    "    if sample_id % 100 == 0:\n",
    "        print(sample_id, end=', ')\n",
    "    sample = sample_data(sample_id, ptbs)\n",
    "    decode_dict = encode_print_samples(model, sample, n=decode_num, show=False)\n",
    "    decode_dict['df']['生成文'] = decode_dict['df']['生成文'].apply(lambda x: x.replace('<sep>', ''))\n",
    "    decoded_text_list = decode_dict['df']['生成文'].tolist()\n",
    "    total_decoded_list.append({'入力文': decode_dict['input_text'].replace('<sep>', ''), \n",
    "                               **list2dict('生成文', decode_dict['df']['生成文'].tolist()),\n",
    "                               **list2dict('生成文_ids', decode_dict['df']['生成文_ids'].tolist()),\n",
    "                              })\n",
    "df_decoded = pd.DataFrame(total_decoded_list)"
   ]
  },
  {
   "cell_type": "code",
   "execution_count": 40,
   "metadata": {},
   "outputs": [],
   "source": [
    "# テストデータ全体のデコード\n",
    "# ! mkdir $f'{runs_dir}/{model_name}/dumps'\n",
    "df_decoded.to_pickle(f'{runs_dir}/{model_name}/dumps/vae_{data_name}_all.pickle',)"
   ]
  },
  {
   "cell_type": "code",
   "execution_count": 41,
   "metadata": {},
   "outputs": [
    {
     "data": {
      "text/plain": [
       "'/root/user/work/src/Sentence-VAE/runs/vae_eccos_v2_TS=2020-01-05-181436_BS=32_LR=0.001_EB=300_GRU_HS=256_L=1_BI=0_LS=16_WD=0_ANN=LOGISTIC_K=0.0025_X0=2500/dumps/vae_eccos_all.pickle'"
      ]
     },
     "execution_count": 41,
     "metadata": {},
     "output_type": "execute_result"
    }
   ],
   "source": [
    "f'{runs_dir}/{model_name}/dumps/vae_{data_name}_all.pickle'"
   ]
  },
  {
   "cell_type": "code",
   "execution_count": 128,
   "metadata": {},
   "outputs": [],
   "source": [
    "# ! mkdir $f'{runs_dir}/{model_name}/dumps'\n",
    "df_decoded.to_csv(f'{runs_dir}/{model_name}/dumps/vae_{data_name}.csv')\n",
    "df_decoded.to_csv(f'{runs_dir}/{model_name}/dumps/vae_{data_name}_utf16.csv', encoding='utf-16')"
   ]
  },
  {
   "cell_type": "code",
   "execution_count": 211,
   "metadata": {},
   "outputs": [],
   "source": [
    "# import pytablewriter\n",
    "# _df = decode_dict['df'].copy()\n",
    "# _df['生成文'] = _df['生成文'].apply(lambda x: f'`{x}`')\n",
    "\n",
    "# writer = pytablewriter.MarkdownTableWriter()\n",
    "# writer.from_dataframe(_df)\n",
    "# writer.write_table()"
   ]
  },
  {
   "cell_type": "markdown",
   "metadata": {},
   "source": [
    "## 潜在空間のプロット\n",
    "圧縮して分布を確認してみる"
   ]
  },
  {
   "cell_type": "code",
   "execution_count": 71,
   "metadata": {},
   "outputs": [],
   "source": [
    "import umap.umap_ as umap"
   ]
  },
  {
   "cell_type": "code",
   "execution_count": 72,
   "metadata": {},
   "outputs": [],
   "source": [
    "# 描画用\n",
    "# https://github.com/lmcinnes/umap/blob/master/notebooks/UMAP%20usage%20and%20parameters.ipynb\n",
    "import numpy as np\n",
    "import matplotlib.pyplot as plt\n",
    "from mpl_toolkits.mplot3d import Axes3D\n",
    "import seaborn as sns\n",
    "%matplotlib inline\n",
    "sns.set(style='white', rc={'figure.figsize':(12,8)})\n",
    "def plot_scatter(u, title=''):\n",
    "    fig = plt.figure()\n",
    "    n_components = u.shape[1]\n",
    "    plot_kwargs = {'alpha': 0.5, 's':5}\n",
    "    if n_components == 1:\n",
    "        ax = fig.add_subplot(111)\n",
    "        ax.scatter(u[:,0], range(len(u)), **plot_kwargs)\n",
    "    if n_components == 2:\n",
    "        ax = fig.add_subplot(111)\n",
    "        ax.scatter(u[:,0], u[:,1], **plot_kwargs)\n",
    "    if n_components == 3:\n",
    "        ax = fig.add_subplot(111, projection='3d', **plot_kwargs)\n",
    "        ax.scatter(u[:,0], u[:,1], u[:,2])\n",
    "    plt.title(title, fontsize=18)"
   ]
  },
  {
   "cell_type": "markdown",
   "metadata": {},
   "source": [
    "### load test data"
   ]
  },
  {
   "cell_type": "code",
   "execution_count": 73,
   "metadata": {},
   "outputs": [],
   "source": [
    "def sample_to_tensor(sample_text):\n",
    "    sample_input = to_tensor(sample_text.input).view(1,-1).to(dtype=torch.int64)\n",
    "    sample_length = to_tensor([sample_text.length]).to(dtype=torch.int64)\n",
    "    return sample_input, sample_length"
   ]
  },
  {
   "cell_type": "code",
   "execution_count": 74,
   "metadata": {},
   "outputs": [],
   "source": [
    "samples = [sample_data(i, ptbs) for i in range(len(ptbs.src))]"
   ]
  },
  {
   "cell_type": "code",
   "execution_count": 75,
   "metadata": {},
   "outputs": [
    {
     "name": "stdout",
     "output_type": "stream",
     "text": [
      "Encode...\n",
      "CPU times: user 3.43 s, sys: 200 ms, total: 3.62 s\n",
      "Wall time: 3.63 s\n"
     ]
    }
   ],
   "source": [
    "%%time\n",
    "# テストデータを潜在変数に変換\n",
    "with torch.no_grad():\n",
    "    # encoded_samples = [model.encode(*sample_to_tensor(sample)) for i, sample in test_ptb.data.items()]\n",
    "    print('Encode...')    \n",
    "    encoded_z_list = [encode_z(model, sample) for sample in samples]\n",
    "    encoded_mean_list = [z['mean'].tolist() for z in encoded_z_list]"
   ]
  },
  {
   "cell_type": "code",
   "execution_count": 76,
   "metadata": {},
   "outputs": [],
   "source": [
    "encoded_mean_arr = np.array(encoded_mean_list).squeeze()"
   ]
  },
  {
   "cell_type": "code",
   "execution_count": 77,
   "metadata": {},
   "outputs": [],
   "source": [
    "import warnings\n",
    "warnings.filterwarnings('ignore')"
   ]
  },
  {
   "cell_type": "code",
   "execution_count": 78,
   "metadata": {},
   "outputs": [
    {
     "name": "stdout",
     "output_type": "stream",
     "text": [
      "CPU times: user 11.7 s, sys: 611 ms, total: 12.3 s\n",
      "Wall time: 11.5 s\n"
     ]
    }
   ],
   "source": [
    "%%time\n",
    "mean_u = umap.UMAP().fit_transform(encoded_mean_arr)"
   ]
  },
  {
   "cell_type": "code",
   "execution_count": 79,
   "metadata": {},
   "outputs": [
    {
     "data": {
      "image/png": "[encoded data removed]",
      "text/plain": [
       "<Figure size 864x576 with 1 Axes>"
      ]
     },
     "metadata": {},
     "output_type": "display_data"
    }
   ],
   "source": [
    "plot_scatter(mean_u)"
   ]
  },
  {
   "cell_type": "markdown",
   "metadata": {},
   "source": [
    "### TensorBoard Embedding Projectorへ"
   ]
  },
  {
   "cell_type": "code",
   "execution_count": 80,
   "metadata": {},
   "outputs": [
    {
     "name": "stdout",
     "output_type": "stream",
     "text": [
      "/root/user/work/src/Sentence-VAE/runs/vae_eccos_v2_TS=2020-01-05-181436_BS=32_LR=0.001_EB=300_GRU_HS=256_L=1_BI=0_LS=16_WD=0_ANN=LOGISTIC_K=0.0025_X0=2500/vae_eccos_v2_embeddings\n"
     ]
    }
   ],
   "source": [
    "import pandas as pd\n",
    "limit = 5000\n",
    "df = pd.DataFrame(ptbs.src.data).T\n",
    "test_label_list = [ids2text(target, vocab.src.i2w) for target in df.target.tolist()]\n",
    "from torch.utils.tensorboard import SummaryWriter\n",
    "save_dir = f'{runs_dir}/{model_name}/vae_eccos_v2_embeddings'\n",
    "print(save_dir)\n",
    "writer = SummaryWriter(save_dir)\n",
    "writer.add_embedding(torch.FloatTensor(encoded_mean_arr[:limit]), metadata=test_label_list[:limit])"
   ]
  },
  {
   "cell_type": "code",
   "execution_count": null,
   "metadata": {},
   "outputs": [],
   "source": []
  }
 ],
 "metadata": {
  "kernelspec": {
   "display_name": "Python 3",
   "language": "python",
   "name": "python3"
  },
  "language_info": {
   "codemirror_mode": {
    "name": "ipython",
    "version": 3
   },
   "file_extension": ".py",
   "mimetype": "text/x-python",
   "name": "python",
   "nbconvert_exporter": "python",
   "pygments_lexer": "ipython3",
   "version": "3.7.6"
  }
 },
 "nbformat": 4,
 "nbformat_minor": 4
}
