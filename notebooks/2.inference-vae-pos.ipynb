{
 "cells": [
  {
   "cell_type": "markdown",
   "metadata": {},
   "source": [
    "# Inference"
   ]
  },
  {
   "cell_type": "code",
   "execution_count": 1,
   "metadata": {},
   "outputs": [],
   "source": [
    "import init"
   ]
  },
  {
   "cell_type": "code",
   "execution_count": 2,
   "metadata": {},
   "outputs": [],
   "source": [
    "import os\n",
    "import json\n",
    "import torch\n",
    "import argparse\n",
    "import numpy as np\n",
    "\n",
    "from models.model_pos import POSVAE\n",
    "from utils import idx2word, interpolate, AttributeDict\n",
    "from models.model_utils import to_var, to_tensor\n",
    "from tqdm._tqdm_notebook import tqdm_notebook"
   ]
  },
  {
   "cell_type": "code",
   "execution_count": 3,
   "metadata": {},
   "outputs": [],
   "source": [
    "def load_json(path):\n",
    "    with open(path, 'r') as file:\n",
    "        return json.load(file)"
   ]
  },
  {
   "cell_type": "code",
   "execution_count": 4,
   "metadata": {},
   "outputs": [],
   "source": [
    "import pandas as pd\n",
    "pd.set_option(\"display.max_colwidth\", 500) # 1セルに500文字入る\n",
    "pd.set_option(\"display.max_rows\", 100) # 100行表示できる"
   ]
  },
  {
   "cell_type": "code",
   "execution_count": 5,
   "metadata": {},
   "outputs": [
    {
     "name": "stdout",
     "output_type": "stream",
     "text": [
      "top_dir: /root/user/work/src/Sentence-VAE\n",
      "runs_dir: /root/user/work/src/Sentence-VAE/runs\n",
      "data_dir: /root/user/work/src/Sentence-VAE/data/eccos_v2\n"
     ]
    }
   ],
   "source": [
    "top_dir = os.path.abspath('..')\n",
    "runs_dir = f'{top_dir}/runs'\n",
    "data_base_dir = f'{top_dir}/data'\n",
    "data_name = 'eccos_v2'\n",
    "data_dir = f'{data_base_dir}/{data_name}'\n",
    "print(f'top_dir: {top_dir}\\nruns_dir: {runs_dir}\\ndata_dir: {data_dir}')"
   ]
  },
  {
   "cell_type": "code",
   "execution_count": 6,
   "metadata": {},
   "outputs": [],
   "source": [
    "model_name = 'posvae_eccos_v2_TS=2020-01-05-173701_BS=32_LR=0.001_EB=300_GRU_HS=256_L=1_BI=0_LS=16_WD=0_ANN=LOGISTIC_K=0.0025_X0=2500'\n",
    "model_path = f'{runs_dir}/{model_name}/models/model_E9.pytorch'\n",
    "model_meta_path = f'{runs_dir}/{model_name}/models/model_meta.json'"
   ]
  },
  {
   "cell_type": "code",
   "execution_count": 7,
   "metadata": {},
   "outputs": [],
   "source": [
    "args = load_json(model_meta_path)\n",
    "args = AttributeDict(args)\n",
    "args.rnn_type = args.rnn_type.lower()\n",
    "assert args.rnn_type in ['rnn', 'lstm', 'gru']\n",
    "assert 0 <= args.word_dropout <= 1"
   ]
  },
  {
   "cell_type": "markdown",
   "metadata": {},
   "source": [
    "## load vocab"
   ]
  },
  {
   "cell_type": "code",
   "execution_count": 8,
   "metadata": {},
   "outputs": [],
   "source": [
    "data_types = ['src', 'tgt', 'pos']"
   ]
  },
  {
   "cell_type": "code",
   "execution_count": 9,
   "metadata": {},
   "outputs": [],
   "source": [
    "from collections import namedtuple\n",
    "Vocab = namedtuple('Vocab' , 'w2i i2w')\n",
    "VocabSet = namedtuple('VocabSet' , 'text pos')"
   ]
  },
  {
   "cell_type": "code",
   "execution_count": 10,
   "metadata": {},
   "outputs": [],
   "source": [
    "vocab_dict = {key: Vocab(**load_json(f'{data_dir}/{data_type}/ptb.vocab.json')) for key, data_type in zip(['text', 'pos'], ['src', 'pos'])}\n",
    "vocab = VocabSet(**vocab_dict)"
   ]
  },
  {
   "cell_type": "code",
   "execution_count": 11,
   "metadata": {},
   "outputs": [],
   "source": [
    "# src と tgt で vocab が同じか\n",
    "assert load_json(f'{data_dir}/src/ptb.vocab.json') == load_json(f'{data_dir}/tgt/ptb.vocab.json')"
   ]
  },
  {
   "cell_type": "markdown",
   "metadata": {},
   "source": [
    "## load model"
   ]
  },
  {
   "cell_type": "code",
   "execution_count": 12,
   "metadata": {},
   "outputs": [],
   "source": [
    "from constant import SOS_INDEX, EOS_INDEX, PAD_INDEX, UNK_INDEX"
   ]
  },
  {
   "cell_type": "code",
   "execution_count": 13,
   "metadata": {},
   "outputs": [],
   "source": [
    "# _dict = torch.load(model_path)\n",
    "# model_shapes = {k: v.shape for k,v in _dict.items()}\n",
    "# model_shapes"
   ]
  },
  {
   "cell_type": "code",
   "execution_count": 14,
   "metadata": {},
   "outputs": [],
   "source": [
    "def load_model(path):\n",
    "    _dict = torch.load(path)\n",
    "    model_shapes = {k: v.shape for k,v in _dict.items()}\n",
    "    ext_kwargs = {}\n",
    "        \n",
    "    # Latent size\n",
    "    latent_size = model_shapes.get('hidden2logv.bias')[0]\n",
    "    print(f'Latent size: {latent_size}')\n",
    "        \n",
    "    model = POSVAE(\n",
    "        vocab_size=len(vocab.text.w2i),\n",
    "        pos_vocab_size=len(vocab.pos.w2i),\n",
    "        embedding_size=args.embedding_size,\n",
    "        pos_embedding_size=args.pos_embedding_size,\n",
    "        rnn_type=args.rnn_type,\n",
    "        hidden_size=args.hidden_size,\n",
    "        word_dropout=args.word_dropout,\n",
    "        embedding_dropout=args.embedding_dropout,\n",
    "        latent_size=latent_size,\n",
    "        tgt_max_sequence_length=args.tgt_max_sequence_length,\n",
    "        pos_max_sequence_length=args.pos_max_sequence_length,\n",
    "        num_layers=args.num_layers,\n",
    "        bidirectional=args.bidirectional,        \n",
    "        **ext_kwargs,\n",
    "    )\n",
    "    print(model)\n",
    "    \n",
    "    if not os.path.exists(path):\n",
    "        raise FileNotFoundError(path)\n",
    "\n",
    "    model.load_state_dict(torch.load(path))\n",
    "    print(\"Model loaded from %s\"%(path))\n",
    "\n",
    "    if torch.cuda.is_available():\n",
    "        model = model.cuda()\n",
    "        \n",
    "    model.eval()\n",
    "    return model"
   ]
  },
  {
   "cell_type": "code",
   "execution_count": 15,
   "metadata": {},
   "outputs": [
    {
     "name": "stdout",
     "output_type": "stream",
     "text": [
      "Latent size: 16\n",
      "POSVAE(\n",
      "  (embedding): Embedding(10293, 300)\n",
      "  (embedding_dropout): Dropout(p=0.5, inplace=False)\n",
      "  (pos_embedding): Embedding(16, 20)\n",
      "  (encoder_rnn): GRU(300, 256, batch_first=True)\n",
      "  (pos_decoder_rnn): GRU(20, 256, batch_first=True)\n",
      "  (hidden2mean): Linear(in_features=256, out_features=16, bias=True)\n",
      "  (hidden2logv): Linear(in_features=256, out_features=16, bias=True)\n",
      "  (latent2pos_decoder_hidden): Linear(in_features=16, out_features=256, bias=True)\n",
      "  (outputs2pos): Linear(in_features=256, out_features=16, bias=True)\n",
      "  (pos_encoder_rnn): GRU(20, 256, batch_first=True)\n",
      "  (text_decoder_rnn): GRU(300, 256, batch_first=True)\n",
      "  (latent2pos_encoder_hidden): Linear(in_features=16, out_features=256, bias=True)\n",
      "  (outputs2vocab): Linear(in_features=256, out_features=10293, bias=True)\n",
      ")\n",
      "Model loaded from /root/user/work/src/Sentence-VAE/runs/posvae_eccos_v2_TS=2020-01-05-173701_BS=32_LR=0.001_EB=300_GRU_HS=256_L=1_BI=0_LS=16_WD=0_ANN=LOGISTIC_K=0.0025_X0=2500/models/model_E9.pytorch\n"
     ]
    }
   ],
   "source": [
    "model = load_model(model_path)"
   ]
  },
  {
   "cell_type": "markdown",
   "metadata": {},
   "source": [
    "## sample 指定 inference"
   ]
  },
  {
   "cell_type": "markdown",
   "metadata": {},
   "source": [
    "### load test data"
   ]
  },
  {
   "cell_type": "code",
   "execution_count": 16,
   "metadata": {},
   "outputs": [],
   "source": [
    "from ptb import PTB\n",
    "def load_test_ptb(path):\n",
    "    return PTB(\n",
    "        data_dir=path,\n",
    "        split='test',\n",
    "        create_data=False,\n",
    "    )"
   ]
  },
  {
   "cell_type": "code",
   "execution_count": 17,
   "metadata": {},
   "outputs": [],
   "source": [
    "PTBSet = namedtuple('PTBSet' , 'src tgt pos')"
   ]
  },
  {
   "cell_type": "code",
   "execution_count": 18,
   "metadata": {},
   "outputs": [],
   "source": [
    "ptbs = PTBSet(**{key: load_test_ptb(f'{data_dir}/{key}/') for key in 'src tgt pos'.split(' ')})"
   ]
  },
  {
   "cell_type": "code",
   "execution_count": 19,
   "metadata": {},
   "outputs": [],
   "source": [
    "from utils import ids2text"
   ]
  },
  {
   "cell_type": "code",
   "execution_count": 20,
   "metadata": {},
   "outputs": [],
   "source": [
    "def _sample_data(index, ptb):\n",
    "    sample = ptb.data[f'{index}']\n",
    "    sample_input = to_tensor(sample['input']).view(1,-1).to(dtype=torch.int64)\n",
    "    sample_length = to_tensor([sample['length']]).to(dtype=torch.int64)\n",
    "    return {'input': sample_input, 'length': sample_length}"
   ]
  },
  {
   "cell_type": "code",
   "execution_count": 21,
   "metadata": {},
   "outputs": [],
   "source": [
    "Sequence = namedtuple('Sequence', 'input length')\n",
    "Sample = namedtuple('Sample' , 'src tgt pos')"
   ]
  },
  {
   "cell_type": "code",
   "execution_count": 22,
   "metadata": {},
   "outputs": [],
   "source": [
    "def sample_data(index, ptbs, show=False):\n",
    "    src_sample = Sequence(**_sample_data(index, ptbs.src))\n",
    "    tgt_sample = Sequence(**_sample_data(index, ptbs.tgt))\n",
    "    pos_sample = Sequence(**_sample_data(index, ptbs.pos))\n",
    "    sample = Sample(src=src_sample, tgt=tgt_sample, pos=pos_sample)\n",
    "    if show:\n",
    "        print(f'▼ Input length:{sample.src.length.item()}\\n{ids2text(sample.src.input.squeeze(), vocab.text.i2w)}')\n",
    "        print(f'▼ POS length:{sample.pos.length.item()}\\n{ids2text(sample.pos.input.squeeze(), vocab.pos.i2w, sep=\",\")}')\n",
    "    return sample"
   ]
  },
  {
   "cell_type": "code",
   "execution_count": 23,
   "metadata": {},
   "outputs": [
    {
     "name": "stdout",
     "output_type": "stream",
     "text": [
      "▼ Input length:14\n",
      "毎朝のヒゲ剃り時間が激的に軽減される!?\n",
      "▼ POS length:13\n",
      "名詞,助詞,名詞,名詞,助詞,名詞,名詞,助詞,名詞,動詞,動詞,記号\n"
     ]
    }
   ],
   "source": [
    "# データをピックアップ, 確認\n",
    "sample = sample_data(241, ptbs, show=True)"
   ]
  },
  {
   "cell_type": "markdown",
   "metadata": {},
   "source": [
    "### sampling"
   ]
  },
  {
   "cell_type": "code",
   "execution_count": 24,
   "metadata": {},
   "outputs": [],
   "source": [
    "def encode_z(model, sample):\n",
    "    # z を得るまで\n",
    "    with torch.no_grad():\n",
    "        text_hidden = model.text_encode(sample.src.input, sample.src.length)\n",
    "        mean, logv, z = model.hidden2latent(text_hidden)\n",
    "    return {\n",
    "        'mean': mean,\n",
    "        'logv': logv,\n",
    "        'z': z,\n",
    "    }"
   ]
  },
  {
   "cell_type": "code",
   "execution_count": 25,
   "metadata": {},
   "outputs": [],
   "source": [
    "# torch.distributions.normal.Normal(1, 2).sample((1,))"
   ]
  },
  {
   "cell_type": "code",
   "execution_count": 47,
   "metadata": {},
   "outputs": [],
   "source": [
    "from metric import remove_pad_index"
   ]
  },
  {
   "cell_type": "code",
   "execution_count": 54,
   "metadata": {},
   "outputs": [],
   "source": [
    "def encode_print_samples(model, sample, n=30, pos_list=None, show=True):\n",
    "    # n回サンプリング\n",
    "    args.num_samples = n\n",
    "    encoded_z = encode_z(model, sample)\n",
    "    mean, std = encoded_z['mean'].squeeze(), torch.exp(0.5 * encoded_z['logv']).squeeze()\n",
    "    z_dist = torch.distributions.normal.Normal(mean, std)\n",
    "    z_list = z_dist.sample((n,))\n",
    "    \n",
    "    if pos_list is None:\n",
    "        pos_decoded_ids = model.pos_inference(z=z_list) # z → POS\n",
    "    else:\n",
    "        # POS固定パターン\n",
    "        pos_decoded_ids = to_tensor([vocab.pos.w2i[pos] for pos in pos_list] + [EOS_INDEX], ).to(dtype=torch.int64)\n",
    "        # 各サンプル用に複製\n",
    "        pos_decoded_ids = pos_decoded_ids.repeat(n, 1)\n",
    "    \n",
    "    pos_decoded_input, pos_decoded_length = model.target2input(pos_decoded_ids)  # POS → POS Input\n",
    "    text_decoded_ids = model.text_inference(pos_decoded_input, pos_decoded_length, z_list) # POS Input → Text\n",
    "        \n",
    "    decoded_texts = [ids2text(_ids.squeeze(), vocab.text.i2w) for _ids in text_decoded_ids]\n",
    "    decoded_poses = [ids2text(_ids.squeeze(), vocab.pos.i2w, sep=',') for _ids in pos_decoded_ids]\n",
    "    \n",
    "    input_text = ids2text(sample.src.input.squeeze(), vocab.text.i2w)\n",
    "    input_pos = ids2text(sample.pos.input.squeeze(), vocab.pos.i2w, sep=',')\n",
    "    if show:\n",
    "        print('■ 入力')\n",
    "        print(input_text)\n",
    "        print('■ 入力POS')\n",
    "        print(input_pos)\n",
    "        print(f'■ {args.num_samples}件 サンプリング')\n",
    "    return {\n",
    "        'input_text': input_text,\n",
    "        'input_pos': input_pos,\n",
    "        'df': pd.DataFrame({'生成文': decoded_texts, '生成POS': decoded_poses, \n",
    "                            '生成文_ids': remove_pad_index(text_decoded_ids.tolist()), \n",
    "                            '生成POS_ids': remove_pad_index(pos_decoded_ids.tolist())}),\n",
    "        **encoded_z\n",
    "    }"
   ]
  },
  {
   "cell_type": "code",
   "execution_count": 27,
   "metadata": {},
   "outputs": [],
   "source": [
    "# 存在チェック\n",
    "# df = decode_dict['df']\n",
    "# print(decode_dict['input_pos'])\n",
    "# df[df['生成POS'] == decode_dict['input_pos']]"
   ]
  },
  {
   "cell_type": "code",
   "execution_count": 121,
   "metadata": {},
   "outputs": [],
   "source": [
    "# pos_list = None\n",
    "# pos_list = '副詞,名詞,名詞,名詞'.split(',')\n",
    "# pos_list = '記号,名詞,名詞,記号,名詞'.split(',')\n",
    "pos_list = '記号,接頭詞,名詞,助詞,名詞,記号,助詞,動詞,副詞,名詞,名詞,名詞,助詞,動詞,助詞,動詞,助動詞'.split(',')"
   ]
  },
  {
   "cell_type": "code",
   "execution_count": 123,
   "metadata": {},
   "outputs": [
    {
     "name": "stdout",
     "output_type": "stream",
     "text": [
      "■ 入力\n",
      "お肌が劇的に変わる♡プルプル日中美容クリームを使ってみた\n",
      "■ 入力POS\n",
      "接頭詞,名詞,助詞,名詞,助詞,動詞,記号,副詞,名詞,名詞,名詞,助詞,動詞,助詞,動詞,助動詞\n",
      "■ 10件 サンプリング\n"
     ]
    },
    {
     "data": {
      "text/html": [
       "<div>\n",
       "<style scoped>\n",
       "    .dataframe tbody tr th:only-of-type {\n",
       "        vertical-align: middle;\n",
       "    }\n",
       "\n",
       "    .dataframe tbody tr th {\n",
       "        vertical-align: top;\n",
       "    }\n",
       "\n",
       "    .dataframe thead th {\n",
       "        text-align: right;\n",
       "    }\n",
       "</style>\n",
       "<table border=\"1\" class=\"dataframe\">\n",
       "  <thead>\n",
       "    <tr style=\"text-align: right;\">\n",
       "      <th></th>\n",
       "      <th>生成文</th>\n",
       "      <th>生成POS</th>\n",
       "    </tr>\n",
       "  </thead>\n",
       "  <tbody>\n",
       "    <tr>\n",
       "      <th>0</th>\n",
       "      <td>「お肌の塗り替え」&lt;num&gt;歳主婦が若見えする秘密とは</td>\n",
       "      <td>記号,接頭詞,名詞,助詞,名詞,記号,助詞,動詞,副詞,名詞,名詞,名詞,助詞,動詞,助詞,動詞,助動詞</td>\n",
       "    </tr>\n",
       "    <tr>\n",
       "      <th>1</th>\n",
       "      <td>「お肌に自信あり」保湿力を使ってみたらお肌に</td>\n",
       "      <td>記号,接頭詞,名詞,助詞,名詞,記号,助詞,動詞,副詞,名詞,名詞,名詞,助詞,動詞,助詞,動詞,助動詞</td>\n",
       "    </tr>\n",
       "    <tr>\n",
       "      <th>2</th>\n",
       "      <td>「お肌の塗り替え」&lt;num&gt;歳主婦が若見えする秘密とは</td>\n",
       "      <td>記号,接頭詞,名詞,助詞,名詞,記号,助詞,動詞,副詞,名詞,名詞,名詞,助詞,動詞,助詞,動詞,助動詞</td>\n",
       "    </tr>\n",
       "    <tr>\n",
       "      <th>3</th>\n",
       "      <td>「お肌の調子」を整え続けるその方法知っていた</td>\n",
       "      <td>記号,接頭詞,名詞,助詞,名詞,記号,助詞,動詞,副詞,名詞,名詞,名詞,助詞,動詞,助詞,動詞,助動詞</td>\n",
       "    </tr>\n",
       "    <tr>\n",
       "      <th>4</th>\n",
       "      <td>「お肌に自信あり」塗るだけで毛穴レス肌になる方法が凄かった</td>\n",
       "      <td>記号,接頭詞,名詞,助詞,名詞,記号,助詞,動詞,副詞,名詞,名詞,名詞,助詞,動詞,助詞,動詞,助動詞</td>\n",
       "    </tr>\n",
       "    <tr>\n",
       "      <th>5</th>\n",
       "      <td>【お肌を保護】あの人気タレントも愛用するクレンジングを使ってみた</td>\n",
       "      <td>記号,接頭詞,名詞,助詞,名詞,記号,助詞,動詞,副詞,名詞,名詞,名詞,助詞,動詞,助詞,動詞,助動詞</td>\n",
       "    </tr>\n",
       "    <tr>\n",
       "      <th>6</th>\n",
       "      <td>「お肌の塗り替え」&lt;num&gt;歳主婦が試してみたお肌に</td>\n",
       "      <td>記号,接頭詞,名詞,助詞,名詞,記号,助詞,動詞,副詞,名詞,名詞,名詞,助詞,動詞,助詞,動詞,助動詞</td>\n",
       "    </tr>\n",
       "    <tr>\n",
       "      <th>7</th>\n",
       "      <td>「お肌の調子」を整え続けるお肌に優しいオイルとは</td>\n",
       "      <td>記号,接頭詞,名詞,助詞,名詞,記号,助詞,動詞,副詞,名詞,名詞,名詞,助詞,動詞,助詞,動詞,助動詞</td>\n",
       "    </tr>\n",
       "    <tr>\n",
       "      <th>8</th>\n",
       "      <td>「お肌に自信持てる」お風呂上がりに使ってみたら毛穴汚れがドバッ!</td>\n",
       "      <td>記号,接頭詞,名詞,助詞,名詞,記号,助詞,動詞,副詞,名詞,名詞,名詞,助詞,動詞,助詞,動詞,助動詞</td>\n",
       "    </tr>\n",
       "    <tr>\n",
       "      <th>9</th>\n",
       "      <td>「お肌の救世主」が超使える保湿力とは</td>\n",
       "      <td>記号,接頭詞,名詞,助詞,名詞,記号,助詞,動詞,副詞,名詞,名詞,名詞,助詞,動詞,助詞,動詞,助動詞</td>\n",
       "    </tr>\n",
       "  </tbody>\n",
       "</table>\n",
       "</div>"
      ],
      "text/plain": [
       "                                生成文  \\\n",
       "0       「お肌の塗り替え」<num>歳主婦が若見えする秘密とは   \n",
       "1            「お肌に自信あり」保湿力を使ってみたらお肌に   \n",
       "2       「お肌の塗り替え」<num>歳主婦が若見えする秘密とは   \n",
       "3            「お肌の調子」を整え続けるその方法知っていた   \n",
       "4     「お肌に自信あり」塗るだけで毛穴レス肌になる方法が凄かった   \n",
       "5  【お肌を保護】あの人気タレントも愛用するクレンジングを使ってみた   \n",
       "6        「お肌の塗り替え」<num>歳主婦が試してみたお肌に   \n",
       "7          「お肌の調子」を整え続けるお肌に優しいオイルとは   \n",
       "8  「お肌に自信持てる」お風呂上がりに使ってみたら毛穴汚れがドバッ!   \n",
       "9                「お肌の救世主」が超使える保湿力とは   \n",
       "\n",
       "                                                  生成POS  \n",
       "0  記号,接頭詞,名詞,助詞,名詞,記号,助詞,動詞,副詞,名詞,名詞,名詞,助詞,動詞,助詞,動詞,助動詞  \n",
       "1  記号,接頭詞,名詞,助詞,名詞,記号,助詞,動詞,副詞,名詞,名詞,名詞,助詞,動詞,助詞,動詞,助動詞  \n",
       "2  記号,接頭詞,名詞,助詞,名詞,記号,助詞,動詞,副詞,名詞,名詞,名詞,助詞,動詞,助詞,動詞,助動詞  \n",
       "3  記号,接頭詞,名詞,助詞,名詞,記号,助詞,動詞,副詞,名詞,名詞,名詞,助詞,動詞,助詞,動詞,助動詞  \n",
       "4  記号,接頭詞,名詞,助詞,名詞,記号,助詞,動詞,副詞,名詞,名詞,名詞,助詞,動詞,助詞,動詞,助動詞  \n",
       "5  記号,接頭詞,名詞,助詞,名詞,記号,助詞,動詞,副詞,名詞,名詞,名詞,助詞,動詞,助詞,動詞,助動詞  \n",
       "6  記号,接頭詞,名詞,助詞,名詞,記号,助詞,動詞,副詞,名詞,名詞,名詞,助詞,動詞,助詞,動詞,助動詞  \n",
       "7  記号,接頭詞,名詞,助詞,名詞,記号,助詞,動詞,副詞,名詞,名詞,名詞,助詞,動詞,助詞,動詞,助動詞  \n",
       "8  記号,接頭詞,名詞,助詞,名詞,記号,助詞,動詞,副詞,名詞,名詞,名詞,助詞,動詞,助詞,動詞,助動詞  \n",
       "9  記号,接頭詞,名詞,助詞,名詞,記号,助詞,動詞,副詞,名詞,名詞,名詞,助詞,動詞,助詞,動詞,助動詞  "
      ]
     },
     "execution_count": 123,
     "metadata": {},
     "output_type": "execute_result"
    }
   ],
   "source": [
    "sample = sample_data(4, ptbs)\n",
    "decode_dict = encode_print_samples(model, sample, n=10, pos_list=pos_list)\n",
    "decode_dict['df']['生成文'] = decode_dict['df']['生成文'].apply(lambda x: x.replace('<sep>', ''))\n",
    "# decode_dict['df']['生成文'].to_frame()\n",
    "decode_dict['df'][['生成文', '生成POS']]"
   ]
  },
  {
   "cell_type": "markdown",
   "metadata": {},
   "source": [
    "#### 評価用データ吐き出し"
   ]
  },
  {
   "cell_type": "code",
   "execution_count": 37,
   "metadata": {},
   "outputs": [],
   "source": [
    "# サンプルid指定する場合\n",
    "# sample_num = 50\n",
    "# sample_ids = torch.randint(len(ptbs.src), (sample_num,)).tolist()\n",
    "# sample_ids = [208, 1324, 2018, 323, 1955, 1750, 1294, 1204, 1907, 210, 1473, 576, 802, 814, 421, 772, 1168, 1719, 841, 163, 14, 53, 97, 159, 1197, 459, 1675, 1031, 2298, 1906, 336, 1649, 2077, 1129, 2316, 2382, 499, 2071, 1949, 261, 1875, 951, 1482, 77, 2036, 2034, 849, 631, 1730, 1576]\n",
    "# テストデータ全体の場合\n",
    "sample_ids = range(len(ptbs.src))"
   ]
  },
  {
   "cell_type": "code",
   "execution_count": 61,
   "metadata": {},
   "outputs": [],
   "source": [
    "decode_num = 10"
   ]
  },
  {
   "cell_type": "code",
   "execution_count": 68,
   "metadata": {},
   "outputs": [],
   "source": [
    "def list2dict(key, _list):\n",
    "    return {f'{key}{i}': decoded_text for i, decoded_text in enumerate(_list)}"
   ]
  },
  {
   "cell_type": "code",
   "execution_count": 74,
   "metadata": {},
   "outputs": [
    {
     "name": "stdout",
     "output_type": "stream",
     "text": [
      "0, 100, 200, 300, 400, 500, 600, 700, 800, 900, 1000, 1100, 1200, 1300, 1400, 1500, 1600, 1700, 1800, 1900, 2000, 2100, 2200, 2300, 2400, CPU times: user 9min 5s, sys: 35.6 s, total: 9min 41s\n",
      "Wall time: 9min 41s\n"
     ]
    }
   ],
   "source": [
    "%%time\n",
    "total_decoded_list = []\n",
    "for sample_id in sample_ids:\n",
    "    if sample_id % 100 == 0:\n",
    "        print(sample_id, end=', ')\n",
    "    sample = sample_data(sample_id, ptbs)\n",
    "    decode_dict = encode_print_samples(model, sample, n=decode_num, show=False)\n",
    "    decode_dict['df']['生成文'] = decode_dict['df']['生成文'].apply(lambda x: x.replace('<sep>', ''))    \n",
    "    total_decoded_list.append({'入力文': decode_dict['input_text'].replace('<sep>', ''),\n",
    "                               **list2dict('生成文', decode_dict['df']['生成文'].tolist()),\n",
    "                               **list2dict('生成文_ids', decode_dict['df']['生成文_ids'].tolist()),\n",
    "                               **list2dict('生成POS', decode_dict['df']['生成POS'].tolist()),\n",
    "                               **list2dict('生成POS_ids', decode_dict['df']['生成POS_ids'].tolist()),\n",
    "                              })\n",
    "df_decoded = pd.DataFrame(total_decoded_list)"
   ]
  },
  {
   "cell_type": "code",
   "execution_count": 82,
   "metadata": {},
   "outputs": [],
   "source": [
    "# テストデータ全体のデコード\n",
    "# ! mkdir $f'{runs_dir}/{model_name}/dumps'\n",
    "# df_decoded.to_pickle(f'{runs_dir}/{model_name}/dumps/posvae_eccos_all.pickle',)"
   ]
  },
  {
   "cell_type": "code",
   "execution_count": 339,
   "metadata": {},
   "outputs": [],
   "source": [
    "# サンプルのデコード\n",
    "# ! mkdir $f'{runs_dir}/{model_name}/dumps'\n",
    "# df_decoded.to_csv(f'{runs_dir}/{model_name}/dumps/posvae_eccos.csv')\n",
    "# df_decoded.to_csv(f'{runs_dir}/{model_name}/dumps/posvae_eccos_utf16.csv', encoding='utf-16')"
   ]
  },
  {
   "cell_type": "markdown",
   "metadata": {},
   "source": [
    "#### 品詞指定Decode"
   ]
  },
  {
   "cell_type": "code",
   "execution_count": 85,
   "metadata": {},
   "outputs": [
    {
     "data": {
      "text/html": [
       "<div>\n",
       "<style scoped>\n",
       "    .dataframe tbody tr th:only-of-type {\n",
       "        vertical-align: middle;\n",
       "    }\n",
       "\n",
       "    .dataframe tbody tr th {\n",
       "        vertical-align: top;\n",
       "    }\n",
       "\n",
       "    .dataframe thead th {\n",
       "        text-align: right;\n",
       "    }\n",
       "</style>\n",
       "<table border=\"1\" class=\"dataframe\">\n",
       "  <thead>\n",
       "    <tr style=\"text-align: right;\">\n",
       "      <th></th>\n",
       "      <th>指定POS</th>\n",
       "      <th>生成文</th>\n",
       "    </tr>\n",
       "  </thead>\n",
       "  <tbody>\n",
       "    <tr>\n",
       "      <th>0</th>\n",
       "      <td>名詞</td>\n",
       "      <td>`&lt;unk&gt;&lt;unk&gt;&lt;unk&gt;&lt;unk&gt;の救世主`</td>\n",
       "    </tr>\n",
       "    <tr>\n",
       "      <th>1</th>\n",
       "      <td>名詞 名詞</td>\n",
       "      <td>`&lt;unk&gt;&lt;unk&gt;&lt;unk&gt;&lt;unk&gt;&lt;unk&gt;`</td>\n",
       "    </tr>\n",
       "    <tr>\n",
       "      <th>2</th>\n",
       "      <td>名詞 名詞 名詞</td>\n",
       "      <td>`シミ専用ジェル美容液」が優秀すぎ`</td>\n",
       "    </tr>\n",
       "    <tr>\n",
       "      <th>3</th>\n",
       "      <td>名詞 助詞 名詞 名詞</td>\n",
       "      <td>`&lt;unk&gt;の&lt;num&gt;倍の抗酸化美容液`</td>\n",
       "    </tr>\n",
       "    <tr>\n",
       "      <th>4</th>\n",
       "      <td>名詞 名詞 助詞 名詞</td>\n",
       "      <td>`これ1つで顔のシミ対策`</td>\n",
       "    </tr>\n",
       "    <tr>\n",
       "      <th>5</th>\n",
       "      <td>名詞 名詞 名詞 名詞</td>\n",
       "      <td>`&lt;num&gt;歳主婦必見!&lt;sep&gt;幹細胞美容液`</td>\n",
       "    </tr>\n",
       "    <tr>\n",
       "      <th>6</th>\n",
       "      <td>名詞 名詞 名詞 名詞 名詞</td>\n",
       "      <td>`&lt;num&gt;歳主婦必見!&lt;sep&gt;幹細胞美容液が優秀すぎ`</td>\n",
       "    </tr>\n",
       "  </tbody>\n",
       "</table>\n",
       "</div>"
      ],
      "text/plain": [
       "            指定POS                            生成文\n",
       "0              名詞     `<unk><unk><unk><unk>の救世主`\n",
       "1           名詞 名詞    `<unk><unk><unk><unk><unk>`\n",
       "2        名詞 名詞 名詞             `シミ専用ジェル美容液」が優秀すぎ`\n",
       "3     名詞 助詞 名詞 名詞          `<unk>の<num>倍の抗酸化美容液`\n",
       "4     名詞 名詞 助詞 名詞                  `これ1つで顔のシミ対策`\n",
       "5     名詞 名詞 名詞 名詞       `<num>歳主婦必見!<sep>幹細胞美容液`\n",
       "6  名詞 名詞 名詞 名詞 名詞  `<num>歳主婦必見!<sep>幹細胞美容液が優秀すぎ`"
      ]
     },
     "execution_count": 85,
     "metadata": {},
     "output_type": "execute_result"
    }
   ],
   "source": [
    "# 品詞の並びを指定してDecode\n",
    "poses_list = ['名詞', '名詞 名詞', '名詞 名詞 名詞', '名詞 助詞 名詞 名詞', '名詞 名詞 助詞 名詞', '名詞 名詞 名詞 名詞', '名詞 名詞 名詞 名詞 名詞']\n",
    "_decoded_list = []\n",
    "for pos_list_str in poses_list:\n",
    "    pos_list = pos_list_str.split(' ')\n",
    "    pos_ids = to_tensor([vocab.pos.w2i[pos] for pos in pos_list] + [EOS_INDEX], ).to(dtype=torch.int64).view(1, -1)\n",
    "    pos_input, pos_length = model.target2input(pos_ids)\n",
    "    text_decoded_ids = model.text_inference(pos_input, pos_length, decode_dict['z'].view(1,-1)) # POS Input → Text\n",
    "    decoded_texts = [ids2text(_ids.squeeze(), vocab.text.i2w) for _ids in text_decoded_ids]\n",
    "    _decoded_list.append({'指定POS': pos_list_str, '生成文': f'`{decoded_texts[0]}`'})\n",
    "df_decode_by_pos = pd.DataFrame(_decoded_list)\n",
    "df_decode_by_pos"
   ]
  },
  {
   "cell_type": "code",
   "execution_count": 211,
   "metadata": {},
   "outputs": [],
   "source": [
    "# import pytablewriter\n",
    "# _df = decode_dict['df'].copy()\n",
    "# _df['生成文'] = _df['生成文'].apply(lambda x: f'`{x}`')\n",
    "# # _df = df_decode_by_pos\n",
    "\n",
    "# writer = pytablewriter.MarkdownTableWriter()\n",
    "# writer.from_dataframe(_df)\n",
    "# writer.write_table()"
   ]
  },
  {
   "cell_type": "markdown",
   "metadata": {},
   "source": [
    "## 潜在空間のプロット\n",
    "圧縮して分布を確認してみる"
   ]
  },
  {
   "cell_type": "code",
   "execution_count": 27,
   "metadata": {},
   "outputs": [],
   "source": [
    "import umap.umap_ as umap"
   ]
  },
  {
   "cell_type": "code",
   "execution_count": 28,
   "metadata": {},
   "outputs": [],
   "source": [
    "# 描画用\n",
    "# https://github.com/lmcinnes/umap/blob/master/notebooks/UMAP%20usage%20and%20parameters.ipynb\n",
    "import numpy as np\n",
    "import matplotlib.pyplot as plt\n",
    "from mpl_toolkits.mplot3d import Axes3D\n",
    "import seaborn as sns\n",
    "%matplotlib inline\n",
    "sns.set(style='white', rc={'figure.figsize':(12,8)})\n",
    "def plot_scatter(u, title=''):\n",
    "    fig = plt.figure()\n",
    "    n_components = u.shape[1]\n",
    "    plot_kwargs = {'alpha': 0.5, 's':5}\n",
    "    if n_components == 1:\n",
    "        ax = fig.add_subplot(111)\n",
    "        ax.scatter(u[:,0], range(len(u)), **plot_kwargs)\n",
    "    if n_components == 2:\n",
    "        ax = fig.add_subplot(111)\n",
    "        ax.scatter(u[:,0], u[:,1], **plot_kwargs)\n",
    "    if n_components == 3:\n",
    "        ax = fig.add_subplot(111, projection='3d', **plot_kwargs)\n",
    "        ax.scatter(u[:,0], u[:,1], u[:,2])\n",
    "    plt.title(title, fontsize=18)"
   ]
  },
  {
   "cell_type": "markdown",
   "metadata": {},
   "source": [
    "### load test data"
   ]
  },
  {
   "cell_type": "code",
   "execution_count": 30,
   "metadata": {},
   "outputs": [],
   "source": [
    "def sample_to_tensor(sample_text):\n",
    "    sample_input = to_tensor(sample_text.input).view(1,-1).to(dtype=torch.int64)\n",
    "    sample_length = to_tensor([sample_text.length]).to(dtype=torch.int64)\n",
    "    return sample_input, sample_length"
   ]
  },
  {
   "cell_type": "code",
   "execution_count": 31,
   "metadata": {},
   "outputs": [],
   "source": [
    "samples = [sample_data(i, ptbs) for i in range(len(ptbs.src))]"
   ]
  },
  {
   "cell_type": "code",
   "execution_count": 34,
   "metadata": {},
   "outputs": [
    {
     "name": "stdout",
     "output_type": "stream",
     "text": [
      "Encode...\n",
      "CPU times: user 3.39 s, sys: 266 ms, total: 3.66 s\n",
      "Wall time: 3.66 s\n"
     ]
    }
   ],
   "source": [
    "%%time\n",
    "# テストデータを潜在変数に変換\n",
    "with torch.no_grad():\n",
    "    # encoded_samples = [model.encode(*sample_to_tensor(sample)) for i, sample in test_ptb.data.items()]\n",
    "    print('Encode...')    \n",
    "    encoded_z_list = [encode_z(model, sample) for sample in samples]\n",
    "    encoded_mean_list = [z['mean'].tolist() for z in encoded_z_list]"
   ]
  },
  {
   "cell_type": "code",
   "execution_count": 36,
   "metadata": {},
   "outputs": [],
   "source": [
    "encoded_mean_arr = np.array(encoded_mean_list).squeeze()"
   ]
  },
  {
   "cell_type": "code",
   "execution_count": 37,
   "metadata": {},
   "outputs": [],
   "source": [
    "import warnings\n",
    "warnings.filterwarnings('ignore')"
   ]
  },
  {
   "cell_type": "code",
   "execution_count": 38,
   "metadata": {},
   "outputs": [
    {
     "name": "stdout",
     "output_type": "stream",
     "text": [
      "CPU times: user 11.1 s, sys: 598 ms, total: 11.7 s\n",
      "Wall time: 12.1 s\n"
     ]
    }
   ],
   "source": [
    "%%time\n",
    "mean_u = umap.UMAP().fit_transform(encoded_mean_arr)"
   ]
  },
  {
   "cell_type": "code",
   "execution_count": 39,
   "metadata": {},
   "outputs": [
    {
     "data": {
      "image/png": "[encoded data removed]",
      "text/plain": [
       "<Figure size 864x576 with 1 Axes>"
      ]
     },
     "metadata": {},
     "output_type": "display_data"
    }
   ],
   "source": [
    "plot_scatter(mean_u)"
   ]
  },
  {
   "cell_type": "markdown",
   "metadata": {},
   "source": [
    "### TensorBoard Embedding Projectorへ"
   ]
  },
  {
   "cell_type": "code",
   "execution_count": 56,
   "metadata": {},
   "outputs": [
    {
     "name": "stdout",
     "output_type": "stream",
     "text": [
      "/root/user/work/src/Sentence-VAE/runs/posvae_eccos_v2_TS=2020-01-05-173701_BS=32_LR=0.001_EB=300_GRU_HS=256_L=1_BI=0_LS=16_WD=0_ANN=LOGISTIC_K=0.0025_X0=2500/posvae_eccos_v2_embeddings\n"
     ]
    }
   ],
   "source": [
    "import pandas as pd\n",
    "limit = 5000\n",
    "df = pd.DataFrame(ptbs.src.data).T\n",
    "test_label_list = [ids2text(target, vocab.text.i2w) for target in df.target.tolist()]\n",
    "from torch.utils.tensorboard import SummaryWriter\n",
    "save_dir = f'{runs_dir}/{model_name}/posvae_eccos_v2_embeddings'\n",
    "print(save_dir)\n",
    "writer = SummaryWriter(save_dir)\n",
    "writer.add_embedding(torch.FloatTensor(encoded_mean_arr[:limit]), metadata=test_label_list[:limit])"
   ]
  }
 ],
 "metadata": {
  "kernelspec": {
   "display_name": "Python 3",
   "language": "python",
   "name": "python3"
  },
  "language_info": {
   "codemirror_mode": {
    "name": "ipython",
    "version": 3
   },
   "file_extension": ".py",
   "mimetype": "text/x-python",
   "name": "python",
   "nbconvert_exporter": "python",
   "pygments_lexer": "ipython3",
   "version": "3.7.6"
  }
 },
 "nbformat": 4,
 "nbformat_minor": 2
}
