{
 "cells": [
  {
   "cell_type": "markdown",
   "metadata": {},
   "source": [
    "# Inference"
   ]
  },
  {
   "cell_type": "code",
   "execution_count": 1,
   "metadata": {},
   "outputs": [],
   "source": [
    "import os\n",
    "import json\n",
    "import torch\n",
    "import argparse\n",
    "\n",
    "from model_cvae import SentenceVAE\n",
    "from utils import to_var, idx2word, interpolate, AttributeDict"
   ]
  },
  {
   "cell_type": "code",
   "execution_count": 2,
   "metadata": {},
   "outputs": [],
   "source": [
    "model_dict = {\n",
    "    'cvae_bowloss': './bin/2019-Dec-01-08:47:43/E9.pytorch',\n",
    "    'cvae_latent200': './bin/2019-Dec-01-10:27:08/E9.pytorch',\n",
    "    'cvae_bowloss_latent200': './bin/2019-Dec-01-10:25:05/E9.pytorch',\n",
    "}"
   ]
  },
  {
   "cell_type": "code",
   "execution_count": 3,
   "metadata": {},
   "outputs": [],
   "source": [
    "args = {\n",
    "    'num_samples': 10,\n",
    "    'max_sequence_length': 50,\n",
    "    'embedding_size': 300,\n",
    "    'rnn_type': 'gru',\n",
    "    'hidden_size': 256,\n",
    "    'word_dropout': 0,\n",
    "    'embedding_dropout': 0.5,\n",
    "    'num_layers': 1,\n",
    "    'bidirectional': False\n",
    "}\n",
    "args = AttributeDict(args)\n",
    "args.rnn_type = args.rnn_type.lower()\n",
    "assert args.rnn_type in ['rnn', 'lstm', 'gru']\n",
    "assert 0 <= args.word_dropout <= 1"
   ]
  },
  {
   "cell_type": "markdown",
   "metadata": {},
   "source": [
    "## utils"
   ]
  },
  {
   "cell_type": "code",
   "execution_count": 4,
   "metadata": {},
   "outputs": [],
   "source": [
    "def to_tensor(arr_like, cuda=True):\n",
    "    tensor = torch.Tensor(arr_like)\n",
    "    return tensor if not cuda else tensor.cuda()"
   ]
  },
  {
   "cell_type": "markdown",
   "metadata": {},
   "source": [
    "## load vocab"
   ]
  },
  {
   "cell_type": "code",
   "execution_count": 5,
   "metadata": {},
   "outputs": [],
   "source": [
    "with open('./data/eccos/src/ptb.vocab.json', 'r') as file:\n",
    "        src_vocab = json.load(file)\n",
    "src_w2i, src_i2w = src_vocab['w2i'], src_vocab['i2w']"
   ]
  },
  {
   "cell_type": "code",
   "execution_count": 6,
   "metadata": {},
   "outputs": [],
   "source": [
    "with open('./data/eccos/tgt/ptb.vocab.json', 'r') as file:\n",
    "        tgt_vocab = json.load(file)\n",
    "tgt_w2i, tgt_i2w = tgt_vocab['w2i'], tgt_vocab['i2w']"
   ]
  },
  {
   "cell_type": "code",
   "execution_count": 7,
   "metadata": {},
   "outputs": [
    {
     "data": {
      "text/plain": [
       "(5619, 12106)"
      ]
     },
     "execution_count": 7,
     "metadata": {},
     "output_type": "execute_result"
    }
   ],
   "source": [
    "len(src_w2i), len(tgt_w2i)"
   ]
  },
  {
   "cell_type": "code",
   "execution_count": 8,
   "metadata": {},
   "outputs": [],
   "source": [
    "# args.obj['cond_embedding_size'] = 300\n",
    "# args.obj['cond_hidden_size'] = 256"
   ]
  },
  {
   "cell_type": "markdown",
   "metadata": {},
   "source": [
    "## load model"
   ]
  },
  {
   "cell_type": "code",
   "execution_count": 9,
   "metadata": {},
   "outputs": [],
   "source": [
    "from ptb import SOS_INDEX, EOS_INDEX, PAD_INDEX, UNK_INDEX"
   ]
  },
  {
   "cell_type": "code",
   "execution_count": 10,
   "metadata": {},
   "outputs": [],
   "source": [
    "def load_model(path):\n",
    "    _dict = torch.load(path)\n",
    "    model_shapes = {k: v.shape for k,v in _dict.items()}\n",
    "    ext_kwargs = {}\n",
    "    \n",
    "    # BOW Loss\n",
    "    bow_hidden_shape = model_shapes.get('latent2bow.0.weight')\n",
    "    use_bow_loss = bow_hidden_shape is not None\n",
    "    print(f'BOW Loss: {use_bow_loss}')\n",
    "    if use_bow_loss:\n",
    "        print(f'bow_hidden_size: {bow_hidden_shape[0]}')\n",
    "        ext_kwargs['bow_hidden_size'] = bow_hidden_shape[0]\n",
    "    else:\n",
    "        ext_kwargs['use_bow_loss'] = False\n",
    "    \n",
    "    # Latent size\n",
    "    latent_size = model_shapes.get('hidden2logv.bias')[0]\n",
    "    print(f'Latent size: {latent_size}')\n",
    "    \n",
    "    model = SentenceVAE(\n",
    "        vocab_size=len(tgt_w2i),\n",
    "        sos_idx=SOS_INDEX,\n",
    "        eos_idx=EOS_INDEX,\n",
    "        pad_idx=PAD_INDEX,\n",
    "        unk_idx=UNK_INDEX,\n",
    "        max_sequence_length=args.max_sequence_length,\n",
    "        embedding_size=args.embedding_size,\n",
    "        rnn_type=args.rnn_type,\n",
    "        hidden_size=args.hidden_size,\n",
    "        word_dropout=args.word_dropout,\n",
    "        embedding_dropout=args.embedding_dropout,\n",
    "        latent_size=latent_size,\n",
    "        num_layers=args.num_layers,\n",
    "        bidirectional=args.bidirectional,\n",
    "\n",
    "        # condional\n",
    "        cond_vocab_size=len(src_w2i), \n",
    "        cond_embedding_size=args.embedding_size,\n",
    "        cond_hidden_size=256,\n",
    "        \n",
    "        **ext_kwargs,\n",
    "    )\n",
    "    \n",
    "    if not os.path.exists(path):\n",
    "        raise FileNotFoundError(path)\n",
    "\n",
    "    model.load_state_dict(torch.load(path))\n",
    "    print(\"Model loaded from %s\"%(path))\n",
    "\n",
    "    if torch.cuda.is_available():\n",
    "        model = model.cuda()\n",
    "        \n",
    "    model.eval()\n",
    "    return model"
   ]
  },
  {
   "cell_type": "markdown",
   "metadata": {},
   "source": [
    "## sample 指定 inference"
   ]
  },
  {
   "cell_type": "markdown",
   "metadata": {},
   "source": [
    "### load test data"
   ]
  },
  {
   "cell_type": "code",
   "execution_count": 11,
   "metadata": {},
   "outputs": [],
   "source": [
    "from ptb import PTB\n",
    "test_src_ptb = PTB(\n",
    "    data_dir='./data/eccos/src/',\n",
    "    split='test',\n",
    "    create_data=False,\n",
    ")"
   ]
  },
  {
   "cell_type": "code",
   "execution_count": 12,
   "metadata": {},
   "outputs": [
    {
     "data": {
      "text/plain": [
       "<ptb.PTB at 0x7f061038a898>"
      ]
     },
     "execution_count": 12,
     "metadata": {},
     "output_type": "execute_result"
    }
   ],
   "source": [
    "test_src_ptb"
   ]
  },
  {
   "cell_type": "code",
   "execution_count": 13,
   "metadata": {},
   "outputs": [],
   "source": [
    "# 実際のデータ確認用\n",
    "def ids2text(id_list, ptb, sep=''):\n",
    "    return sep.join([ptb.i2w[f'{i}'] for i in id_list])"
   ]
  },
  {
   "cell_type": "code",
   "execution_count": 14,
   "metadata": {},
   "outputs": [],
   "source": [
    "def words2ids(words, ptb):\n",
    "    assert type(words) == list\n",
    "    return [test_src_ptb.w2i.get(word, UNK_INDEX) for word in words]\n",
    "\n",
    "def words2sample(words, ptb):\n",
    "    id_list = [SOS_INDEX] + words2ids(words, ptb)\n",
    "    sample = {'input': id_list, 'length': len(id_list)}\n",
    "    return sample"
   ]
  },
  {
   "cell_type": "code",
   "execution_count": 15,
   "metadata": {},
   "outputs": [
    {
     "name": "stdout",
     "output_type": "stream",
     "text": [
      "▼ Input length:4\n",
      "<sos> ランキング 化粧品 人気\n"
     ]
    }
   ],
   "source": [
    "# データをピックアップ, 確認\n",
    "sample = words2sample('ランキング 化粧品 人気'.split(), test_src_ptb)\n",
    "# sample = test_src_ptb.data['240']\n",
    "print(f'▼ Input length:{sample[\"length\"]}\\n{ids2text(sample[\"input\"], test_src_ptb, \" \")}')\n",
    "sample_input = to_tensor(sample['input']).view(1,-1).to(dtype=torch.int64)\n",
    "sample_length = to_tensor([sample['length']]).to(dtype=torch.int64)"
   ]
  },
  {
   "cell_type": "markdown",
   "metadata": {},
   "source": [
    "### sampling"
   ]
  },
  {
   "cell_type": "code",
   "execution_count": 16,
   "metadata": {},
   "outputs": [],
   "source": [
    "def encode_condition(model, sample_input, sample_length):\n",
    "    # 潜在変数zの取得 condition\n",
    "    cond_hidden, cond_mean, cond_logv, cond_z = model.encode_condition(sample_input, sample_length)\n",
    "    dec_input = torch.cat([cond_z, cond_hidden], dim=1)\n",
    "    return dec_input"
   ]
  },
  {
   "cell_type": "code",
   "execution_count": 17,
   "metadata": {},
   "outputs": [],
   "source": [
    "def encode_print_samples(model, sample_input, sample_length, n=30):\n",
    "    # n回サンプリング\n",
    "    args.num_samples = n\n",
    "    dec_input = torch.cat([encode_condition(model, sample_input, sample_length) for _ in range(args.num_samples)])\n",
    "    samples, _ = model.inference(z=dec_input)\n",
    "    print('■ 入力')\n",
    "    print(*idx2word(torch.Tensor(sample['input']).int().view(1, -1), i2w=src_i2w, pad_idx=PAD_INDEX), sep='\\n')\n",
    "    print(f'■ {args.num_samples}件 サンプリング')\n",
    "    print(*[s.replace('<eos>', '').replace(' ', '') for s in idx2word(samples, i2w=tgt_i2w, pad_idx=PAD_INDEX)], sep='\\n')"
   ]
  },
  {
   "cell_type": "code",
   "execution_count": 18,
   "metadata": {},
   "outputs": [
    {
     "data": {
      "text/plain": [
       "{'cvae_bowloss': './bin/2019-Dec-01-08:47:43/E9.pytorch',\n",
       " 'cvae_latent200': './bin/2019-Dec-01-10:27:08/E9.pytorch',\n",
       " 'cvae_bowloss_latent200': './bin/2019-Dec-01-10:25:05/E9.pytorch'}"
      ]
     },
     "execution_count": 18,
     "metadata": {},
     "output_type": "execute_result"
    }
   ],
   "source": [
    "model_dict"
   ]
  },
  {
   "cell_type": "code",
   "execution_count": 19,
   "metadata": {},
   "outputs": [
    {
     "name": "stdout",
     "output_type": "stream",
     "text": [
      "BOW Loss: True\n",
      "bow_hidden_size: 256\n",
      "Latent size: 200\n",
      "Model loaded from ./bin/2019-Dec-01-10:25:05/E9.pytorch\n"
     ]
    }
   ],
   "source": [
    "# model = load_model(model_dict['cvae_bowloss'])\n",
    "model = load_model(model_dict['cvae_bowloss_latent200'])"
   ]
  },
  {
   "cell_type": "code",
   "execution_count": 20,
   "metadata": {},
   "outputs": [
    {
     "name": "stdout",
     "output_type": "stream",
     "text": [
      "■ 入力\n",
      "<sos> ランキング 化粧品 人気\n",
      "■ 30件 サンプリング\n",
      "本当に人気ランキング<num>位を紹介♪優秀人気化粧品【口コミ】\n",
      "化粧品の種類で人気コスメがリニューアル!オーガニック商品【<unk>】\n",
      "人気化粧品の化粧品で揃う?化粧品の<unk>だけじゃない、優秀な「<unk>」を✓\n",
      "化粧品の人気コスメセット【ティント】<num>本!絶対に買うべき!\n",
      "ランキング人気の化粧品たちがこぞって登場!\n",
      "【優しい】ヴォリュプテティントインバーム化粧品「化粧品」|人気の<num>年版\n",
      "人気化粧品の人気シングルアイカラー【化粧品/<person>一覧】\n",
      "化粧品ランキング(化粧品)人気だった!これ一つの口コミが続々なる♪\n",
      "人気の化粧品ランキング&人気コスメがインスタ!人気では人気の<unk>\n",
      "化粧品通【<person>】人気の化粧品がセットで使える<person>\n",
      "人気化粧品の化粧品ランキング【価格・美容】イスラエル<num>選\n",
      "[人気化粧品】<num>年の「植物化粧品」がめちゃお手軽に集結\n",
      "人気化粧品の方法がこぞってリニューアルした!<unk>に癒されるヘレナルビンスタインがすごい\n",
      "人気化粧品ブランドの<unk>コスメまとめ(゚)まとめ\n",
      "人気化粧品の人気コスメまとめ\n",
      "人気化粧品の<unk>ランキングをプレゼントに使える固形ランキング♡キャンメイクのお手入れブランドがおすすめブランド\n",
      "人気ランキングランキングの使い方<num>品\n",
      "化粧品別化粧水!人気の基礎化粧品も嬉しい\n",
      "人気化粧品に<unk>!人気のコスメが続々登場する女性用<num>選\n",
      "人気リップのクレンジングランキング|<person>でも安心\n",
      "ランキング人気ランキング!人気沸騰中の方法をご紹介します♡\n",
      "化粧品化粧品【メイベリン】化粧品のオーガニックアイテムがカギ【<person>】<num>年版\n",
      "人気インスタグラマーの人気ブランド<num>年連続「<unk>」は、<person>の使い方!\n",
      "【ランキング発!】<person>たちが使ってる♡感動の優秀コスメはコレ\n",
      "化粧品ブランドの「<unk>」に人気方法まとめ。<num>種類は「<unk>」が販売開始います♡\n",
      "【化粧品】の人気化粧品で<num>年秋冬の栄養さ\n",
      "化粧品ランキング!人気化粧品のメリットが本当に使えるアイテムを徹底解剖\n",
      "化粧品業界・ランキング!口コミで人気の「プチプラアイシャドウ」はコレ\n",
      "人気なシャンプーの化粧品ブランドが嬉しいシャンプーとしても使える!\n",
      "人気の化粧品okok♡リニューアル<unk>がリニューアルする新商品【<num>円】\n"
     ]
    }
   ],
   "source": [
    "encode_print_samples(model, sample_input, sample_length, 30)"
   ]
  },
  {
   "cell_type": "markdown",
   "metadata": {},
   "source": [
    "## 潜在空間のプロット\n",
    "圧縮して分布を確認してみる"
   ]
  },
  {
   "cell_type": "code",
   "execution_count": 21,
   "metadata": {},
   "outputs": [],
   "source": [
    "import umap.umap_ as umap"
   ]
  },
  {
   "cell_type": "code",
   "execution_count": 22,
   "metadata": {},
   "outputs": [],
   "source": [
    "# 描画用\n",
    "# https://github.com/lmcinnes/umap/blob/master/notebooks/UMAP%20usage%20and%20parameters.ipynb\n",
    "import numpy as np\n",
    "import matplotlib.pyplot as plt\n",
    "from mpl_toolkits.mplot3d import Axes3D\n",
    "import seaborn as sns\n",
    "%matplotlib inline\n",
    "sns.set(style='white', rc={'figure.figsize':(12,8)})\n",
    "def plot_scatter(u, title=''):\n",
    "    fig = plt.figure()\n",
    "    n_components = u.shape[1]\n",
    "    plot_kwargs = {'alpha': 0.5, 's':5}\n",
    "    if n_components == 1:\n",
    "        ax = fig.add_subplot(111)\n",
    "        ax.scatter(u[:,0], range(len(u)), **plot_kwargs)\n",
    "    if n_components == 2:\n",
    "        ax = fig.add_subplot(111)\n",
    "        ax.scatter(u[:,0], u[:,1], **plot_kwargs)\n",
    "    if n_components == 3:\n",
    "        ax = fig.add_subplot(111, projection='3d', **plot_kwargs)\n",
    "        ax.scatter(u[:,0], u[:,1], u[:,2])\n",
    "    plt.title(title, fontsize=18)"
   ]
  },
  {
   "cell_type": "markdown",
   "metadata": {},
   "source": [
    "### load test data"
   ]
  },
  {
   "cell_type": "code",
   "execution_count": 23,
   "metadata": {},
   "outputs": [],
   "source": [
    "from ptb import PTB\n",
    "test_ptb = PTB(\n",
    "    data_dir='./data/eccos/src/',\n",
    "    split='test',\n",
    "    create_data=False,\n",
    ")"
   ]
  },
  {
   "cell_type": "code",
   "execution_count": 24,
   "metadata": {},
   "outputs": [],
   "source": [
    "def sample_to_tensor(sample):\n",
    "    sample_input = to_tensor(sample['input']).view(1,-1).to(dtype=torch.int64)\n",
    "    sample_length = to_tensor([sample['length']]).to(dtype=torch.int64)\n",
    "    return sample_input, sample_length"
   ]
  },
  {
   "cell_type": "code",
   "execution_count": 25,
   "metadata": {},
   "outputs": [
    {
     "name": "stdout",
     "output_type": "stream",
     "text": [
      "CPU times: user 12.3 s, sys: 361 ms, total: 12.7 s\n",
      "Wall time: 12.7 s\n"
     ]
    }
   ],
   "source": [
    "%%time\n",
    "# テストデータを潜在変数に変換\n",
    "with torch.no_grad():\n",
    "    # encoded_samples = [model.encode(*sample_to_tensor(sample)) for i, sample in test_ptb.data.items()]\n",
    "    encoded_samples = [model.encode_condition(*sample_to_tensor(sample)) for i, sample in test_ptb.data.items()]\n",
    "    encoded_mean_list = [cond_mean.tolist() for cond_hidden, cond_mean, cond_logv, cond_z in encoded_samples]"
   ]
  },
  {
   "cell_type": "code",
   "execution_count": 26,
   "metadata": {},
   "outputs": [],
   "source": [
    "encoded_mean_arr = np.array(encoded_mean_list).squeeze()"
   ]
  },
  {
   "cell_type": "code",
   "execution_count": 27,
   "metadata": {},
   "outputs": [],
   "source": [
    "import warnings\n",
    "warnings.filterwarnings('ignore')"
   ]
  },
  {
   "cell_type": "code",
   "execution_count": 28,
   "metadata": {},
   "outputs": [
    {
     "name": "stdout",
     "output_type": "stream",
     "text": [
      "CPU times: user 37.9 s, sys: 163 ms, total: 38.1 s\n",
      "Wall time: 37.6 s\n"
     ]
    }
   ],
   "source": [
    "%%time\n",
    "mean_u = umap.UMAP().fit_transform(encoded_mean_arr)"
   ]
  },
  {
   "cell_type": "code",
   "execution_count": 29,
   "metadata": {},
   "outputs": [
    {
     "data": {
      "image/png": "[encoded data removed]",
      "text/plain": [
       "<Figure size 432x288 with 1 Axes>"
      ]
     },
     "metadata": {
      "needs_background": "light"
     },
     "output_type": "display_data"
    }
   ],
   "source": [
    "plot_scatter(mean_u)"
   ]
  }
 ],
 "metadata": {
  "kernelspec": {
   "display_name": "Python 3",
   "language": "python",
   "name": "python3"
  },
  "language_info": {
   "codemirror_mode": {
    "name": "ipython",
    "version": 3
   },
   "file_extension": ".py",
   "mimetype": "text/x-python",
   "name": "python",
   "nbconvert_exporter": "python",
   "pygments_lexer": "ipython3",
   "version": "3.7.3"
  }
 },
 "nbformat": 4,
 "nbformat_minor": 2
}
